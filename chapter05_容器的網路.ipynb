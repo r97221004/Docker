{
 "cells": [
  {
   "cell_type": "markdown",
   "id": "0bccb8b5",
   "metadata": {},
   "source": [
    "# 網路的基礎知識"
   ]
  },
  {
   "cell_type": "markdown",
   "id": "3aa3c84c",
   "metadata": {},
   "source": [
    "### 網絡的基本概念"
   ]
  },
  {
   "cell_type": "raw",
   "id": "b3c68f3a",
   "metadata": {},
   "source": [
    "客戶端:應用 C/S（客戶端/服務器） B/S（瀏覽器/服務器）\n",
    "服務器：為客戶端提供服務、數據、資源的機器\n",
    "請求：客戶端向服務器索取數據\n",
    "響應：服務器對客戶端請求作出反應，一般是返回給客戶端數據"
   ]
  },
  {
   "cell_type": "markdown",
   "id": "de34ce93",
   "metadata": {},
   "source": [
    "<img src=\"img/15.png\">"
   ]
  },
  {
   "cell_type": "markdown",
   "id": "cef0646f",
   "metadata": {},
   "source": [
    "### URL"
   ]
  },
  {
   "cell_type": "code",
   "execution_count": null,
   "id": "e378575e",
   "metadata": {},
   "outputs": [],
   "source": [
    "Uniform Resource Locator（統一資源定位符）\n",
    "網路中每一個資源都對應唯一的地址—— URL"
   ]
  },
  {
   "cell_type": "markdown",
   "id": "e395233b",
   "metadata": {},
   "source": [
    "### IP地址"
   ]
  },
  {
   "cell_type": "raw",
   "id": "acf1eb38",
   "metadata": {},
   "source": [
    "IP 地址是 IP 協議提供的一種統一的地址格式，它為互聯網上的每一個網絡和每一台主機分配一個邏輯地址，以此來屏蔽物理地址（每個機器都有一個編碼，如 MAC 上就有一個叫 MAC 地址的東西）的差異。是 32 位二進制數據，通常以十進制表示，並以 “.” 分隔。IP 地址是一種邏輯地地址，用來標識網絡中一個個主機，在本地局域網上是惟一的。計算機系統的 IP 地址相當於我們人的“身份證號”，每個人的都不同，由於 IP 地址各不相同，才能保證了 IP 協議能讓各個計算機之間能夠正常通訊。"
   ]
  },
  {
   "cell_type": "markdown",
   "id": "75dceac4",
   "metadata": {},
   "source": [
    "### IP協議"
   ]
  },
  {
   "cell_type": "raw",
   "id": "cc075d91",
   "metadata": {},
   "source": [
    "IP 協議（網絡之間互連的協議）它是能使連接到網上的所有計算機網絡實現相互通信的一套規則，規定了計算機在因特網上進行通信時應當遵守的規則。任何廠家生產的計算機系統，只要遵守 IP 協議就可以與因特網互連互通。IP 地址有唯一性，即每台機器的 IP 地址在全世界是唯一的。這裏指的是網絡上的真實 IP 它是通過本機 IP 地址和子網掩碼的 \"與\" 運算然後再通過各種處理算出來的（要遵守 TCP 協議還要加報文及端口什麽的，我沒有細追究，現在還用不上，反正暫時知道被處理過的就行了）。"
   ]
  },
  {
   "cell_type": "markdown",
   "id": "20cfdb7c",
   "metadata": {},
   "source": [
    "### 子網掩碼"
   ]
  },
  {
   "cell_type": "raw",
   "id": "977393f8",
   "metadata": {},
   "source": [
    "要想理解什麽是子網掩碼，就不能不了解 IP 地址的構成。互聯網是由許多小型網絡構成的，每個網絡上都有許多主機，這樣便構成了一個有層次的結構。IP 地址在設計時就考慮到地址分配的層次特點，將每個 IP 地址都分割成網絡號和主機號兩部分，以便於 IP 地址的尋址操作。IP 地址的網絡號和主機號各是多少位呢？如果不指定，就不知道哪些位是網絡號、哪些是主機號，這就需要通過子網掩碼來實現。什麽是子網掩碼? 子網掩碼不能單獨存在，它必須結合 IP 地址一起使用。子網掩碼只有一個作用，就是將某個 IP 地址劃分成網絡地址和主機地址兩部分。子網掩碼的設定必須遵循一定的規則。與 IP 地址相同，子網掩碼的長度也是 32 位，左邊是網絡位，用二進制數字 “1” 表示；右邊是主機位，用二進制數字 “0” 表示。假設 IP 地址為 “192.168.1.1” 子網掩碼為 “255.255.255.0”。其中，“1” 有 24 個，代表與此相對應的 IP 地址左邊24位是網絡號；“0” 有 8 個，代表與此相對應的IP地址右邊 8 位是主機號。這樣，子網掩碼就確定了一個 IP 地址的 32 位二進制數字中哪些是網絡號、哪些是主機號。這對於採用 TCP/IP 協議的網絡來說非常重要，只有通過子網掩碼，才能表明一台主機所在的子網與其他子網的關系，使網絡正常工作。\n",
    "\n",
    "常用的子網掩碼有數百種，這裏只介紹最常用的兩種子網掩碼。\n",
    "子網掩碼是 “255.255.255.0” 的網絡：\n",
    "最後面一個數字可以在 0~255 範圍內任意變化，因此可以提供 256 個 IP 地址。但是實際可用的 IP 地址數量是 256-2，即 254 個，因為主機號不能全是 “0” 或全是 “1”。\n",
    "\n",
    "子網掩碼是 “255.255.0.0” 的網絡：\n",
    "後面兩個數字可以在 0~255 範圍內任意變化，可以提供255²個 IP 地址。但是實際可用的 IP 地址數量是 255²-2，即 65023 個。\n",
    "\n",
    "IP 地址的子網掩碼設置不是任意的。如果將子網掩碼設置過大，也就是說子網範圍擴大，那麽，根據子網尋徑規則，很可能發往和本地主機不在同一子網內的目標主機的數據，會因為錯誤的判斷而認為目標主機是在同一子網內，那麽，數據包將在本子網內循環，直到超時並拋棄，使數據不能正確到達目標主機，導致網絡傳輸錯誤；如果將子網掩碼設置得過小，那麽就會將本來屬於同一子網內的機器之間的通信當做是跨子網傳輸，數據包都交給缺省網關處理，這樣勢必增加缺省網關 (文章下方有解釋) 的負擔，造成網絡效率下降。因此，子網掩碼應該根據網絡的規模進行設置。如果一個網絡的規模不超過254 台電腦，採用 “255.255.255.0” 作為子網掩碼就可以了，現在大多數局域網都不會超過這個數字，因此 “255.255.255.0” 是最常用的 IP 地址子網掩碼；假如在一所大學具有 1500 多台電腦，這種規模的局域網可以使用 “255.255.0.0”。"
   ]
  },
  {
   "cell_type": "markdown",
   "id": "07c1f3fd",
   "metadata": {},
   "source": [
    "### 網關(閘道器) Gateway"
   ]
  },
  {
   "cell_type": "raw",
   "id": "e84381f0",
   "metadata": {},
   "source": [
    "網關實質上是一個網絡通向其他網絡的 IP 地址。比如有網絡 A 和網絡 B，網絡 A 的 IP 地址範圍為 “192.168.1.1~192.168.1.254”，子網掩碼為255.255.255.0；網絡 B 的 IP 地址範圍為 “192.168.2.1~192.168.2.254”，子網掩碼為 255.255.255.0。在沒有路由器的情況下，兩個網絡之間是不能進行 TCP/IP 通信的，即使是兩個網絡連接在同一台交換機（或集線器）上，TCP/IP 協議也會根據子網掩碼（255.255.255.0）判定兩個網絡中的主機處在不同的網絡裏。而要實現這兩個網絡之間的通信，則必須通過網關。如果網絡 A 中的主機發現數據包的目標主機不在本地網絡中，就把數據包轉發給它自己的網關，再由網關轉發給網絡 B 的網關，網絡 B 的網關再轉發給網絡 B 的某個主機。網絡 B 向網絡 A 轉發數據包的過程也是如此 所以說，只有設置好網關的 IP 地址，TCP/IP 協議才能實現不同網絡之間的相互通信。那麽這個 IP 地址是哪台機器的 IP 地址呢？網關的 IP 地址是具有路由功能的設備的 IP 地址，具有路由功能的設備有路由器、啟用了路由協議的服務器（實質上相當於一台路由器）、代理服務器（也相當於一台路由器）。"
   ]
  },
  {
   "cell_type": "markdown",
   "id": "2c81edba",
   "metadata": {},
   "source": [
    "### 路由器"
   ]
  },
  {
   "cell_type": "raw",
   "id": "dca11dc4",
   "metadata": {},
   "source": [
    "路由器（Windows下叫默認網關，網關就是路由，路由就是網關不要蒙）\n",
    "如果搞清了什麼是網關，默認網關也就好理解了。就好像一個房間可以有多扇門一樣，一台主機可以有多個網關。默認網關的意思是一台主機如果找不到可用的網關，就把數據包發給默認指定的網關，由這個網關來處理數據包。現在主機使用的網關，一般指的是默認網關。如何設置默認網關　一台電腦的默認網關是不可以隨隨便便指定的，必須正確地指定，否則一台電腦就會將數據包發給不是網關的電腦，從而無法與其他網絡的電腦通信。默認網關的設定有手動設置和自動設置兩種方式。\n",
    "\n",
    "手動設置：手動設置適用於電腦數量比較少、TCP/IP 參數基本不變的情況，比如只有幾台到十幾台電腦。因為這種方法需要在聯入網絡的每台電腦上設置“默認網關”，非常費勁，一旦因為遷移等原因導致必須修改默認網關的 IP 地址，就會給網管帶來很大的麻煩，所以不推薦使用。需要特別注意的是：默認網關必須是電腦自己所在的網段中的 IP 地址，而不能填寫其他網段中的 IP 地址。\n",
    "\n",
    "自動設置：自動設置就是利用 DHCP 服務器來自動給網絡中的電腦分配 IP 地址、子網掩碼和默認網關。這樣做的好處是一旦網絡的默認網關發生了變化時，只要更改了 DHCP 服務器中默認網關的設置，那麽網絡中所有的電腦均獲得了新的默認網關的 IP 地址。這種方法適用於網絡規模較大、TCP/IP 參數有可能變動的網絡。另外一種自動獲得網關的辦法是通過安裝代理服務器軟件（如MS Proxy）的客戶端程序來自動獲得，其原理和方法和 DHCP 有相似之處。由於篇幅所限，就不再詳述了。"
   ]
  },
  {
   "cell_type": "markdown",
   "id": "8d63958a",
   "metadata": {},
   "source": [
    "### DNS服務器"
   ]
  },
  {
   "cell_type": "raw",
   "id": "710859a7",
   "metadata": {},
   "source": [
    "域名服務器(Domain Name Server)。在 Internet 上域名與 IP 地址之間是一一對應的，域名雖然便於人們記憶，但機器之間只能互相認識 IP 地址，它們之間的轉換工作稱為域名解析，域名解析需要由專門的域名解析服務器來完成，DNS 就是進行域名解析的服務器。"
   ]
  },
  {
   "cell_type": "markdown",
   "id": "44657b52",
   "metadata": {},
   "source": [
    "### 端口號"
   ]
  },
  {
   "cell_type": "raw",
   "id": "6d5043b6",
   "metadata": {},
   "source": [
    "端口包括物理端口和邏輯端口。物理端口是用於連接物理設備之間的接口，邏輯端口是邏輯上用於區分服務的端口。TCP/IP 協議中的端口就是邏輯端口，通過不同的邏輯端口來區分不同的服務。端口有什麽用呢？我們知道，一台擁有 IP 地址的主機可以提供許多服務，比如 Web 服務、FTP 服務、SMTP 服務等，這些服務完全可以通過 1 個IP地址來實現。那麽，主機是怎樣區分不同的網絡服務呢？顯然不能只靠 IP 地址，因為 IP 地址與網絡服務的關系是一對多的關系。實際上是通過 “IP地址+端口號” 來區 分不同的服務的。\n",
    "\n",
    "公認端口（Well-Known Ports）\n",
    "這類端口也常稱之為 \"常用端口\"。這類端口的端口號從 0 到 1023，它們緊密綁定於一些特定的服務。通常這些端口的通信明確表明了某種服務的協議，這種端口是不可再重新定義它的作用對象。80 端口實際上總是 HTTP 通信所使用的，而 23 號端口則是 Telnet 服務專用的。\n",
    "\n",
    "註冊端口（Registered Ports）\n",
    "端口號從 1025 到 49151。分配給用戶進程或應用程序。這些進程主要是用戶選擇安裝的一些應用程序，而不是分配好的公認端口的常用程序。\n",
    "動態和/或私有端口（Dynamic and/or Private Ports）之所以稱為動態端口，因為它一般不固定分配某種服務，而是動態分配。"
   ]
  },
  {
   "cell_type": "markdown",
   "id": "5ecd16a4",
   "metadata": {},
   "source": [
    "# 網路的常用命令"
   ]
  },
  {
   "cell_type": "markdown",
   "id": "cf5e192c",
   "metadata": {},
   "source": [
    "### IP地址的查看"
   ]
  },
  {
   "cell_type": "raw",
   "id": "4b14286d",
   "metadata": {},
   "source": [
    "我們可以藉由下指令來查詢我們本機的 IP 地址，windows 系統可以使用 ipconfig 指令，linux 系統可以使用 ifconfig 或 ip addr 指令。需要注意的是 ip addr 會顯示更多的訊息。"
   ]
  },
  {
   "cell_type": "markdown",
   "id": "bd5bb221",
   "metadata": {},
   "source": [
    "### 網路的連通性測試"
   ]
  },
  {
   "cell_type": "raw",
   "id": "6b182bd5",
   "metadata": {},
   "source": [
    "我們可以藉由以下常用的命令來測試網路的連通性:\n",
    "\n",
    "1. ping 命令: 測試 IP 地址的連通性，例如 ping 192.168.178.1\n",
    "2. telnet 命令: 測試端口的連通性，例如 telnet www.baidu.com 80\n",
    "3. tracepath 命令: 路徑探測跟蹤，例如 tracepath www.baidu.com\n",
    "4. curl 命令: 請求 Web 服務，功能強大，請參考以下資訊:"
   ]
  },
  {
   "cell_type": "markdown",
   "id": "8facb092",
   "metadata": {},
   "source": [
    "http://www.ruanyifeng.com/blog/2019/09/curl-reference.html "
   ]
  },
  {
   "cell_type": "markdown",
   "id": "9a910ee5",
   "metadata": {},
   "source": [
    "# 容器網路的常見問題"
   ]
  },
  {
   "cell_type": "markdown",
   "id": "10851efb",
   "metadata": {},
   "source": [
    "### 容器為什麼能獲得 ip 地址"
   ]
  },
  {
   "cell_type": "raw",
   "id": "462148ca",
   "metadata": {},
   "source": [
    "首先先啟動一個 busybox 的容器，讓他執行一個 sleep 一小時的腳本。"
   ]
  },
  {
   "cell_type": "code",
   "execution_count": null,
   "id": "395f8017",
   "metadata": {},
   "outputs": [],
   "source": [
    "docker container run -d --rm --name box1 busybox /bin/sh -c \"while true; do sleep 3600; done\""
   ]
  },
  {
   "cell_type": "raw",
   "id": "ef8ae6cc",
   "metadata": {},
   "source": [
    "進去容器的 shell 內，看看容器的 IP 地址，發現是 172.17.0.2。我們的問題是為什麼我們會獲取這個容器的 IP 地址。"
   ]
  },
  {
   "cell_type": "code",
   "execution_count": null,
   "id": "5b68c100",
   "metadata": {},
   "outputs": [],
   "source": [
    "docker container exec -it box1 sh\n",
    "ip addr "
   ]
  },
  {
   "cell_type": "markdown",
   "id": "6ba365d2",
   "metadata": {},
   "source": [
    "### 為什麼宿主機可以 ping 通容器 ip"
   ]
  },
  {
   "cell_type": "raw",
   "id": "7162ca0d",
   "metadata": {},
   "source": [
    "我們現在在宿主機上 ping 剛剛創建的容器，發現是可以成功的，這是什麼原因呢?"
   ]
  },
  {
   "cell_type": "code",
   "execution_count": null,
   "id": "cea575df",
   "metadata": {},
   "outputs": [],
   "source": [
    "ping 127.17.0.2"
   ]
  },
  {
   "cell_type": "markdown",
   "id": "590dd10b",
   "metadata": {},
   "source": [
    "### 為什麼容器之間的 IP 是互通的"
   ]
  },
  {
   "cell_type": "raw",
   "id": "b1d33674",
   "metadata": {},
   "source": [
    "創建第二個容器，進去裡面看看第二個容器的 IP 地址，發現它的地址是 127.17.0.3。"
   ]
  },
  {
   "cell_type": "code",
   "execution_count": null,
   "id": "ada58741",
   "metadata": {},
   "outputs": [],
   "source": [
    "docker container run -d --rm --name box2 busybox /bin/sh -c \"while true; do sleep 3600; done\""
   ]
  },
  {
   "cell_type": "raw",
   "id": "6707cc48",
   "metadata": {},
   "source": [
    "進去第二個容器中 ping 第一個容器，發現容器之間是可以互通的。"
   ]
  },
  {
   "cell_type": "code",
   "execution_count": null,
   "id": "00c0bb74",
   "metadata": {},
   "outputs": [],
   "source": [
    "docker container exec -it box2 sh\n",
    "ip a\n",
    "ping 127.17.0.2"
   ]
  },
  {
   "cell_type": "markdown",
   "id": "5f8a6260",
   "metadata": {},
   "source": [
    "### 為什麼容器能夠 ping 通外網"
   ]
  },
  {
   "cell_type": "raw",
   "id": "2846b09d",
   "metadata": {},
   "source": [
    "進去第一個容器，發現在容器內部是可以 ping 通外網的，比如奇摩。"
   ]
  },
  {
   "cell_type": "code",
   "execution_count": null,
   "id": "4675e964",
   "metadata": {},
   "outputs": [],
   "source": [
    "docker container exec -it box1 sh\n",
    "$ ping www.yahoo.com.tw"
   ]
  },
  {
   "cell_type": "markdown",
   "id": "89d096d4",
   "metadata": {},
   "source": [
    "### 容器端口轉發是怎麼回事"
   ]
  },
  {
   "cell_type": "raw",
   "id": "fca75d3a",
   "metadata": {},
   "source": [
    "我們由 nginx 影像啟動第三個容器，檢查到它的 IP 地址是 127.17.0.4。"
   ]
  },
  {
   "cell_type": "code",
   "execution_count": null,
   "id": "5d68c4d5",
   "metadata": {},
   "outputs": [],
   "source": [
    "docker container run -d --name web1 nginx\n",
    "docker container inspect web1"
   ]
  },
  {
   "cell_type": "raw",
   "id": "db74dc8b",
   "metadata": {},
   "source": [
    "我們進去第一個容器裡面可以 ping 到第三個容器，也可以訪問到 80 端口，也可以下載首頁。"
   ]
  },
  {
   "cell_type": "code",
   "execution_count": null,
   "id": "6120f27a",
   "metadata": {},
   "outputs": [],
   "source": [
    "docker container exec -it box1 sh\n",
    "$ ping 127.17.0.4\n",
    "$ wget 127.17.0.4:80"
   ]
  },
  {
   "cell_type": "raw",
   "id": "bd1a0455",
   "metadata": {},
   "source": [
    "在宿主機上也可以 ping 到第三個容器，也可以訪問 80 端口的頁面。"
   ]
  },
  {
   "cell_type": "code",
   "execution_count": null,
   "id": "1b3a5198",
   "metadata": {},
   "outputs": [],
   "source": [
    "$ ping 127.17.0.4\n",
    "$ curl 127.17.0.4:80"
   ]
  },
  {
   "cell_type": "raw",
   "id": "14dca69c",
   "metadata": {},
   "source": [
    "歸納一下資訊:\n",
    "\n",
    "windows 電腦的 IP: 10.101.170.24\n",
    "Linux 虛擬機的 IP: 192.168.195.128 \n",
    "第三個容器 nginx 網頁的 IP: 127.17.0.4\n",
    "\n",
    "我們在其他電腦是無法拜訪 nginx 網頁的，比如在我的 windows chrome 首頁輸入 127.17.0.4:80 是拜訪不到的。在 linux 機的 chrome 首頁輸入 192.168.195.128:80 也拜訪不到的。要拜訪的到就要藉由端口轉發機制。\n",
    "\n",
    "再重新起一個 nginx 容器，將端口轉發如下，我們就可以在把如 windows 電腦輸入  192.168.195.128:8080 或者 linux 電腦輸入 192.168.195.128: 8080 拜訪到網頁。"
   ]
  },
  {
   "cell_type": "raw",
   "id": "2fa8258a",
   "metadata": {},
   "source": [
    "docker container run -d --name web1 -p 8080:80 nginx"
   ]
  },
  {
   "cell_type": "markdown",
   "id": "f48851c3",
   "metadata": {},
   "source": [
    "# 容器間通信的 bridge 網路"
   ]
  },
  {
   "cell_type": "code",
   "execution_count": null,
   "id": "f7dbb04a",
   "metadata": {},
   "outputs": [],
   "source": [
    "首先我們先啟動兩個容器 box1、box2。"
   ]
  },
  {
   "cell_type": "code",
   "execution_count": null,
   "id": "da0e8af5",
   "metadata": {},
   "outputs": [],
   "source": [
    "docker container run -d --rm --name box1 busybox /bin/sh -c \"while true; do sleep 3600; done\"\n",
    "docker container run -d --rm --name box2 busybox /bin/sh -c \"while true; do sleep 3600; done\""
   ]
  },
  {
   "cell_type": "raw",
   "id": "7998614a",
   "metadata": {},
   "source": [
    "我們可以在 Linux 虛擬機中輸入 ip addr ，可以看到 docker0 的接口, 他的 ip 地址是 172.17.0.1, 這我們稱之為 Linux 的 bridge 網橋，類似有路由器的功能。再看看現在 docker 提供的網路模式。"
   ]
  },
  {
   "cell_type": "code",
   "execution_count": null,
   "id": "b16b7684",
   "metadata": {},
   "outputs": [],
   "source": [
    "ip addr \n",
    "docker network ls"
   ]
  },
  {
   "cell_type": "raw",
   "id": "e953e922",
   "metadata": {},
   "source": [
    "查看看 bridge 網橋的 subnet 子網與 Gateway，有容器連接到這個網橋，就會從 subnet 分配給他一個 ip 地址給它。\n",
    "看看下面的 containers , 默認創建的容器都會連接到 docker0 上, docker0 就類似路由器的腳色, containers 就類似於多台電腦，只要連接到這個 bridge 上的容器都可相通。"
   ]
  },
  {
   "cell_type": "code",
   "execution_count": null,
   "id": "ab870008",
   "metadata": {},
   "outputs": [],
   "source": [
    "docker network inspect bridgeId"
   ]
  },
  {
   "cell_type": "markdown",
   "id": "f7a96541",
   "metadata": {},
   "source": [
    "<img src=\"img/8.png\">"
   ]
  },
  {
   "cell_type": "raw",
   "id": "29ea33c7",
   "metadata": {},
   "source": [
    "我們可以使用 brctl show 看看 doctors 開了幾個接口, 也就是圖片上的 veth。如果 linux 主機沒有這個指令，我們可以 \n",
    "apt-get install -y bridge-utils"
   ]
  },
  {
   "cell_type": "code",
   "execution_count": null,
   "id": "63e3a336",
   "metadata": {},
   "outputs": [],
   "source": [
    "brctl show"
   ]
  },
  {
   "cell_type": "markdown",
   "id": "d7910921",
   "metadata": {},
   "source": [
    "# 容器對外通信的 bridge 網路"
   ]
  },
  {
   "cell_type": "code",
   "execution_count": null,
   "id": "c3379299",
   "metadata": {},
   "outputs": [],
   "source": [
    "先啟動一個 busybox 的容器，在容器內不可以 ping 百度成功是什麼原因呢。要讓容器可以 ping 通外網的先決條件是本身的宿主機就能成功\n",
    "連線。我們可以由 ip route 查看路由，連線是經由 eth0 出去。容器的 ip 轉成 eth0 的 ip 在發送出去的。"
   ]
  },
  {
   "cell_type": "code",
   "execution_count": null,
   "id": "67660a4f",
   "metadata": {},
   "outputs": [],
   "source": [
    "docker container run -d --rm --name box1 busybox /bin/sh -c \"while true; do sleep 3600; done\"\n",
    "docker container exec -it box1 ping www.baidu.com\n",
    "ip route"
   ]
  },
  {
   "cell_type": "raw",
   "id": "9a7f316f",
   "metadata": {},
   "source": [
    "在這裡常用到一些轉發規則可由以下指令查找，還有從內網把資訊傳出去，IP 從內網轉到外網會用到 NAT 相關知識，可觀看一下影片"
   ]
  },
  {
   "cell_type": "code",
   "execution_count": null,
   "id": "e8c46141",
   "metadata": {},
   "outputs": [],
   "source": [
    "sudo iptables --list -t nat"
   ]
  },
  {
   "cell_type": "markdown",
   "id": "a9dff64e",
   "metadata": {},
   "source": [
    "NAT 簡介: https://www.udemy.com/course/docker-china/learn/lecture/27332504#overview"
   ]
  },
  {
   "cell_type": "markdown",
   "id": "61c4d6b7",
   "metadata": {},
   "source": [
    "<img src=\"img/9.png\">"
   ]
  },
  {
   "cell_type": "markdown",
   "id": "431ba329",
   "metadata": {},
   "source": [
    "# 如何使用自定義的 bridge"
   ]
  },
  {
   "cell_type": "raw",
   "id": "d1f55f86",
   "metadata": {},
   "source": [
    "首先我們先去啟動兩個 busybox 的容器 box1 與 box2，預設他們會使用 docker0 的 bridge。"
   ]
  },
  {
   "cell_type": "code",
   "execution_count": null,
   "id": "b4974ab3",
   "metadata": {},
   "outputs": [],
   "source": [
    "docker container run -d --rm --name box1 busybox /bin/sh -c \"while true; do sleep 3600; done\"\n",
    "docker container run -d --rm --name box2 busybox /bin/sh -c \"while true; do sleep 3600; done\""
   ]
  },
  {
   "cell_type": "raw",
   "id": "1de080e9",
   "metadata": {},
   "source": [
    "現在我們來自定義一個新的 bridge ，短選項 -d 是用來選擇 bridge 的 driver。"
   ]
  },
  {
   "cell_type": "code",
   "execution_count": null,
   "id": "11fca6f0",
   "metadata": {},
   "outputs": [],
   "source": [
    "docker network create -d bridge myBridge"
   ]
  },
  {
   "cell_type": "raw",
   "id": "829b9d54",
   "metadata": {},
   "source": [
    "來看看有沒有成功。"
   ]
  },
  {
   "cell_type": "code",
   "execution_count": null,
   "id": "a5648c6f",
   "metadata": {},
   "outputs": [],
   "source": [
    "docker network ls"
   ]
  },
  {
   "cell_type": "raw",
   "id": "ad2fe92b",
   "metadata": {},
   "source": [
    "看看新定義的 myBridge 的 subnet 與 gateway。"
   ]
  },
  {
   "cell_type": "code",
   "execution_count": null,
   "id": "a2747f20",
   "metadata": {},
   "outputs": [],
   "source": [
    "docker network inspect myBridge"
   ]
  },
  {
   "cell_type": "raw",
   "id": "e73d70ba",
   "metadata": {},
   "source": [
    "再啟動第三個容器 box3，這次把這個容器的網路掛在 myBridge。"
   ]
  },
  {
   "cell_type": "code",
   "execution_count": null,
   "id": "428caaf1",
   "metadata": {},
   "outputs": [],
   "source": [
    "docker container run -d --rm --name box3 --network myBridge busybox /bin/sh -c \"while true; do sleep 3600; done\""
   ]
  },
  {
   "cell_type": "raw",
   "id": "2cb5ca08",
   "metadata": {},
   "source": [
    "看看 box3 所使用的網路，與它的 IP 地址是多少。"
   ]
  },
  {
   "cell_type": "code",
   "execution_count": null,
   "id": "232c307e",
   "metadata": {},
   "outputs": [],
   "source": [
    "docker container inspect box3"
   ]
  },
  {
   "cell_type": "raw",
   "id": "3aec3cbb",
   "metadata": {},
   "source": [
    "再回去看看 myBridge 的設定，containers 應該有多加入一個成員了。"
   ]
  },
  {
   "cell_type": "code",
   "execution_count": null,
   "id": "6b5a9c17",
   "metadata": {},
   "outputs": [],
   "source": [
    "docker network inspect myBridge"
   ]
  },
  {
   "cell_type": "raw",
   "id": "43639c98",
   "metadata": {},
   "source": [
    "複習一下:\n",
    "    \n",
    "box1: 127.17.0.2\n",
    "box2: 127.17.0.3\n",
    "box3: 127.18.0.2\n",
    "\n",
    "box1 與 box2 掛在預設的 docker0，box3 使用自定義的 myBridge，試問在 box3 容器內部連的到 box1 與 box2 嗎?\n",
    "答案是無法。"
   ]
  },
  {
   "cell_type": "code",
   "execution_count": null,
   "id": "251deaf2",
   "metadata": {},
   "outputs": [],
   "source": [
    "docker container exec -it box3 sh\n",
    "$ ping 172.17.0.2 "
   ]
  },
  {
   "cell_type": "raw",
   "id": "076709b0",
   "metadata": {},
   "source": [
    "容器是可以連接多個 bridge 的。我們再把 box3 連接預設的 bridge"
   ]
  },
  {
   "cell_type": "code",
   "execution_count": null,
   "id": "ab4b4885",
   "metadata": {},
   "outputs": [],
   "source": [
    "docker network connect bridge box3"
   ]
  },
  {
   "cell_type": "raw",
   "id": "ebe652c3",
   "metadata": {},
   "source": [
    "再去檢查 box3，會發現有兩個網路，且對應到兩個 IP 地址。"
   ]
  },
  {
   "cell_type": "code",
   "execution_count": null,
   "id": "2c206975",
   "metadata": {},
   "outputs": [],
   "source": [
    "docker container inspect box3"
   ]
  },
  {
   "cell_type": "raw",
   "id": "8329fc6c",
   "metadata": {},
   "source": [
    "要把網路拿掉當然也是可行的。"
   ]
  },
  {
   "cell_type": "code",
   "execution_count": null,
   "id": "b0f8cb18",
   "metadata": {},
   "outputs": [],
   "source": [
    "docker network disconnet bridge box3\n",
    "docker container inspect box3"
   ]
  },
  {
   "cell_type": "markdown",
   "id": "892b68a3",
   "metadata": {},
   "source": [
    "<img src=\"img/10.png\">"
   ]
  },
  {
   "cell_type": "markdown",
   "id": "34d277d0",
   "metadata": {},
   "source": [
    "### 使用自定義 bridge 有類似 DNS 的功能"
   ]
  },
  {
   "cell_type": "raw",
   "id": "70eeeae0",
   "metadata": {},
   "source": [
    "容器在同一個 network 的 bridge 上是可以互相 ping 成功的。但是如果是使用自定義的 bridge，不僅可以 ping IP 也可以 ping 容器名。有類似\n",
    "DNS 的功能。但是如果是使用預設的 bridge Docker0 則沒有這種功能。所以我們通常會使用自定義的網路 bridge。"
   ]
  },
  {
   "cell_type": "raw",
   "id": "bd63f947",
   "metadata": {},
   "source": [
    "重新之前的設定。"
   ]
  },
  {
   "cell_type": "code",
   "execution_count": null,
   "id": "d089789f",
   "metadata": {},
   "outputs": [],
   "source": [
    "docker container run -d --rm --name box1 busybox /bin/sh -c \"while true; do sleep 3600; done\"\n",
    "docker container run -d --rm --name box2 busybox /bin/sh -c \"while true; do sleep 3600; done\"\n",
    "docker network create -d bridge myBridge\n",
    "docker container run -d --rm --name box3 --network myBridge busybox /bin/sh -c \"while true; do sleep 3600; done\"\n",
    "docker container run -d --rm --name box4 --network myBridge busybox /bin/sh -c \"while true; do sleep 3600; done\""
   ]
  },
  {
   "cell_type": "raw",
   "id": "618d9b3b",
   "metadata": {},
   "source": [
    "來測試看看我們的結論是不是對的。自定義網路可以 ping 容器名字, 有 DNS 效果。用預設的 bridge 沒有辦法 ping 容器的名字"
   ]
  },
  {
   "cell_type": "code",
   "execution_count": null,
   "id": "3ab90f9c",
   "metadata": {},
   "outputs": [],
   "source": [
    "docker container exec -it box4 ping 172.18.0.2\n",
    "docker container exec -it box4 ping box3\n",
    "docker container exec -it box1 ping 172.17.0.3\n",
    "docker container exec -it box1 ping box2"
   ]
  },
  {
   "cell_type": "raw",
   "id": "5387bc4e",
   "metadata": {},
   "source": [
    "network 的創建還有許多長選項可以用，有興趣可以上網查找。"
   ]
  },
  {
   "cell_type": "code",
   "execution_count": null,
   "id": "252ef510",
   "metadata": {},
   "outputs": [],
   "source": [
    "docker network create -d bridge --gateway 172.200.0.1 --subnet 172.200.0.0/16 demoBridge\n",
    "docker network inspect demoBridge"
   ]
  },
  {
   "cell_type": "markdown",
   "id": "4d44a643",
   "metadata": {},
   "source": [
    "# 容器的端口轉發 Port Forwarding"
   ]
  },
  {
   "cell_type": "markdown",
   "id": "2fb81814",
   "metadata": {},
   "source": [
    "<img src=\"img/11.png\">"
   ]
  },
  {
   "cell_type": "raw",
   "id": "415d805f",
   "metadata": {},
   "source": [
    "由上面的圖我們可以瞭解幾件事:\n",
    "\n",
    "1. 從 busybox 的容器是可以去訪問 nginx 的 80 端口。\n",
    "2. 在宿主機我們在瀏覽器輸入 172.17.0.2:80 也是可以成功的。\n",
    "3. 容器要從內部連到外部的 192.168.200.11 也是沒有問題的，出去可以通過 NAT 地址轉換。\n",
    "4. 如果我們想從 192.168.200.11 的主機訪問容器的 nginx 就會失敗了。這時候我們就需要端口轉發。例如我們連 192.168.200.10:8080 會幫我們\n",
    "   轉發到 172.17.0.2:80。"
   ]
  },
  {
   "cell_type": "raw",
   "id": "92ec55a4",
   "metadata": {},
   "source": [
    "先啟動一個 nginx 的容器，然後查看它的 IP 地址是 127.17.0.2。"
   ]
  },
  {
   "cell_type": "code",
   "execution_count": null,
   "id": "92783242",
   "metadata": {},
   "outputs": [],
   "source": [
    "docker container run -d --rm --name web -p 8080:80 nginx\n",
    "docker container inspect web"
   ]
  },
  {
   "cell_type": "raw",
   "id": "828e0f67",
   "metadata": {},
   "source": [
    "用 Linux 虛擬機的瀏覽器看 172.17.0.2:80 會成功, 不管有沒有端口轉發。\n",
    "用 Linux 虛擬機的瀏覽器看 127.0.0.1:8080 會成功, 但是沒有端口轉發會失敗。\n",
    "用 windows 瀏覽器看 192.168.195.128:8080 會成功。192.168.195.128 是 Linux 的 IP。"
   ]
  },
  {
   "cell_type": "raw",
   "id": "b958f62f",
   "metadata": {},
   "source": [
    "轉發規則其實被記載了下來，我們可以用以下的指令查看。"
   ]
  },
  {
   "cell_type": "code",
   "execution_count": null,
   "id": "0ec57333",
   "metadata": {},
   "outputs": [],
   "source": [
    "sudo iptables -t nat -nvxL "
   ]
  },
  {
   "cell_type": "markdown",
   "id": "ac528146",
   "metadata": {},
   "source": [
    "# Dockerfile 的 EXPOSE 指令"
   ]
  },
  {
   "cell_type": "raw",
   "id": "23e49245",
   "metadata": {},
   "source": [
    "格式為 EXPOSE <端口1> [<端口2>...]。\n",
    "EXPOSE 指令是聲明容器運行時提供服務的端口，這只是一個聲明，在容器運行時並不會因為這個聲明應用就會開啟這個端口的服務。在 Dockerfile 中寫入這樣的聲明有兩個好處，一個是幫助鏡像使用者理解這個鏡像服務的守護端口，以方便配置映射；另一個用處則是在運行時使用隨機端口映射時，也就是 docker run -p 時，會自動隨機映射 EXPOSE 的端口。要將 EXPOSE 和在運行時使用 -p <宿主端口>:<容器端口> 區分開來。-p，是映射宿主端口和容器端口，換句話說，就是將容器的對應端口服務公開給外界訪問，而 EXPOSE 僅僅是聲明容器打算使用什麽端口而已，並不會自動在宿主進行端口映射。"
   ]
  },
  {
   "cell_type": "markdown",
   "id": "7655971e",
   "metadata": {},
   "source": [
    "# TCP 和 UDP 的差別"
   ]
  },
  {
   "cell_type": "raw",
   "id": "fc11c3d3",
   "metadata": {},
   "source": [
    "UDP 和 TCP 都是常見的網路通訊協定，這兩種協定能確保網際網路資料傳輸的快速和完整性。它們做相同的工作，但運作方式不同，TCP 較可靠，UDP 較快速。很多人可能不知道兩種網路通訊協定的區別，如何傳輸資料，差異及優缺點是什麼？閱讀這篇文章，以暸解更多關於 TCP 和 UDP 的資訊。"
   ]
  },
  {
   "cell_type": "markdown",
   "id": "f34b3a13",
   "metadata": {},
   "source": [
    "### TCP 和 UDP 是什麼"
   ]
  },
  {
   "cell_type": "raw",
   "id": "b01d6373",
   "metadata": {},
   "source": [
    "TCP（通訊控制協定）和 UDP（用戶資料包協定）都是網際網路中常見的協定，它們負責在網際網路將資料從設備傳輸到伺服器。當您使用 Skype 聊天、發送電子郵件、觀看直播或瀏覽網頁時，都會使用這兩種協定。\n",
    "\n",
    "UDP 和 TCP 都會將資料分隔成更小的單元進行傳輸。這些小單元稱為封包，封包中包含發送端和接收端的 IP 位址、各種配置、使用者傳送的實際資料等。"
   ]
  },
  {
   "cell_type": "markdown",
   "id": "b8d0c5d4",
   "metadata": {},
   "source": [
    "### TCP 和 UDP 如何運作"
   ]
  },
  {
   "cell_type": "raw",
   "id": "64fe3d37",
   "metadata": {},
   "source": [
    "TCP 是網際網路上最常用的協定，這種協定較為可靠，運作方法如下：\n",
    "\n",
    "1. TCP 為每個封包分配一個唯一的識別碼和一個序號，這些號碼能讓接收端識別封包的完整性，以及封包的順序。\n",
    "2. 當接收端收到封包後，如果順序正確，會向發送端傳送一個確認信號（Acknowledgement），以此確認接收端已經收到封包。\n",
    "3. 發送端傳送另一個封包。\n",
    "4. 如果封包遺失或發送順序錯誤，接收端會保持沈默，不發送確認信號。這表示發送端需要重新傳送封包。\n",
    "\n",
    "因為資料是按照順序發送的，有助於流量控制和解決資料壅塞的問題，並容易發現和修復錯誤。因此，經由 TCP 發送的資料能完全到達目的地。即使網路阻塞，傳輸的資料也不會出問題。不過 TCP 也有缺點，發送端和接收端之間有很多往來的通訊，因此建立連線和交換資料需要更多的時間。"
   ]
  },
  {
   "cell_type": "raw",
   "id": "d146f8ee",
   "metadata": {},
   "source": [
    "UDP 不需要唯一識別碼和序號就能完成相同的工作。這種協定以串流方式傳送資料，發送端不會等待接收端的確認信號，會繼續不斷發送封包資料。UDP 幾乎沒有錯誤修正功能，也不在乎封包遺失，因此很容易出錯，但傳輸速度比 TCP 更快。串流媒體、VoIP 語音、網路遊戲等服務經常使用 UDP 協定，這網路應用不太需要可靠性機制，封包遺失不會導致服務中斷。"
   ]
  },
  {
   "cell_type": "markdown",
   "id": "ed0ce55a",
   "metadata": {},
   "source": [
    "<img src=\"img/12.png\">"
   ]
  },
  {
   "cell_type": "markdown",
   "id": "dfaa05cf",
   "metadata": {},
   "source": [
    "# Docker 網路: host 模式"
   ]
  },
  {
   "cell_type": "raw",
   "id": "dd620f5c",
   "metadata": {},
   "source": [
    "容器與主機、容器與容器之間是互相隔離的。同時，我們可以通過配置 docker 網路，為容器建立完全獨立的網路名稱空間，或者使容器共享主機或者其他容器的網路名稱空間，以應對不同場景的需要。\n",
    "這裡有 4 種常用的單宿主機網路模式：\n",
    "\n",
    "1. bridge 模式；\n",
    "2. host 模式；\n",
    "3. container 模式；\n",
    "4. none 模式。\n",
    "\n",
    "以下將介紹網路模式中的 host 模式。host 模式下啟動的容器，網路不再與宿主機隔離，訪問容器服務可以直接使用訪問宿主機對應的網路埠，且不需要埠轉發。網路拓撲圖如下:"
   ]
  },
  {
   "cell_type": "markdown",
   "id": "275194be",
   "metadata": {},
   "source": [
    "<img src=\"img/13.png\">"
   ]
  },
  {
   "cell_type": "raw",
   "id": "9905b9ef",
   "metadata": {},
   "source": [
    "以 host 模式啟動 nginx 的容器 h0：\n",
    "\n",
    "啟動成功後，在瀏覽器輸入任意的本機地址，都可以開啟 nginx 的預設頁面，訪問宿主機 80 埠就是訪問容器的 80 埠，它們是一致的。也就是\n",
    "訪問127.0.0.1:80 端口就會成功訪問 nginx。"
   ]
  },
  {
   "cell_type": "code",
   "execution_count": null,
   "id": "1cea6ed9",
   "metadata": {},
   "outputs": [],
   "source": [
    "docker container run -d --network host --name h0 nginx"
   ]
  },
  {
   "cell_type": "raw",
   "id": "fe5a4362",
   "metadata": {},
   "source": [
    "以 host 模式啟動 nginx 的容器 h1：\n",
    "\n",
    "使用 docker container ls -a 命令檢視所有容器，發現 h1 容器沒有執行：使用 docker logs h1 檢視容器 h1 的日誌，發現，由於宿主機 80 埠已經被 h0 容器的服務佔用，使得 h1 無法獲取到此埠，導致無法正常啟動。我們在學習過程中，不再使用的容器記得刪除掉，釋放資源和空間。這也算是使用 host 網路的一個缺點。"
   ]
  },
  {
   "cell_type": "code",
   "execution_count": null,
   "id": "6f54df38",
   "metadata": {},
   "outputs": [],
   "source": [
    "docker container run -d --network host --name h1 nginx"
   ]
  },
  {
   "cell_type": "raw",
   "id": "7c897521",
   "metadata": {},
   "source": [
    "host 模式下的容器與宿主機共享同一個網路環境，容器可以使用宿主機的網絡卡和外界的通訊，不需要轉發拆包，效能好。但 host 模式也有非常嚴重的缺點：容器沒有隔離的網路，會與其他服務競爭宿主機的網路，導致宿主機網路狀態不可控，因此無法用在生產環境。"
   ]
  },
  {
   "cell_type": "markdown",
   "id": "317e0aee",
   "metadata": {},
   "source": [
    "# Docker 網路: none 模式"
   ]
  },
  {
   "cell_type": "raw",
   "id": "43d89aef",
   "metadata": {},
   "source": [
    "容器有自己的網路名稱空間，但不做任何配置，它與宿主機、與其他容器都不連通的。我們新建一個 none 模式的 busybox 映象 b0。檢視它的網路狀態， 驗證它僅有 lo 介面，不能與容器外通訊。"
   ]
  },
  {
   "cell_type": "code",
   "execution_count": null,
   "id": "efd72b79",
   "metadata": {},
   "outputs": [],
   "source": [
    "docker container run -d --rm --name b0 --network none busybox /bin/sh -c \"while true; do sleep 3600; done\"\n",
    "docker container exec -it b0 ip a"
   ]
  },
  {
   "cell_type": "raw",
   "id": "bf0eccbb",
   "metadata": {},
   "source": [
    "兩個容器之間可以直連通訊，但不通過主機網橋進行橋接。解決的辦法是建立一對 peer 介面，分別放到兩個容器中，配置成點到點鏈路型別即可。none 模式提供了一種空白的網路配置，方便使用者排除其他干擾，用於自定義網路。"
   ]
  },
  {
   "cell_type": "markdown",
   "id": "7cb17bbe",
   "metadata": {},
   "source": [
    "# 綜合演練: Python Flask + Redis"
   ]
  },
  {
   "cell_type": "markdown",
   "id": "37c37a50",
   "metadata": {},
   "source": [
    "<img src=\"img/14.png\">"
   ]
  },
  {
   "cell_type": "raw",
   "id": "6a58a984",
   "metadata": {},
   "source": [
    "我們來用 docker 練習一下上圖的串接。"
   ]
  },
  {
   "cell_type": "raw",
   "id": "0a3ef630",
   "metadata": {},
   "source": [
    "app.py 檔:"
   ]
  },
  {
   "cell_type": "code",
   "execution_count": null,
   "id": "15b67ed7",
   "metadata": {},
   "outputs": [],
   "source": [
    "from flask import Flask\n",
    "from redis import Redis\n",
    "import os\n",
    "import socket\n",
    "import redis\n",
    "\n",
    "app = Flask(__name__)\n",
    "redis = Redis(host=os.environ.get(\"REDIS_HOST\", \"127.0.0.1\"), port=6379)\n",
    "\n",
    "\n",
    "@app.route(\"/\")\n",
    "def index():\n",
    "    redis.incr(\"hits\")\n",
    "    return f\"Hello Container World! I have been seen {redis.get('hits').decode('utf-8')} times and my hostname is {socket.gethostname()}.\\n\""
   ]
  },
  {
   "cell_type": "markdown",
   "id": "9ed9c871",
   "metadata": {},
   "source": [
    "Dockerfile 檔:"
   ]
  },
  {
   "cell_type": "code",
   "execution_count": null,
   "id": "ccaaea55",
   "metadata": {},
   "outputs": [],
   "source": [
    "FROM python:3.9.5-slim\n",
    "RUN pip install flask redis && \\\n",
    "    groupadd -r flask && useradd -r -g flask flask && \\\n",
    "    mkdir /src &&\\\n",
    "    chown -R flask:flask /src\n",
    "\n",
    "USER flask\n",
    "COPY app.py /src/app.py\n",
    "WORKDIR /src\n",
    "ENV FLASK_APP=app.py REDIS_HOST=redis FLASK_RUN_HOST=0.0.0.0\n",
    "EXPOSE 5000\n",
    "CMD [\"flask\", \"run\"]"
   ]
  },
  {
   "cell_type": "raw",
   "id": "ac2ee6a9",
   "metadata": {},
   "source": [
    "寫成一個腳本，應該分成以下的步驟，要注意的是因為我們把 redis 的容器名定義成 redis-server，我們不要回到 Dockerfile 裡面改環境變數，\n",
    "可以用長選項 --env 直接傳入。另一個重點是要記得端點轉發，所以現在我們在 linux 的主機上輸入 127.0.0.1:5000 就能訪問成功。"
   ]
  },
  {
   "cell_type": "code",
   "execution_count": null,
   "id": "875712b9",
   "metadata": {},
   "outputs": [],
   "source": [
    "# prepare image\n",
    "docker image pull redis\n",
    "docker image build -t flask-demo .\n",
    "\n",
    "# create network\n",
    "docker network create -d bridge demo-network\n",
    "\n",
    "# create container\n",
    "docker container run -d --name redis-server --network demo-network redis\n",
    "docker container run -d --network demo-network --name flask-demo --env REDIS_HOST=redis-server -p 5000:5000 flask-demo"
   ]
  }
 ],
 "metadata": {
  "kernelspec": {
   "display_name": "Python 3",
   "language": "python",
   "name": "python3"
  },
  "language_info": {
   "codemirror_mode": {
    "name": "ipython",
    "version": 3
   },
   "file_extension": ".py",
   "mimetype": "text/x-python",
   "name": "python",
   "nbconvert_exporter": "python",
   "pygments_lexer": "ipython3",
   "version": "3.8.10"
  }
 },
 "nbformat": 4,
 "nbformat_minor": 5
}
