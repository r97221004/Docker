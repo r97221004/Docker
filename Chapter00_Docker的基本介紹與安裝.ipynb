{
 "cells": [
  {
   "cell_type": "markdown",
   "id": "eaf6dcd1",
   "metadata": {},
   "source": [
    "參考資料: https://www.docker.tips <br>\n",
    "參考影片: https://www.bilibili.com/video/BV1gr4y1U7CY?p=2&spm_id_from=pageDriver <br>\n",
    "參考影片: Udemy"
   ]
  },
  {
   "cell_type": "markdown",
   "id": "34c668ca",
   "metadata": {},
   "source": [
    "# 在 Linux 系统上安装 Docker"
   ]
  },
  {
   "cell_type": "raw",
   "id": "2a143e66",
   "metadata": {},
   "source": [
    "從 get.docker.com 網站取得腳本"
   ]
  },
  {
   "cell_type": "code",
   "execution_count": null,
   "id": "696d50ed",
   "metadata": {},
   "outputs": [],
   "source": [
    "curl -fsSL get.docker.com -o get-docker.sh"
   ]
  },
  {
   "cell_type": "raw",
   "id": "37c8620c",
   "metadata": {},
   "source": [
    "看一下內容"
   ]
  },
  {
   "cell_type": "code",
   "execution_count": null,
   "id": "02a3dcb9",
   "metadata": {},
   "outputs": [],
   "source": [
    "cat get-docker.sh"
   ]
  },
  {
   "cell_type": "raw",
   "id": "a74edb81",
   "metadata": {},
   "source": [
    "執行腳本"
   ]
  },
  {
   "cell_type": "code",
   "execution_count": null,
   "id": "31875452",
   "metadata": {},
   "outputs": [],
   "source": [
    "sh get-docker.sh"
   ]
  },
  {
   "cell_type": "raw",
   "id": "f3046198",
   "metadata": {},
   "source": [
    "驗證一下看安裝有沒有成功"
   ]
  },
  {
   "cell_type": "code",
   "execution_count": null,
   "id": "9051a939",
   "metadata": {},
   "outputs": [],
   "source": [
    "sudo docker version"
   ]
  },
  {
   "cell_type": "raw",
   "id": "913621d0",
   "metadata": {},
   "source": [
    "如果只有看到 Client 端，沒有看到 Server 端，可以使用以下指令啟動:"
   ]
  },
  {
   "cell_type": "code",
   "execution_count": null,
   "id": "4df61664",
   "metadata": {},
   "outputs": [],
   "source": [
    "sudo systemctl start docker"
   ]
  },
  {
   "cell_type": "raw",
   "id": "6ce1f2ec",
   "metadata": {},
   "source": [
    "遇到權限問題需要再加入:"
   ]
  },
  {
   "cell_type": "code",
   "execution_count": null,
   "id": "0a10928f",
   "metadata": {},
   "outputs": [],
   "source": [
    "sudo chmod 666 /var/run/docker.sock"
   ]
  }
 ],
 "metadata": {
  "kernelspec": {
   "display_name": "Python 3",
   "language": "python",
   "name": "python3"
  },
  "language_info": {
   "codemirror_mode": {
    "name": "ipython",
    "version": 3
   },
   "file_extension": ".py",
   "mimetype": "text/x-python",
   "name": "python",
   "nbconvert_exporter": "python",
   "pygments_lexer": "ipython3",
   "version": "3.8.10"
  }
 },
 "nbformat": 4,
 "nbformat_minor": 5
}
