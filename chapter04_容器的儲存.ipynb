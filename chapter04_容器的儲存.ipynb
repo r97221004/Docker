{
 "cells": [
  {
   "cell_type": "markdown",
   "id": "fe37f364",
   "metadata": {},
   "source": [
    "# 數據的持久化"
   ]
  },
  {
   "cell_type": "raw",
   "id": "150c0deb",
   "metadata": {},
   "source": [
    "默認情況下，在運行中的容器裡創建的文件，被保存在一個可寫的容器層，但如果容器被刪除了，則數據也沒有了。這個可寫的容器層是和特定的容器綁定的，也就是說這些數據無法方便的和其它容器共享。為了解決這個情況，Docker 主要提供了兩種方式做數據的持久化:\n",
    "\n",
    "1. Data Volume，由 Docker 管理，把資料存放在 /var/lib/docker/volumes/Linux，持久化數據的最好方式。\n",
    "2. Bind Mount，由用戶指定存儲的數據具體 mount 在系統什麽位置。"
   ]
  },
  {
   "cell_type": "markdown",
   "id": "dd2358d5",
   "metadata": {},
   "source": [
    "<img src=\"img/7.png\">"
   ]
  },
  {
   "cell_type": "markdown",
   "id": "fb9cfe9d",
   "metadata": {},
   "source": [
    "# 數據儲存的兩種的常用兩種方式"
   ]
  },
  {
   "cell_type": "markdown",
   "id": "ea869160",
   "metadata": {},
   "source": [
    "### Data Volume 的操作"
   ]
  },
  {
   "cell_type": "raw",
   "id": "b0f7ad3d",
   "metadata": {},
   "source": [
    "使用 VOLUME 時需要注意幾件事:\n",
    "\n",
    "1. 容器存的資料，把容器停止再開啟，資料還會保留住。\n",
    "2. 容器存的資料，如果把容器殺掉，再起一個新的資料就會不見了，這時可使用 Data Volume 來儲存資料。\n",
    "3. 創建容器但是不指定 -v 參數: 此時 Docker 會自動創建一個隨機名字的 volume，去存儲我們在 Dockerfile 定義的 volume，例如 VOLUME\n",
    "   [\"/app\"]。\n",
    "4. 創建容器但是指定 -v 參數: 在創建容器的時候通過 -v 參數我們可以手動的指定需要創建 volume 的名字，以及對應於容器內的路徑，這個路徑是\n",
    "   可以任意的，不必需要在 Dockerfile 裏通過 VOLUME 定義。\n",
    "5. 使用 docker volume inspect volumeId 來找出在本地儲存的資料，拜訪時會有權限的問題要處理。其中一個辦法就是改權限，例如:\n",
    "   sudo chmod 777 docker/"
   ]
  },
  {
   "cell_type": "markdown",
   "id": "ae621d18",
   "metadata": {},
   "source": [
    "### 範例01"
   ]
  },
  {
   "cell_type": "raw",
   "id": "6b81d4b0",
   "metadata": {},
   "source": [
    "crontab 大家應該都比較熟悉了，Linux 計劃任務，再加上一門腳本 shell 或者 python，可以靈活的實現多種計劃任務。\n",
    "如何通過 docker container 去執行計劃任務呢，其實辦法挺多的：\n",
    "\n",
    "1. 比如執行通過宿主機的 crontab 去 docker run –rm xxxxxxxxxxxx, 定期執行然後清理。\n",
    "2. 比如直接在 container 裏安裝 cron，然後安裝傳統的方式去編輯 crontab。\n",
    "\n",
    "但是直接用 cron 的話，log 是一個問題。使用容器的最佳實踐之一就是，要把 app 的 log 轉到 stdout，stderr 裡面，不要寫到 syslog 文件裏。cron 默認是 syslog 的，所以你還需要做一些額外的重定向工作。直到最近發現了一個工具 supercronic https://github.com/aptible/supercronic/ 這個專為容器而生的計劃任務工具。\n",
    "\n",
    "用起來很簡單，這裏給大家一個非常簡單的小例子。"
   ]
  },
  {
   "cell_type": "raw",
   "id": "a0f81e42",
   "metadata": {},
   "source": [
    "Dockerfile-volume 檔:"
   ]
  },
  {
   "cell_type": "code",
   "execution_count": null,
   "id": "f11c69a1",
   "metadata": {},
   "outputs": [],
   "source": [
    "FROM alpine:latest\n",
    "RUN apk update\n",
    "RUN apk --no-cache add curl\n",
    "ENV SUPERCRONIC_URL=https://github.com/aptible/supercronic/releases/download/v0.1.12/supercronic-linux-amd64 \\\n",
    "    SUPERCRONIC=supercronic-linux-amd64 \\\n",
    "    SUPERCRONIC_SHA1SUM=048b95b48b708983effb2e5c935a1ef8483d9e3e\n",
    "RUN curl -fsSLO \"$SUPERCRONIC_URL\" \\\n",
    "    && echo \"${SUPERCRONIC_SHA1SUM}  ${SUPERCRONIC}\" | sha1sum -c - \\\n",
    "    && chmod +x \"$SUPERCRONIC\" \\\n",
    "    && mv \"$SUPERCRONIC\" \"/usr/local/bin/${SUPERCRONIC}\" \\\n",
    "    && ln -s \"/usr/local/bin/${SUPERCRONIC}\" /usr/local/bin/supercronic\n",
    "COPY my-cron /app/my-cron\n",
    "WORKDIR /app\n",
    "VOLUME [ \"/app\" ]\n",
    "# RUN cron job\n",
    "CMD [\"/usr/local/bin/supercronic\", \"/app/my-cron\"]"
   ]
  },
  {
   "cell_type": "raw",
   "id": "d3057ae8",
   "metadata": {},
   "source": [
    "my-cron 檔:"
   ]
  },
  {
   "cell_type": "code",
   "execution_count": null,
   "id": "131bccce",
   "metadata": {},
   "outputs": [],
   "source": [
    "*/1 * * * * date >> /app/test.txt"
   ]
  },
  {
   "cell_type": "raw",
   "id": "1d8f9091",
   "metadata": {},
   "source": [
    "在啟動一個容器的時候要加入短參數 -v ，把容器內的 /app 資料 volume，取名為 cron-data。如果沒取名，每次會 volume \n",
    "到新的資料夾，這樣沒有達到資料儲存的目的。"
   ]
  },
  {
   "cell_type": "code",
   "execution_count": null,
   "id": "7162d541",
   "metadata": {},
   "outputs": [],
   "source": [
    "docker container run -d -v cron-data:/app my-cron"
   ]
  },
  {
   "cell_type": "raw",
   "id": "bc0dbf0e",
   "metadata": {},
   "source": [
    "查看一下有哪些 volume，這些 volume 存在本地的何處。最後進去容器看一下資料。"
   ]
  },
  {
   "cell_type": "code",
   "execution_count": null,
   "id": "aaff8335",
   "metadata": {},
   "outputs": [],
   "source": [
    "docker volume ls\n",
    "docker volume inspect cron-data\n",
    "docker container exec -it containerId sh\n",
    "$ more text.txt"
   ]
  },
  {
   "cell_type": "raw",
   "id": "c9b13346",
   "metadata": {},
   "source": [
    "把容器刪掉，再起一個新的容器，資料還會存在。"
   ]
  },
  {
   "cell_type": "code",
   "execution_count": null,
   "id": "e31ae37e",
   "metadata": {},
   "outputs": [],
   "source": [
    "docker container rm containerId -f\n",
    "docker container run -d -v cron-data:/app my-corn\n",
    "docker container exec -it containerId sh\n",
    "$ more text.txt"
   ]
  },
  {
   "cell_type": "markdown",
   "id": "13d96ee6",
   "metadata": {},
   "source": [
    "### 範例02 - 使用 MySQL 進行 Data Volume 的操作練習"
   ]
  },
  {
   "cell_type": "raw",
   "id": "91c0ee1e",
   "metadata": {},
   "source": [
    "把容器取名 some-mysql，mysql 資料庫的帳號是 root，密碼是 my-secret-pw，把容器的路徑為 /var/lib/mysql 的資料夾 volume 且\n",
    "取名 mysql-data。最終使用的鏡像是 mysql:5.7。"
   ]
  },
  {
   "cell_type": "code",
   "execution_count": null,
   "id": "c16daaeb",
   "metadata": {},
   "outputs": [],
   "source": [
    "docker container run --name some-mysql -e MYSQL_ROOT_PASSWORD=my-secret-pw -d -v mysql-data:/var/lib/mysql mysql:5.7"
   ]
  },
  {
   "cell_type": "raw",
   "id": "914bdfb8",
   "metadata": {},
   "source": [
    "看一下容器，看一下 volume，用 volume 的 inspect 指令看名字是 mysql-data 的 volume 存放在本機的何處。"
   ]
  },
  {
   "cell_type": "code",
   "execution_count": null,
   "id": "0e1cb0e8",
   "metadata": {},
   "outputs": [],
   "source": [
    "docker container ls\n",
    "docker volume ls\n",
    "docker volume inspect mysql-data"
   ]
  },
  {
   "cell_type": "raw",
   "id": "df5651b8",
   "metadata": {},
   "source": [
    "進去資料庫 mysql，增加一個資料庫叫 demo。"
   ]
  },
  {
   "cell_type": "code",
   "execution_count": null,
   "id": "bbe0749c",
   "metadata": {},
   "outputs": [],
   "source": [
    "docker container exec -it id sh\n",
    "# mysql -u root -p my-secret-pw\n",
    "> show databases;\n",
    "> create database demo;"
   ]
  },
  {
   "cell_type": "raw",
   "id": "b11e2bab",
   "metadata": {},
   "source": [
    "把容器刪掉，再從新起一個容器，進去看 mysql 資料庫看，會看到 demo 資料庫還在。"
   ]
  },
  {
   "cell_type": "markdown",
   "id": "d1e91b01",
   "metadata": {},
   "source": [
    "### Bind Mount 的操作"
   ]
  },
  {
   "cell_type": "raw",
   "id": "c81bfcf6",
   "metadata": {},
   "source": [
    "使用 Bind Mount 的方式與使用 Volume 的方式其實差不多，差別就在於使用 Volume 的話是將資料綁定於 docker 自動給定的 Volume 路徑資料中。而若是使用 Bind Mount 的話，則是綁訂在自己給定的路徑中。在 Bind Mount 的情況下有使用短選項 -v，Dockerfile 的指令 VOLUME 功能就消失了。"
   ]
  },
  {
   "cell_type": "markdown",
   "id": "403d8788",
   "metadata": {},
   "source": [
    "### 範例01"
   ]
  },
  {
   "cell_type": "raw",
   "id": "b6eb6aa3",
   "metadata": {},
   "source": [
    "Dockerfile-volume 檔:"
   ]
  },
  {
   "cell_type": "code",
   "execution_count": null,
   "id": "30267780",
   "metadata": {},
   "outputs": [],
   "source": [
    "FROM alpine:latest\n",
    "RUN apk update\n",
    "RUN apk --no-cache add curl\n",
    "ENV SUPERCRONIC_URL=https://github.com/aptible/supercronic/releases/download/v0.1.12/supercronic-linux-amd64 \\\n",
    "    SUPERCRONIC=supercronic-linux-amd64 \\\n",
    "    SUPERCRONIC_SHA1SUM=048b95b48b708983effb2e5c935a1ef8483d9e3e\n",
    "RUN curl -fsSLO \"$SUPERCRONIC_URL\" \\\n",
    "    && echo \"${SUPERCRONIC_SHA1SUM}  ${SUPERCRONIC}\" | sha1sum -c - \\\n",
    "    && chmod +x \"$SUPERCRONIC\" \\\n",
    "    && mv \"$SUPERCRONIC\" \"/usr/local/bin/${SUPERCRONIC}\" \\\n",
    "    && ln -s \"/usr/local/bin/${SUPERCRONIC}\" /usr/local/bin/supercronic\n",
    "COPY my-cron /app/my-cron\n",
    "WORKDIR /app\n",
    "VOLUME [ \"/app\" ]\n",
    "# RUN cron job\n",
    "CMD [\"/usr/local/bin/supercronic\", \"/app/my-cron\"]"
   ]
  },
  {
   "cell_type": "raw",
   "id": "21453da0",
   "metadata": {},
   "source": [
    "my-cron 檔:"
   ]
  },
  {
   "cell_type": "code",
   "execution_count": null,
   "id": "8f0c82a9",
   "metadata": {},
   "outputs": [],
   "source": [
    "*/1 * * * * date >> /app/test.txt"
   ]
  },
  {
   "cell_type": "raw",
   "id": "a69c4a7d",
   "metadata": {},
   "source": [
    "我們使用 Bind Mount 操作，把容器內路徑為 /app 的資料與本地的當前目錄共用。\n",
    "這樣把容器殺掉，再重起一個容器，資料還是會在，因為資料會同步到本地。且去觀察 docker volume ls 會發現沒有資料，因為我們不是\n",
    "使用 Data Volume 綁定。"
   ]
  },
  {
   "cell_type": "code",
   "execution_count": null,
   "id": "133588e0",
   "metadata": {},
   "outputs": [],
   "source": [
    "docker image build -t my-cron .\n",
    "docker container run -d -v $(pwd):/app my-cron"
   ]
  },
  {
   "cell_type": "markdown",
   "id": "d0fbb2ce",
   "metadata": {},
   "source": [
    "### 範例02 - 利用 docker 環境來開發"
   ]
  },
  {
   "cell_type": "raw",
   "id": "553241c4",
   "metadata": {},
   "source": [
    "hello.c 檔:"
   ]
  },
  {
   "cell_type": "code",
   "execution_count": null,
   "id": "da75d56c",
   "metadata": {},
   "outputs": [],
   "source": [
    "void main(int argc, char *argv[])\n",
    "{\n",
    "    printf(\"hello %s\\n\", argv[argc - 1]);\n",
    "}"
   ]
  },
  {
   "cell_type": "raw",
   "id": "b06001e6",
   "metadata": {},
   "source": [
    "我們現在有一個 hello.c 檔，但我們本地端沒有 gcc 的開發環境，這時候我們可以利用 docker 來進行開發。\n",
    "首先建立 gcc:9.4 的容器，把容器內的 /root 目錄同步到本地的當前目錄。然後在容器內編譯，產出的檔案會同步到我們當前目錄。"
   ]
  },
  {
   "cell_type": "code",
   "execution_count": null,
   "id": "99abc759",
   "metadata": {},
   "outputs": [],
   "source": [
    "docker container run -it -v $(pwd):/root gcc:9.4\n",
    "$ cd root/\n",
    "$ gcc --static -o hello hello.c\n",
    "$ ./hello docker"
   ]
  }
 ],
 "metadata": {
  "kernelspec": {
   "display_name": "Python 3",
   "language": "python",
   "name": "python3"
  },
  "language_info": {
   "codemirror_mode": {
    "name": "ipython",
    "version": 3
   },
   "file_extension": ".py",
   "mimetype": "text/x-python",
   "name": "python",
   "nbconvert_exporter": "python",
   "pygments_lexer": "ipython3",
   "version": "3.8.10"
  }
 },
 "nbformat": 4,
 "nbformat_minor": 5
}
