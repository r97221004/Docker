{
 "cells": [
  {
   "cell_type": "markdown",
   "id": "09e82c52",
   "metadata": {},
   "source": [
    "# 如何選擇鏡像: FROM "
   ]
  },
  {
   "cell_type": "raw",
   "id": "a6b5e9a6",
   "metadata": {},
   "source": [
    "在撰寫 Dockerfile 時，第一個遇到的問題就是基礎鏡像的選擇，基本上考慮以下幾點:\n",
    "\n",
    "1. 官方鏡像優於非官方的鏡像，如果沒有官方鏡像，則盡量選擇 Dockerfile 開源的鏡像比較安全。\n",
    "2. 固定版本 tag 非常重要，如果每次都使用 latest，有可能在之後遇到版本不相容的問題。\n",
    "3. 盡量選擇體積小的鏡像，例如 alpine 相關的基礎鏡像，體積小的原因是因為它本身使用的基礎鏡像較小，但有可能遇到鏡像包含太少工具的問題。"
   ]
  },
  {
   "cell_type": "markdown",
   "id": "f31df34f",
   "metadata": {},
   "source": [
    "### 範例01"
   ]
  },
  {
   "cell_type": "raw",
   "id": "7b7a5aab",
   "metadata": {},
   "source": [
    "index.html 檔:"
   ]
  },
  {
   "cell_type": "code",
   "execution_count": null,
   "id": "28357603",
   "metadata": {},
   "outputs": [],
   "source": [
    "<h1>Hello, Docker</h1>"
   ]
  },
  {
   "cell_type": "raw",
   "id": "e01d6e0b",
   "metadata": {},
   "source": [
    "Dockerfile 檔:"
   ]
  },
  {
   "cell_type": "code",
   "execution_count": null,
   "id": "10dd71f8",
   "metadata": {},
   "outputs": [],
   "source": [
    "FROM nginx:1.21.0-alpine\n",
    "ADD index.html /usr/share/nginx/html/index.html"
   ]
  },
  {
   "cell_type": "raw",
   "id": "e2d92259",
   "metadata": {},
   "source": [
    "將上面的兩個檔案放在同一個資料夾底下，可以試著變換不同的版本來看看 build 完的鏡像大小差多少。"
   ]
  },
  {
   "cell_type": "code",
   "execution_count": null,
   "id": "dead3068",
   "metadata": {},
   "outputs": [],
   "source": [
    "docker image build -t mynginx-alpine .\n",
    "docker image ls"
   ]
  },
  {
   "cell_type": "markdown",
   "id": "b488818a",
   "metadata": {},
   "source": [
    "# 執行基礎指令: RUN"
   ]
  },
  {
   "cell_type": "raw",
   "id": "bc7591e7",
   "metadata": {},
   "source": [
    "RUN 主要用於在鏡像裡面執行指令，比如安裝軟件，下載文件等等。\n",
    "我們可以通過下面的範例來了解如何使用 RUN 指令。"
   ]
  },
  {
   "cell_type": "markdown",
   "id": "c7215ce2",
   "metadata": {},
   "source": [
    "### 範例01"
   ]
  },
  {
   "cell_type": "raw",
   "id": "f74d5275",
   "metadata": {},
   "source": [
    "Dockerfile-bad 檔:"
   ]
  },
  {
   "cell_type": "code",
   "execution_count": null,
   "id": "8a36fb73",
   "metadata": {},
   "outputs": [],
   "source": [
    "FROM ubuntu:21.04\n",
    "RUN apt-get update\n",
    "RUN apt-get install -y wget\n",
    "RUN wget https://github.com/ipinfo/cli/releases/download/ipinfo-2.0.1/ipinfo_2.0.1_linux_amd64.tar.gz\n",
    "RUN tar zxf ipinfo_2.0.1_linux_amd64.tar.gz\n",
    "RUN mv ipinfo_2.0.1_linux_amd64 /usr/bin/ipinfo\n",
    "RUN rm -rf ipinfo_2.0.1_linux_amd64.tar.gz"
   ]
  },
  {
   "cell_type": "raw",
   "id": "3df38953",
   "metadata": {},
   "source": [
    "Dockerfile-good 檔:"
   ]
  },
  {
   "cell_type": "code",
   "execution_count": null,
   "id": "1e32afd2",
   "metadata": {},
   "outputs": [],
   "source": [
    "FROM ubuntu:21.04\n",
    "RUN apt-get update && \\\n",
    "    apt-get install -y wget && \\\n",
    "    wget https://github.com/ipinfo/cli/releases/download/ipinfo-2.0.1/ipinfo_2.0.1_linux_amd64.tar.gz && \\\n",
    "    tar zxf ipinfo_2.0.1_linux_amd64.tar.gz && \\\n",
    "    mv ipinfo_2.0.1_linux_amd64 /usr/bin/ipinfo && \\\n",
    "    rm -rf ipinfo_2.0.1_linux_amd64.tar.gz"
   ]
  },
  {
   "cell_type": "raw",
   "id": "10e1263c",
   "metadata": {},
   "source": [
    "使用 Dockerfile.bad 來構建鏡像，會把鏡像多分好幾層，使得鏡像變得擁腫。\n",
    "更重要的是雖然我們在後面刪除了壓縮包，但它其實還留在其他分層裡面，這樣的 Dockerfile 寫法會造成鏡像 size\n",
    "變大。我們可以試著用這兩個 Dockerfile 建構鏡像，去比較他們的 size 大小跟分層。\n",
    "注意可使用短選項 -f 來指定要用哪個 Dockerfile。"
   ]
  },
  {
   "cell_type": "code",
   "execution_count": null,
   "id": "dc9fc367",
   "metadata": {},
   "outputs": [],
   "source": [
    "docker image build -f Dockerfile.bad -t badimage . \n",
    "docker image ls \n",
    "docker image history imageId"
   ]
  },
  {
   "cell_type": "markdown",
   "id": "f7866246",
   "metadata": {},
   "source": [
    "# 文件的複製: COPY、ADD"
   ]
  },
  {
   "cell_type": "raw",
   "id": "831799d9",
   "metadata": {},
   "source": [
    "往鏡像裏面複製文件有兩種方式，COPY 和 ADD。我們來看一下兩者的不同，COPY 和 ADD 都可以把本地的一個文件複製\n",
    "到鏡像裡面，如果目標目錄不存在，則會自動創建。ADD 比 COPY 高級一點的地方就是，如果複製的是一個 gzip 等壓\n",
    "縮文件時，ADD 會幫助我們自動去解壓縮文件。\n",
    "因此在 COPY 和 ADD 指令中選擇的時候，可以遵循這樣的原則，所有的文件複製均使用 COPY 指令，僅在需要自動解壓縮的場合使用 ADD。"
   ]
  },
  {
   "cell_type": "markdown",
   "id": "2c739930",
   "metadata": {},
   "source": [
    "### 範例01"
   ]
  },
  {
   "cell_type": "raw",
   "id": "edca8e43",
   "metadata": {},
   "source": [
    "Dockerfile-copy 檔:"
   ]
  },
  {
   "cell_type": "code",
   "execution_count": null,
   "id": "7dc3ad35",
   "metadata": {},
   "outputs": [],
   "source": [
    "FROM python:3.9.5-alpine3.13\n",
    "COPY hello.py /app/hello.py"
   ]
  },
  {
   "cell_type": "raw",
   "id": "07b77a4a",
   "metadata": {},
   "source": [
    "hello.py 檔:"
   ]
  },
  {
   "cell_type": "code",
   "execution_count": null,
   "id": "0c477a6a",
   "metadata": {},
   "outputs": [],
   "source": [
    "print(\"Hello, Docker!\")"
   ]
  },
  {
   "cell_type": "raw",
   "id": "94d32eb7",
   "metadata": {},
   "source": [
    "注意要把相關檔案放在同一個資料夾底下。然後 cd 到同一個資料夾下。\n",
    "注意在把 hello.py 檔從本地複製到容器內時，它的權限也會被保留到容器內。\n",
    "進去容器裡面驗證一下。"
   ]
  },
  {
   "cell_type": "code",
   "execution_count": null,
   "id": "6c99a4c7",
   "metadata": {},
   "outputs": [],
   "source": [
    "docker image build -f Dockerfile-copy -t hello-copy .\n",
    "docker image history imageId\n",
    "docker container run -it hello-copy sh"
   ]
  },
  {
   "cell_type": "markdown",
   "id": "6530aa48",
   "metadata": {},
   "source": [
    "### 範例02"
   ]
  },
  {
   "cell_type": "code",
   "execution_count": null,
   "id": "21b98c40",
   "metadata": {},
   "outputs": [],
   "source": [
    "Dockerfile-add 檔:"
   ]
  },
  {
   "cell_type": "code",
   "execution_count": null,
   "id": "243157da",
   "metadata": {},
   "outputs": [],
   "source": [
    "FROM python:3.9.5-alpine3.13\n",
    "ADD hello.tar.xz /app/"
   ]
  },
  {
   "cell_type": "raw",
   "id": "ff81bd64",
   "metadata": {},
   "source": [
    "注意要把相關檔案放在同一個資料夾底下。然後 cd 到同一個資料夾下。\n",
    "hello.tar.xz 則是剛剛的 hello.py 檔案的壓縮包。\n",
    "使用 ADD 的優勢是會幫我們把檔案解壓縮。一樣進去容器裡面驗證看看。"
   ]
  },
  {
   "cell_type": "code",
   "execution_count": null,
   "id": "2f39fdcd",
   "metadata": {},
   "outputs": [],
   "source": [
    "docker image build -f Dockerfile-add -t hello-add .\n",
    "docker image history imageId\n",
    "docker container run -it hello-add sh"
   ]
  },
  {
   "cell_type": "markdown",
   "id": "d22f7d75",
   "metadata": {},
   "source": [
    "# 資料夾的變換操作: WORKDIR"
   ]
  },
  {
   "cell_type": "raw",
   "id": "6854c085",
   "metadata": {},
   "source": [
    "WORKDIR 的操作類似於 cd 指令，但是比 cd 指令更好的地方是如果資料夾不存在會自動幫我們創建一個。"
   ]
  },
  {
   "cell_type": "markdown",
   "id": "cac09af0",
   "metadata": {},
   "source": [
    "### 範例01"
   ]
  },
  {
   "cell_type": "raw",
   "id": "fcda7ec0",
   "metadata": {},
   "source": [
    "Dockerfile 檔:"
   ]
  },
  {
   "cell_type": "code",
   "execution_count": null,
   "id": "1b39221b",
   "metadata": {},
   "outputs": [],
   "source": [
    "From python:3.9.5-alpine3.13\n",
    "WORKDIR /hello/app\n",
    "COPY hello.py hello.py"
   ]
  },
  {
   "cell_type": "raw",
   "id": "a0684559",
   "metadata": {},
   "source": [
    "hello.py 檔:"
   ]
  },
  {
   "cell_type": "code",
   "execution_count": null,
   "id": "3b850e84",
   "metadata": {},
   "outputs": [],
   "source": [
    "print(\"Hello, Docker!\")"
   ]
  },
  {
   "cell_type": "raw",
   "id": "1b37d527",
   "metadata": {},
   "source": [
    "注意流程，首先會 cd 到 /hello/app 目錄下，如果遇到沒有的目錄會自動創建。\n",
    "接下來把本地的 hello.py 複製到現在的目錄下，也就是 app 目錄。\n",
    "重點是如果現在進入容器內部的 shell，當前目錄會是 /hello/app。"
   ]
  },
  {
   "cell_type": "code",
   "execution_count": null,
   "id": "ada9f41e",
   "metadata": {},
   "outputs": [],
   "source": [
    "docker image build -t hello-workdir .\n",
    "docker container run -it hello-workdir python hello.py\n",
    "docker container run -it hello-workdir ls"
   ]
  },
  {
   "cell_type": "markdown",
   "id": "5453a3e6",
   "metadata": {},
   "source": [
    "# 構建參數: ARG "
   ]
  },
  {
   "cell_type": "raw",
   "id": "28212ca3",
   "metadata": {},
   "source": [
    "關於構建參數 ARG，需要特別注意以下幾件事情:\n",
    "\n",
    "1. Dockerfile 裏面的 ARG 指令定義了一個變量，在運行 docker build 命令時使用。\n",
    "2. 你除了可以在 Dockerfile 裡面加入這個指令外，跟環境變數 ENV 不同的是，你也可以在不更改 ARG 的情況下，用長選項 --build-arg\n",
    "   <varname> = <value> 參數將其傳遞給構建器。\n",
    "3. 這種變量只存在於鏡像構建的時候，一旦鏡像構建完成就失效了，不要使用構建時變量來傳遞諸如 github 密鑰，用戶憑據等機密數據，構建時變量\n",
    "   值可以使用 docker image history 命令查看。"
   ]
  },
  {
   "cell_type": "markdown",
   "id": "70fd6c3c",
   "metadata": {},
   "source": [
    "### 範例01"
   ]
  },
  {
   "cell_type": "raw",
   "id": "4ba72474",
   "metadata": {},
   "source": [
    "Dockerfile-arg 檔:"
   ]
  },
  {
   "cell_type": "code",
   "execution_count": null,
   "id": "e0ec362f",
   "metadata": {},
   "outputs": [],
   "source": [
    "FROM ubuntu:21.04\n",
    "ARG VERSION=2.0.1\n",
    "RUN apt-get update && \\\n",
    "    apt-get install -y wget && \\\n",
    "    wget https://github.com/ipinfo/cli/releases/download/ipinfo-${VERSION}/ipinfo_${VERSION}_linux_amd64.tar.gz && \\\n",
    "    tar zxf ipinfo_${VERSION}_linux_amd64.tar.gz && \\\n",
    "    mv ipinfo_${VERSION}_linux_amd64 /usr/bin/ipinfo && \\\n",
    "    rm -rf ipinfo_${VERSION}_linux_amd64.tar.gz"
   ]
  },
  {
   "cell_type": "raw",
   "id": "a669b214",
   "metadata": {},
   "source": [
    "這樣寫是有好處的，之後要改版本只需要改一個地方。\n",
    "把 image 建起來之後，先進去 shell 看看 ipinfo 的版本是不是跟我們想的一樣。\n",
    "再輸入 Linux 指令 env 看看環境變量有哪些，在這個範例下是不會有 VERSION=2.0.1 的。\n",
    "最後可以試著練習用 --build-arg 傳版本進去。"
   ]
  },
  {
   "cell_type": "code",
   "execution_count": null,
   "id": "ad1c2d05",
   "metadata": {},
   "outputs": [],
   "source": [
    "docker image build -f Docker-age -t ipinfo-arg --build-arg VERSION=2.0.0 ."
   ]
  },
  {
   "cell_type": "code",
   "execution_count": null,
   "id": "fed9e2f1",
   "metadata": {},
   "outputs": [],
   "source": [
    "docker image build -f Docker-age -t ipinfo-arg .\n",
    "docker container run -it ipinfo-arg sh\n",
    "$ ipinfo version\n",
    "$ env "
   ]
  },
  {
   "cell_type": "markdown",
   "id": "1b02d090",
   "metadata": {},
   "source": [
    "# 環境變數: ENV"
   ]
  },
  {
   "cell_type": "raw",
   "id": "636c4157",
   "metadata": {},
   "source": [
    "關於環境變數 ENV，需要特別注意以下幾件事情:\n",
    "\n",
    "1. Dockerfile 裏面的 ENV 指令將環境變量設置為值 ，這個變量將在構建階段中所有後續指令的環境中使用。\n",
    "2. 使用 ENV 設置的環境變量將一直存在於構建鏡像時以及鏡像容器運行時，可以使用 docker image inspect 查看設置打的變量。\n",
    "   也可以使用 docker container run --env <key> = <value> 來更改它們。\n",
    "3. 構建參數 ARG 與環境變數 ENV 最大的差別就是 ARG 在構建鏡像完就消失，而環境變數 ENV 會一直保留在鏡像中。如圖:"
   ]
  },
  {
   "cell_type": "markdown",
   "id": "d1bed0a2",
   "metadata": {},
   "source": [
    "<img src=\"img/6.png\">"
   ]
  },
  {
   "cell_type": "markdown",
   "id": "917fa88f",
   "metadata": {},
   "source": [
    "### 範例01"
   ]
  },
  {
   "cell_type": "raw",
   "id": "163d152d",
   "metadata": {},
   "source": [
    "Dockerfile-env 檔:"
   ]
  },
  {
   "cell_type": "code",
   "execution_count": null,
   "id": "42848f81",
   "metadata": {},
   "outputs": [],
   "source": [
    "FROM ubuntu:21.04\n",
    "ENV VERSION=2.0.1\n",
    "RUN apt-get update && \\\n",
    "    apt-get install -y wget && \\\n",
    "    wget https://github.com/ipinfo/cli/releases/download/ipinfo-${VERSION}/ipinfo_${VERSION}_linux_amd64.tar.gz && \\\n",
    "    tar zxf ipinfo_${VERSION}_linux_amd64.tar.gz && \\\n",
    "    mv ipinfo_${VERSION}_linux_amd64 /usr/bin/ipinfo && \\\n",
    "    rm -rf ipinfo_${VERSION}_linux_amd64.tar.gz"
   ]
  },
  {
   "cell_type": "code",
   "execution_count": null,
   "id": "fbff9a2c",
   "metadata": {},
   "outputs": [],
   "source": [
    "這樣寫是一樣有好處的，之後要改版本只需要改一個地方。不同之前，這次 VERSION 會被保留在鏡像中。\n",
    "把 image 建起來之後，先進去 shell 看看 ipinfo 的版本是不是跟我們想的一樣。\n",
    "再輸入 Linux 指令 env 看看環境變量有哪些，在這個範例下會有環境變數 VERSION=2.0.1 。\n",
    "最後可以試著練習在建立容器的時候用長選項 --env 來改一下 容器內的環境變數。"
   ]
  },
  {
   "cell_type": "code",
   "execution_count": null,
   "id": "bb8003a5",
   "metadata": {},
   "outputs": [],
   "source": [
    "docker image build -f Dockerfile-env -t ipinfo-env .\n",
    "docker container run -it ipinfo-env sh\n",
    "$ ipinfo version\n",
    "$ env"
   ]
  },
  {
   "cell_type": "code",
   "execution_count": null,
   "id": "0f5db490",
   "metadata": {},
   "outputs": [],
   "source": []
  }
 ],
 "metadata": {
  "kernelspec": {
   "display_name": "Python 3",
   "language": "python",
   "name": "python3"
  },
  "language_info": {
   "codemirror_mode": {
    "name": "ipython",
    "version": 3
   },
   "file_extension": ".py",
   "mimetype": "text/x-python",
   "name": "python",
   "nbconvert_exporter": "python",
   "pygments_lexer": "ipython3",
   "version": "3.8.10"
  }
 },
 "nbformat": 4,
 "nbformat_minor": 5
}
