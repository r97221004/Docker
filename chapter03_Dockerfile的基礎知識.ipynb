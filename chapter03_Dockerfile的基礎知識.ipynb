{
 "cells": [
  {
   "cell_type": "markdown",
   "id": "52f5c443",
   "metadata": {},
   "source": [
    "為了讓自己的 Dockerfile 檔寫得更好，可參考 Docker 官網來練習與參考:<br>\n",
    "Dockerfile reference: https://docs.docker.com/engine/reference/builder/ <br>\n",
    "docker 官方鏡像: https://github.com/docker-library/official-images        "
   ]
  },
  {
   "cell_type": "markdown",
   "id": "09e82c52",
   "metadata": {},
   "source": [
    "# 如何選擇鏡像: FROM "
   ]
  },
  {
   "cell_type": "raw",
   "id": "a6b5e9a6",
   "metadata": {},
   "source": [
    "在撰寫 Dockerfile 時，第一個遇到的問題就是基礎鏡像的選擇，基本上考慮以下幾點:\n",
    "\n",
    "1. 官方鏡像優於非官方的鏡像，如果沒有官方鏡像，則盡量選擇 Dockerfile 開源的鏡像比較安全。\n",
    "2. 固定版本 tag 非常重要，如果每次都使用 latest，有可能在之後遇到版本不相容的問題。\n",
    "3. 盡量選擇體積小的鏡像，例如 alpine 相關的基礎鏡像，體積小的原因是因為它本身使用的基礎鏡像較小，但有可能遇到鏡像包含太少工具的問題。"
   ]
  },
  {
   "cell_type": "markdown",
   "id": "f31df34f",
   "metadata": {},
   "source": [
    "### 範例01"
   ]
  },
  {
   "cell_type": "raw",
   "id": "7b7a5aab",
   "metadata": {},
   "source": [
    "index.html 檔:"
   ]
  },
  {
   "cell_type": "code",
   "execution_count": null,
   "id": "28357603",
   "metadata": {},
   "outputs": [],
   "source": [
    "<h1>Hello, Docker</h1>"
   ]
  },
  {
   "cell_type": "raw",
   "id": "e01d6e0b",
   "metadata": {},
   "source": [
    "Dockerfile 檔:"
   ]
  },
  {
   "cell_type": "code",
   "execution_count": null,
   "id": "10dd71f8",
   "metadata": {},
   "outputs": [],
   "source": [
    "FROM nginx:1.21.0-alpine\n",
    "ADD index.html /usr/share/nginx/html/index.html"
   ]
  },
  {
   "cell_type": "raw",
   "id": "e2d92259",
   "metadata": {},
   "source": [
    "將上面的兩個檔案放在同一個資料夾底下，可以試著變換不同的版本來看看 build 完的鏡像大小差多少。"
   ]
  },
  {
   "cell_type": "code",
   "execution_count": null,
   "id": "dead3068",
   "metadata": {},
   "outputs": [],
   "source": [
    "docker image build -t mynginx-alpine .\n",
    "docker image ls"
   ]
  },
  {
   "cell_type": "markdown",
   "id": "b488818a",
   "metadata": {},
   "source": [
    "# 執行基礎指令: RUN"
   ]
  },
  {
   "cell_type": "raw",
   "id": "bc7591e7",
   "metadata": {},
   "source": [
    "RUN 主要用於在鏡像裡面執行指令，比如安裝軟件，下載文件等等。\n",
    "我們可以通過下面的範例來了解如何使用 RUN 指令。"
   ]
  },
  {
   "cell_type": "markdown",
   "id": "c7215ce2",
   "metadata": {},
   "source": [
    "### 範例01"
   ]
  },
  {
   "cell_type": "raw",
   "id": "f74d5275",
   "metadata": {},
   "source": [
    "Dockerfile-bad 檔:"
   ]
  },
  {
   "cell_type": "code",
   "execution_count": null,
   "id": "8a36fb73",
   "metadata": {},
   "outputs": [],
   "source": [
    "FROM ubuntu:21.04\n",
    "RUN apt-get update\n",
    "RUN apt-get install -y wget\n",
    "RUN wget https://github.com/ipinfo/cli/releases/download/ipinfo-2.0.1/ipinfo_2.0.1_linux_amd64.tar.gz\n",
    "RUN tar zxf ipinfo_2.0.1_linux_amd64.tar.gz\n",
    "RUN mv ipinfo_2.0.1_linux_amd64 /usr/bin/ipinfo\n",
    "RUN rm -rf ipinfo_2.0.1_linux_amd64.tar.gz"
   ]
  },
  {
   "cell_type": "raw",
   "id": "3df38953",
   "metadata": {},
   "source": [
    "Dockerfile-good 檔:"
   ]
  },
  {
   "cell_type": "code",
   "execution_count": null,
   "id": "1e32afd2",
   "metadata": {},
   "outputs": [],
   "source": [
    "FROM ubuntu:21.04\n",
    "RUN apt-get update && \\\n",
    "    apt-get install -y wget && \\\n",
    "    wget https://github.com/ipinfo/cli/releases/download/ipinfo-2.0.1/ipinfo_2.0.1_linux_amd64.tar.gz && \\\n",
    "    tar zxf ipinfo_2.0.1_linux_amd64.tar.gz && \\\n",
    "    mv ipinfo_2.0.1_linux_amd64 /usr/bin/ipinfo && \\\n",
    "    rm -rf ipinfo_2.0.1_linux_amd64.tar.gz"
   ]
  },
  {
   "cell_type": "raw",
   "id": "10e1263c",
   "metadata": {},
   "source": [
    "使用 Dockerfile.bad 來構建鏡像，會把鏡像多分好幾層，使得鏡像變得擁腫。\n",
    "更重要的是雖然我們在後面刪除了壓縮包，但它其實還留在其他分層裡面，這樣的 Dockerfile 寫法會造成鏡像 size\n",
    "變大。我們可以試著用這兩個 Dockerfile 建構鏡像，去比較他們的 size 大小跟分層。\n",
    "注意可使用短選項 -f 來指定要用哪個 Dockerfile。"
   ]
  },
  {
   "cell_type": "code",
   "execution_count": null,
   "id": "dc9fc367",
   "metadata": {},
   "outputs": [],
   "source": [
    "docker image build -f Dockerfile.bad -t badimage . \n",
    "docker image ls \n",
    "docker image history imageId"
   ]
  },
  {
   "cell_type": "markdown",
   "id": "f7866246",
   "metadata": {},
   "source": [
    "# 文件的複製: COPY、ADD"
   ]
  },
  {
   "cell_type": "raw",
   "id": "831799d9",
   "metadata": {},
   "source": [
    "往鏡像裏面複製文件有兩種方式，COPY 和 ADD。我們來看一下兩者的不同，COPY 和 ADD 都可以把本地的一個文件複製\n",
    "到鏡像裡面，如果目標目錄不存在，則會自動創建。ADD 比 COPY 高級一點的地方就是，如果複製的是一個 gzip 等壓\n",
    "縮文件時，ADD 會幫助我們自動去解壓縮文件。\n",
    "因此在 COPY 和 ADD 指令中選擇的時候，可以遵循這樣的原則，所有的文件複製均使用 COPY 指令，僅在需要自動解壓縮的場合使用 ADD。"
   ]
  },
  {
   "cell_type": "markdown",
   "id": "2c739930",
   "metadata": {},
   "source": [
    "### 範例01"
   ]
  },
  {
   "cell_type": "raw",
   "id": "edca8e43",
   "metadata": {},
   "source": [
    "Dockerfile-copy 檔:"
   ]
  },
  {
   "cell_type": "code",
   "execution_count": null,
   "id": "7dc3ad35",
   "metadata": {},
   "outputs": [],
   "source": [
    "FROM python:3.9.5-alpine3.13\n",
    "COPY hello.py /app/hello.py"
   ]
  },
  {
   "cell_type": "raw",
   "id": "07b77a4a",
   "metadata": {},
   "source": [
    "hello.py 檔:"
   ]
  },
  {
   "cell_type": "code",
   "execution_count": null,
   "id": "0c477a6a",
   "metadata": {},
   "outputs": [],
   "source": [
    "print(\"Hello, Docker!\")"
   ]
  },
  {
   "cell_type": "raw",
   "id": "94d32eb7",
   "metadata": {},
   "source": [
    "注意要把相關檔案放在同一個資料夾底下。然後 cd 到同一個資料夾下。\n",
    "注意在把 hello.py 檔從本地複製到容器內時，它的權限也會被保留到容器內。\n",
    "進去容器裡面驗證一下。"
   ]
  },
  {
   "cell_type": "code",
   "execution_count": null,
   "id": "6c99a4c7",
   "metadata": {},
   "outputs": [],
   "source": [
    "docker image build -f Dockerfile-copy -t hello-copy .\n",
    "docker image history imageId\n",
    "docker container run -it hello-copy sh"
   ]
  },
  {
   "cell_type": "markdown",
   "id": "6530aa48",
   "metadata": {},
   "source": [
    "### 範例02"
   ]
  },
  {
   "cell_type": "code",
   "execution_count": null,
   "id": "21b98c40",
   "metadata": {},
   "outputs": [],
   "source": [
    "Dockerfile-add 檔:"
   ]
  },
  {
   "cell_type": "code",
   "execution_count": null,
   "id": "243157da",
   "metadata": {},
   "outputs": [],
   "source": [
    "FROM python:3.9.5-alpine3.13\n",
    "ADD hello.tar.xz /app/"
   ]
  },
  {
   "cell_type": "raw",
   "id": "ff81bd64",
   "metadata": {},
   "source": [
    "注意要把相關檔案放在同一個資料夾底下。然後 cd 到同一個資料夾下。\n",
    "hello.tar.xz 則是剛剛的 hello.py 檔案的壓縮包。\n",
    "使用 ADD 的優勢是會幫我們把檔案解壓縮。一樣進去容器裡面驗證看看。"
   ]
  },
  {
   "cell_type": "code",
   "execution_count": null,
   "id": "2f39fdcd",
   "metadata": {},
   "outputs": [],
   "source": [
    "docker image build -f Dockerfile-add -t hello-add .\n",
    "docker image history imageId\n",
    "docker container run -it hello-add sh"
   ]
  },
  {
   "cell_type": "markdown",
   "id": "d22f7d75",
   "metadata": {},
   "source": [
    "# 資料夾的變換操作: WORKDIR"
   ]
  },
  {
   "cell_type": "raw",
   "id": "6854c085",
   "metadata": {},
   "source": [
    "WORKDIR 的操作類似於 cd 指令，但是比 cd 指令更好的地方是如果資料夾不存在會自動幫我們創建一個。"
   ]
  },
  {
   "cell_type": "markdown",
   "id": "cac09af0",
   "metadata": {},
   "source": [
    "### 範例01"
   ]
  },
  {
   "cell_type": "raw",
   "id": "fcda7ec0",
   "metadata": {},
   "source": [
    "Dockerfile 檔:"
   ]
  },
  {
   "cell_type": "code",
   "execution_count": null,
   "id": "1b39221b",
   "metadata": {},
   "outputs": [],
   "source": [
    "From python:3.9.5-alpine3.13\n",
    "WORKDIR /hello/app\n",
    "COPY hello.py hello.py"
   ]
  },
  {
   "cell_type": "raw",
   "id": "a0684559",
   "metadata": {},
   "source": [
    "hello.py 檔:"
   ]
  },
  {
   "cell_type": "code",
   "execution_count": null,
   "id": "3b850e84",
   "metadata": {},
   "outputs": [],
   "source": [
    "print(\"Hello, Docker!\")"
   ]
  },
  {
   "cell_type": "raw",
   "id": "1b37d527",
   "metadata": {},
   "source": [
    "注意流程，首先會 cd 到 /hello/app 目錄下，如果遇到沒有的目錄會自動創建。\n",
    "接下來把本地的 hello.py 複製到現在的目錄下，也就是 app 目錄。\n",
    "重點是如果現在進入容器內部的 shell，當前目錄會是 /hello/app。"
   ]
  },
  {
   "cell_type": "code",
   "execution_count": null,
   "id": "ada9f41e",
   "metadata": {},
   "outputs": [],
   "source": [
    "docker image build -t hello-workdir .\n",
    "docker container run -it hello-workdir python hello.py\n",
    "docker container run -it hello-workdir ls"
   ]
  },
  {
   "cell_type": "markdown",
   "id": "5453a3e6",
   "metadata": {},
   "source": [
    "# 構建參數: ARG "
   ]
  },
  {
   "cell_type": "raw",
   "id": "28212ca3",
   "metadata": {},
   "source": [
    "關於構建參數 ARG，需要特別注意以下幾件事情:\n",
    "\n",
    "1. Dockerfile 裏面的 ARG 指令定義了一個變量，在運行 docker build 命令時使用。\n",
    "2. 你除了可以在 Dockerfile 裡面加入這個指令外，跟環境變數 ENV 不同的是，你也可以在不更改 ARG 的情況下，用長選項 --build-arg\n",
    "   <varname> = <value> 參數將其傳遞給構建器。\n",
    "3. 這種變量只存在於鏡像構建的時候，一旦鏡像構建完成就失效了，不要使用構建時變量來傳遞諸如 github 密鑰，用戶憑據等機密數據，構建時變量\n",
    "   值可以使用 docker image history 命令查看。"
   ]
  },
  {
   "cell_type": "markdown",
   "id": "70fd6c3c",
   "metadata": {},
   "source": [
    "### 範例01"
   ]
  },
  {
   "cell_type": "raw",
   "id": "4ba72474",
   "metadata": {},
   "source": [
    "Dockerfile-arg 檔:"
   ]
  },
  {
   "cell_type": "code",
   "execution_count": null,
   "id": "e0ec362f",
   "metadata": {},
   "outputs": [],
   "source": [
    "FROM ubuntu:21.04\n",
    "ARG VERSION=2.0.1\n",
    "RUN apt-get update && \\\n",
    "    apt-get install -y wget && \\\n",
    "    wget https://github.com/ipinfo/cli/releases/download/ipinfo-${VERSION}/ipinfo_${VERSION}_linux_amd64.tar.gz && \\\n",
    "    tar zxf ipinfo_${VERSION}_linux_amd64.tar.gz && \\\n",
    "    mv ipinfo_${VERSION}_linux_amd64 /usr/bin/ipinfo && \\\n",
    "    rm -rf ipinfo_${VERSION}_linux_amd64.tar.gz"
   ]
  },
  {
   "cell_type": "raw",
   "id": "a669b214",
   "metadata": {},
   "source": [
    "這樣寫是有好處的，之後要改版本只需要改一個地方。\n",
    "把 image 建起來之後，先進去 shell 看看 ipinfo 的版本是不是跟我們想的一樣。\n",
    "再輸入 Linux 指令 env 看看環境變量有哪些，在這個範例下是不會有 VERSION=2.0.1 的。\n",
    "最後可以試著練習用 --build-arg 傳版本進去。"
   ]
  },
  {
   "cell_type": "code",
   "execution_count": null,
   "id": "ad1c2d05",
   "metadata": {},
   "outputs": [],
   "source": [
    "docker image build -f Docker-age -t ipinfo-arg --build-arg VERSION=2.0.0 ."
   ]
  },
  {
   "cell_type": "code",
   "execution_count": null,
   "id": "fed9e2f1",
   "metadata": {},
   "outputs": [],
   "source": [
    "docker image build -f Docker-age -t ipinfo-arg .\n",
    "docker container run -it ipinfo-arg sh\n",
    "$ ipinfo version\n",
    "$ env "
   ]
  },
  {
   "cell_type": "markdown",
   "id": "1b02d090",
   "metadata": {},
   "source": [
    "# 環境變數: ENV"
   ]
  },
  {
   "cell_type": "raw",
   "id": "636c4157",
   "metadata": {},
   "source": [
    "關於環境變數 ENV，需要特別注意以下幾件事情:\n",
    "\n",
    "1. Dockerfile 裏面的 ENV 指令將環境變量設置為值 ，這個變量將在構建階段中所有後續指令的環境中使用。\n",
    "2. 使用 ENV 設置的環境變量將一直存在於構建鏡像時以及鏡像容器運行時，可以使用 docker image inspect 查看設置打的變量。\n",
    "   也可以使用 docker container run --env <key> = <value> 來更改它們。\n",
    "3. 構建參數 ARG 與環境變數 ENV 最大的差別就是 ARG 在構建鏡像完就消失，而環境變數 ENV 會一直保留在鏡像中。如圖:"
   ]
  },
  {
   "cell_type": "markdown",
   "id": "d1bed0a2",
   "metadata": {},
   "source": [
    "<img src=\"img/6.png\">"
   ]
  },
  {
   "cell_type": "markdown",
   "id": "917fa88f",
   "metadata": {},
   "source": [
    "### 範例01"
   ]
  },
  {
   "cell_type": "raw",
   "id": "163d152d",
   "metadata": {},
   "source": [
    "Dockerfile-env 檔:"
   ]
  },
  {
   "cell_type": "code",
   "execution_count": null,
   "id": "42848f81",
   "metadata": {},
   "outputs": [],
   "source": [
    "FROM ubuntu:21.04\n",
    "ENV VERSION=2.0.1\n",
    "RUN apt-get update && \\\n",
    "    apt-get install -y wget && \\\n",
    "    wget https://github.com/ipinfo/cli/releases/download/ipinfo-${VERSION}/ipinfo_${VERSION}_linux_amd64.tar.gz && \\\n",
    "    tar zxf ipinfo_${VERSION}_linux_amd64.tar.gz && \\\n",
    "    mv ipinfo_${VERSION}_linux_amd64 /usr/bin/ipinfo && \\\n",
    "    rm -rf ipinfo_${VERSION}_linux_amd64.tar.gz"
   ]
  },
  {
   "cell_type": "code",
   "execution_count": null,
   "id": "fbff9a2c",
   "metadata": {},
   "outputs": [],
   "source": [
    "這樣寫是一樣有好處的，之後要改版本只需要改一個地方。不同之前，這次 VERSION 會被保留在鏡像中。\n",
    "把 image 建起來之後，先進去 shell 看看 ipinfo 的版本是不是跟我們想的一樣。\n",
    "再輸入 Linux 指令 env 看看環境變量有哪些，在這個範例下會有環境變數 VERSION=2.0.1 。\n",
    "最後可以試著練習在建立容器的時候用長選項 --env 來改一下 容器內的環境變數。"
   ]
  },
  {
   "cell_type": "code",
   "execution_count": null,
   "id": "bb8003a5",
   "metadata": {},
   "outputs": [],
   "source": [
    "docker image build -f Dockerfile-env -t ipinfo-env .\n",
    "docker container run -it ipinfo-env sh\n",
    "$ ipinfo version\n",
    "$ env"
   ]
  },
  {
   "cell_type": "markdown",
   "id": "abc53c27",
   "metadata": {},
   "source": [
    "# 容器啟動命令: CMD"
   ]
  },
  {
   "cell_type": "raw",
   "id": "1cec93e9",
   "metadata": {},
   "source": [
    "命令 CMD 可以用來設置容器啟動時默認會執行的命令。以下有幾點需要注意:\n",
    "\n",
    "1. 容器啟動時默認執行的命令。\n",
    "2. 如果 docker container run 啟動容器時指定了其它命令，則 CMD 命令會被忽略。\n",
    "3. 如果定義了多個 CMD 命令，只有最後一個會被執行，如果指定最會一個命令為 CMD []，在互動模式時沒輸入命令會報錯。"
   ]
  },
  {
   "cell_type": "markdown",
   "id": "29970ee1",
   "metadata": {},
   "source": [
    "### 範例01"
   ]
  },
  {
   "cell_type": "raw",
   "id": "9a313a69",
   "metadata": {},
   "source": [
    "Dockerfile-cmd 檔:"
   ]
  },
  {
   "cell_type": "code",
   "execution_count": null,
   "id": "ec043bab",
   "metadata": {},
   "outputs": [],
   "source": [
    "FROM ubuntu:21.04\n",
    "ENV VERSION=2.0.1\n",
    "RUN apt-get update && \\\n",
    "    apt-get install -y wget && \\\n",
    "    wget https://github.com/ipinfo/cli/releases/download/ipinfo-${VERSION}/ipinfo_${VERSION}_linux_amd64.tar.gz && \\\n",
    "    tar zxf ipinfo_${VERSION}_linux_amd64.tar.gz && \\\n",
    "    mv ipinfo_${VERSION}_linux_amd64 /usr/bin/ipinfo && \\\n",
    "    rm -rf ipinfo_${VERSION}_linux_amd64.tar.gz\n",
    "CMD [\"ipinfo\"]"
   ]
  },
  {
   "cell_type": "raw",
   "id": "95fec7df",
   "metadata": {},
   "source": [
    "Dockerfile-empty 檔:"
   ]
  },
  {
   "cell_type": "code",
   "execution_count": null,
   "id": "6ec45955",
   "metadata": {},
   "outputs": [],
   "source": [
    "FROM ubuntu:21.04\n",
    "ENV VERSION=2.0.1\n",
    "RUN apt-get update && \\\n",
    "    apt-get install -y wget && \\\n",
    "    wget https://github.com/ipinfo/cli/releases/download/ipinfo-${VERSION}/ipinfo_${VERSION}_linux_amd64.tar.gz && \\\n",
    "    tar zxf ipinfo_${VERSION}_linux_amd64.tar.gz && \\\n",
    "    mv ipinfo_${VERSION}_linux_amd64 /usr/bin/ipinfo && \\\n",
    "    rm -rf ipinfo_${VERSION}_linux_amd64.tar.gz\n",
    "CMD []"
   ]
  },
  {
   "cell_type": "raw",
   "id": "715d568c",
   "metadata": {},
   "source": [
    "分別將兩個檔案都 build 成影像，然後分進入互動模式看看差別。\n",
    "如果互動模式有皆命令，最後一個 CMD 命令就不會被執行。而 CMD 命令的寫法可分成兩種，之後會詳細的解釋。"
   ]
  },
  {
   "cell_type": "code",
   "execution_count": null,
   "id": "b12dedf9",
   "metadata": {},
   "outputs": [],
   "source": [
    "docker image build -f Dockerfile-cmd -t ipinfo-cmd .\n",
    "docker container run -it ipinfo-cmd\n",
    "docker container run -it ipinfo-cmd sh\n",
    "docker container run -it ipinfo-cmd ipinfo 8.8.8.8\n",
    "docker system prune -f"
   ]
  },
  {
   "cell_type": "markdown",
   "id": "9c0153c4",
   "metadata": {},
   "source": [
    "# 容器啟動命令: ENTRYPOINT"
   ]
  },
  {
   "cell_type": "raw",
   "id": "8d1c2511",
   "metadata": {},
   "source": [
    "ENTRYPOINT 也可以設置容器啟動時要執行的命令，但是和 CMD 是有區別的。有以下幾點需要注意:\n",
    "    \n",
    "1. CMD 設置的命令，可以在 docker container run 時傳入其它命令，覆蓋掉 CMD 的命令，但是 ENTRYPOINT 所設置的命令是一定會被執行的。\n",
    "2. ENTRYPOINT 和 CMD 可以聯合使用，ENTRYPOINT 設置執行的命令，CMD 則是傳遞參數。\n",
    "3. 如果設定了 ENTRYPOINT 但又在 docker container run 時傳入其它命令，這個命令會被當成 ENTRYPOINT 的參數"
   ]
  },
  {
   "cell_type": "markdown",
   "id": "981ec23d",
   "metadata": {},
   "source": [
    "### 範例01"
   ]
  },
  {
   "cell_type": "raw",
   "id": "9934ec8a",
   "metadata": {},
   "source": [
    "Dockerfile-cmd 檔:"
   ]
  },
  {
   "cell_type": "code",
   "execution_count": null,
   "id": "b02b5a3c",
   "metadata": {},
   "outputs": [],
   "source": [
    "FROM ubuntu:21.04\n",
    "CMD [\"echo\", \"hello docker\"]"
   ]
  },
  {
   "cell_type": "raw",
   "id": "5bbae2a8",
   "metadata": {},
   "source": [
    "Dockerfile-entrypoint 檔:"
   ]
  },
  {
   "cell_type": "code",
   "execution_count": null,
   "id": "eb5a7486",
   "metadata": {},
   "outputs": [],
   "source": [
    "FROM ubuntu:21.04\n",
    "RUN apt-get update && \\\n",
    "    apt-get install -y curl\n",
    "ENTRYPOINT [\"curl\", \"-s\", \"www.google.com\"]"
   ]
  },
  {
   "cell_type": "raw",
   "id": "6686fb46",
   "metadata": {},
   "source": [
    "Dockerfile-both 檔:"
   ]
  },
  {
   "cell_type": "code",
   "execution_count": null,
   "id": "225c0004",
   "metadata": {},
   "outputs": [],
   "source": [
    "FROM ubuntu:21.04\n",
    "RUN apt-get update && \\\n",
    "    apt-get install -y curl\n",
    "ENTRYPOINT [\"curl\", \"-s\", \"www.google.com\"]\n",
    "CMD [\"-i\"]"
   ]
  },
  {
   "cell_type": "raw",
   "id": "24a645ba",
   "metadata": {},
   "source": [
    "分別將三個 Dockerfile 建構成影像，分別加入額外命令跟不加入額外命令看看之間的差別。常使用的方式是，\n",
    "ENTRYPOINT 和 CMD 的聯合使用，ENTRYPOINT 設置執行的命令，CMD 則是傳遞參數。"
   ]
  },
  {
   "cell_type": "markdown",
   "id": "d6ce3356",
   "metadata": {},
   "source": [
    "### 範例02 - Shell 格式和 Exec 格式"
   ]
  },
  {
   "cell_type": "raw",
   "id": "ee56d7e1",
   "metadata": {},
   "source": [
    "CMD 和 ENTRYPOINT 同時支持 shell 格式和 Exec 格式。但是一般來說比較常用 Exec 格式。"
   ]
  },
  {
   "cell_type": "raw",
   "id": "beb57392",
   "metadata": {},
   "source": [
    "Shell格式\n",
    "CMD echo \"hello docker\"\n",
    "ENTRYPOINT echo \"hello docker\""
   ]
  },
  {
   "cell_type": "raw",
   "id": "a4aaf298",
   "metadata": {},
   "source": [
    "Exec格式\n",
    "以可執行命令的方式\n",
    "ENTRYPOINT [\"echo\", \"hello docker\"]\n",
    "CMD [\"echo\", \"hello docker\"]"
   ]
  },
  {
   "cell_type": "raw",
   "id": "405e0d86",
   "metadata": {},
   "source": [
    "注意 shell 腳本會產生的問題\n",
    "\n",
    "FROM ubuntu:21.04\n",
    "ENV NAME=docker\n",
    "CMD echo \"hello $NAME\"\n",
    "\n",
    "假如我們要把上面的CMD改成Exec格式，下面這樣改是不行的, 可以試試。\n",
    "\n",
    "FROM ubuntu:21.04\n",
    "ENV NAME=docker\n",
    "CMD [\"echo\", \"hello $NAME\"]\n",
    "\n",
    "它會打印出 hello $NAME, 而不是 hello docker, 那麽需要怎麽寫呢？ 我們需要以 shell 腳本的方式去執行。\n",
    "\n",
    "FROM ubuntu:21.04\n",
    "ENV NAME=docker\n",
    "CMD [\"sh\", \"-c\", \"echo hello $NAME\"]"
   ]
  },
  {
   "cell_type": "markdown",
   "id": "0723e0e0",
   "metadata": {},
   "source": [
    "# 容器健康檢查: HEALTHCHECK"
   ]
  },
  {
   "cell_type": "raw",
   "id": "3701319c",
   "metadata": {},
   "source": [
    "健康檢查是容器運行狀態的高級檢查，主要是檢查容器所運行的進程是否能正常的對外提供 “服務”，比如一個數據庫容器，我們不光需要這個容器是 up 的狀態，我們還要求這個容器的數據庫進程能夠正常對外提供服務，這就是所謂的健康檢查。我們由下面的例子來演示。"
   ]
  },
  {
   "cell_type": "markdown",
   "id": "c212895a",
   "metadata": {},
   "source": [
    "### 範例01"
   ]
  },
  {
   "cell_type": "raw",
   "id": "0c52aa27",
   "metadata": {},
   "source": [
    "app.py 檔:"
   ]
  },
  {
   "cell_type": "code",
   "execution_count": null,
   "id": "1bf82877",
   "metadata": {},
   "outputs": [],
   "source": [
    "from flask import Flask\n",
    "from redis import Redis\n",
    "import os\n",
    "import socket\n",
    "\n",
    "\n",
    "\n",
    "app = Flask(__name__)\n",
    "redis = Redis(host=os.environ.get('REDIS_HOST', '127.0.0.1'), port=6379,\n",
    "              password=os.environ.get(\"REDIS_PASS\"))\n",
    "\n",
    "@app.route('/')\n",
    "def hello():\n",
    "    redis.incr('hits')\n",
    "    return f\"Hello Container World! I have been seen {redis.get('hits').decode('utf-8')} times and my hostname is {socket.gethostname()}.\\n\""
   ]
  },
  {
   "cell_type": "raw",
   "id": "943b6d47",
   "metadata": {},
   "source": [
    "Dockerfile 檔:"
   ]
  },
  {
   "cell_type": "code",
   "execution_count": null,
   "id": "a1e1cdf3",
   "metadata": {},
   "outputs": [],
   "source": [
    "FROM python:3.9.5-slim\n",
    "\n",
    "\n",
    "RUN pip install flask redis && \\\n",
    "    apt-get update && \\\n",
    "    apt-get install -y curl && \\\n",
    "    groupadd -r flask && useradd -r -g flask flask && \\\n",
    "    mkdir /src && \\\n",
    "    chown -R flask:flask /src\n",
    "USER flask\n",
    "COPY app.py /src/app.py\n",
    "WORKDIR /src\n",
    "ENV FLASK=app.py REDIS_HOST=redis FLASK_RUN_HOST=0.0.0.0\n",
    "EXPOSE 5000\n",
    "HEALTHCHECK --interval=30s --timeout=30s \\\n",
    "    CMD curl -f http://localhost:5000 || exit 1\n",
    "CMD [\"flask\", \"run\"]"
   ]
  },
  {
   "cell_type": "raw",
   "id": "e20e352c",
   "metadata": {},
   "source": [
    "就我們上面 Dockerfile 的設定，每 30 秒會去拜訪我們 flask 網站一次，預設三次失敗後就會轉成 unhealth。而 \n",
    "--timeout=30s 表示測試時間最多 30 秒。我們實際演練，首先先 build 我們的鏡像與自定義網路。"
   ]
  },
  {
   "cell_type": "code",
   "execution_count": null,
   "id": "9060ca6e",
   "metadata": {},
   "outputs": [],
   "source": [
    "docker image build -t flask-demo .\n",
    "docker network create -d bridge mybridge"
   ]
  },
  {
   "cell_type": "raw",
   "id": "9cd9d49f",
   "metadata": {},
   "source": [
    "啟動 flask-demo 的容器。"
   ]
  },
  {
   "cell_type": "code",
   "execution_count": null,
   "id": "6d3f9778",
   "metadata": {},
   "outputs": [],
   "source": [
    "docker container run -d --network mybridge -p 5000:5000 --env REDIS_PASS=abc123 flask-demo "
   ]
  },
  {
   "cell_type": "raw",
   "id": "5a8f021f",
   "metadata": {},
   "source": [
    "我們可以在 STATUS 這邊看到健康的狀態，因為我們現在還沒有準備 redis，所以在一分三十秒後他就會轉成 unhelthy。"
   ]
  },
  {
   "cell_type": "code",
   "execution_count": null,
   "id": "c56d6a15",
   "metadata": {},
   "outputs": [],
   "source": [
    "docker container ls"
   ]
  },
  {
   "cell_type": "raw",
   "id": "658b28e0",
   "metadata": {},
   "source": [
    "可以更詳細看到健康檢查的測試情況。"
   ]
  },
  {
   "cell_type": "code",
   "execution_count": null,
   "id": "8cedc3fa",
   "metadata": {},
   "outputs": [],
   "source": [
    "docker container inspect containerID "
   ]
  },
  {
   "cell_type": "raw",
   "id": "4960f13c",
   "metadata": {},
   "source": [
    "準備我們的 redis。記得要設定 redis 的名字，這樣 flask 才可以連線 redis。"
   ]
  },
  {
   "cell_type": "code",
   "execution_count": null,
   "id": "0a59681f",
   "metadata": {},
   "outputs": [],
   "source": [
    "docker container run -d --network mybridge --name redis redis:latest --requirepass abc123"
   ]
  },
  {
   "cell_type": "raw",
   "id": "f46fa2ca",
   "metadata": {},
   "source": [
    "等個一段時間，就會發現 flask-demo 的容器的 STATUS 就會轉成 healthy 了。"
   ]
  },
  {
   "cell_type": "code",
   "execution_count": null,
   "id": "e329f6cc",
   "metadata": {},
   "outputs": [],
   "source": [
    "docker container ls"
   ]
  },
  {
   "cell_type": "markdown",
   "id": "a311b068",
   "metadata": {},
   "source": [
    "# 綜合演練: 構建一個 Python Flask 鏡像"
   ]
  },
  {
   "cell_type": "raw",
   "id": "2dc2e57a",
   "metadata": {},
   "source": [
    "main.py 檔:"
   ]
  },
  {
   "cell_type": "code",
   "execution_count": null,
   "id": "5e49f891",
   "metadata": {},
   "outputs": [],
   "source": [
    "from flask import Flask\n",
    "\n",
    "\n",
    "app = Flask(__name__)\n",
    "\n",
    "\n",
    "@app.route(\"/\")\n",
    "def index():\n",
    "    return \"Hello, Docter!\""
   ]
  },
  {
   "cell_type": "raw",
   "id": "efb92b2a",
   "metadata": {},
   "source": [
    "我們的目標是要 Docker 打包我們的 Flask app 程序。首先可以到 Dockerhub 瀏覽選擇我們要得基礎鏡像。"
   ]
  },
  {
   "cell_type": "code",
   "execution_count": null,
   "id": "435079a0",
   "metadata": {},
   "outputs": [],
   "source": [
    "FROM python:3.9.13-slim"
   ]
  },
  {
   "cell_type": "raw",
   "id": "c5c1f833",
   "metadata": {},
   "source": [
    "之後我們需要安裝一些套件。"
   ]
  },
  {
   "cell_type": "code",
   "execution_count": null,
   "id": "f37a4a92",
   "metadata": {},
   "outputs": [],
   "source": [
    "RUN pip install flask "
   ]
  },
  {
   "cell_type": "raw",
   "id": "e1b4db4c",
   "metadata": {},
   "source": [
    "把我們要執行的 main.py 檔添加進入鏡像"
   ]
  },
  {
   "cell_type": "code",
   "execution_count": null,
   "id": "8ebcc995",
   "metadata": {},
   "outputs": [],
   "source": [
    "COPY main.py /src/project/main.py"
   ]
  },
  {
   "cell_type": "raw",
   "id": "0c931b37",
   "metadata": {},
   "source": [
    "要執行檔案之前，我們需要設定一些 flask 需要的環境變數。"
   ]
  },
  {
   "cell_type": "code",
   "execution_count": null,
   "id": "0759cd3e",
   "metadata": {},
   "outputs": [],
   "source": [
    "ENV FLASK_APP=main.py\n",
    "    FLASK_RUN_HOST=0.0.0.0\n",
    "    FLASK_RUN_PORT=5000\n",
    "    FLASK_ENV=develpment\n",
    "    FLASK_DEBUG=1"
   ]
  },
  {
   "cell_type": "raw",
   "id": "ec997c94",
   "metadata": {},
   "source": [
    "外了讓外部可以訪問這個 app，我們需要曝露 5000 port。"
   ]
  },
  {
   "cell_type": "code",
   "execution_count": null,
   "id": "4f648697",
   "metadata": {},
   "outputs": [],
   "source": [
    "EXPOSE 5000"
   ]
  },
  {
   "cell_type": "raw",
   "id": "0e76f4a1",
   "metadata": {},
   "source": [
    "需要 cd 到我們的目錄 project 底下"
   ]
  },
  {
   "cell_type": "code",
   "execution_count": null,
   "id": "f85676e6",
   "metadata": {},
   "outputs": [],
   "source": [
    "WORKDIR /src/project"
   ]
  },
  {
   "cell_type": "markdown",
   "id": "588a95aa",
   "metadata": {},
   "source": [
    "最終運行我們的 flask 程式。"
   ]
  },
  {
   "cell_type": "code",
   "execution_count": null,
   "id": "703c8fe4",
   "metadata": {},
   "outputs": [],
   "source": [
    "CMD [\"flask\", \"run\"]"
   ]
  },
  {
   "cell_type": "markdown",
   "id": "14cb657f",
   "metadata": {},
   "source": [
    "---"
   ]
  },
  {
   "cell_type": "raw",
   "id": "f98ee538",
   "metadata": {},
   "source": [
    "Dockerfile 檔:"
   ]
  },
  {
   "cell_type": "code",
   "execution_count": null,
   "id": "141de0d5",
   "metadata": {},
   "outputs": [],
   "source": [
    "FROM python:3.9.13-slim\n",
    "RUN pip install flask \n",
    "COPY main.py /src/project/main.py\n",
    "ENV FLASK_APP=main.py\n",
    "ENV FLASK_RUN_HOST=0.0.0.0\n",
    "ENV FLASK_RUN_PORT=5000\n",
    "ENV FLASK_ENV=develpment\n",
    "ENV FLASK_DEBUG=1\n",
    "EXPOSE 5000\n",
    "WORKDIR /src/project\n",
    "CMD [\"flask\", \"run\"]"
   ]
  },
  {
   "cell_type": "raw",
   "id": "c8619f8b",
   "metadata": {},
   "source": [
    "把剛剛的流程寫成 Dockerfile，建構鏡像就完成了。但是這裡的 Dockerfile 有很多小缺點可以改進，之後會來詳細解釋。"
   ]
  },
  {
   "cell_type": "code",
   "execution_count": null,
   "id": "9b7540ca",
   "metadata": {},
   "outputs": [],
   "source": [
    "docker image build -t flask-demo .\n",
    "docker container run -p 50:5000 flask-demo"
   ]
  },
  {
   "cell_type": "markdown",
   "id": "d894c92f",
   "metadata": {},
   "source": [
    "# Dockerfile 的最佳實踐: 使用鏡像緩存"
   ]
  },
  {
   "cell_type": "raw",
   "id": "9ca0852d",
   "metadata": {},
   "source": [
    "Docker 會緩存已有鏡像的鏡像層，構建新鏡像時，如果某鏡像層已經存在，就直接使用，無需重新創建。所以我們應該注意:\n",
    "\n",
    "1. 首先鏡像不能刪除，修改原先 Dockerfile 後再建構鏡像會使用緩存，但要注意的是，只有修改前的指令會使用緩存，修改層之後就都不會，所以\n",
    "   要提高效率應該要把容易更動的指令放後面。\n",
    "2. 如果我們希望在構建鏡像時不使用緩存，可以在 docker build 命令中加上 –no-cache 參數。"
   ]
  },
  {
   "cell_type": "markdown",
   "id": "79a21dd3",
   "metadata": {},
   "source": [
    "### 範例01"
   ]
  },
  {
   "cell_type": "raw",
   "id": "c6077bdd",
   "metadata": {},
   "source": [
    "先來看看我們之前寫的這個 Dockerfile，看看可不可以改進。"
   ]
  },
  {
   "cell_type": "code",
   "execution_count": null,
   "id": "ce04bb1b",
   "metadata": {},
   "outputs": [],
   "source": [
    "FROM python:3.9.13-slim\n",
    "RUN pip install flask \n",
    "COPY main.py /src/project/main.py\n",
    "ENV FLASK_APP=main.py\n",
    "ENV FLASK_RUN_HOST=0.0.0.0\n",
    "ENV FLASK_RUN_PORT=5000\n",
    "ENV FLASK_ENV=develpment\n",
    "ENV FLASK_DEBUG=1\n",
    "EXPOSE 5000\n",
    "WORKDIR /src/project\n",
    "CMD [\"flask\", \"run\"]"
   ]
  },
  {
   "cell_type": "raw",
   "id": "f74d9bb8",
   "metadata": {},
   "source": [
    "因為 main.py 是非常容易修改的地方，一旦被修改，後面的指令都無法使用緩存，所以應該移動到後面一點才會更有效率。"
   ]
  },
  {
   "cell_type": "code",
   "execution_count": null,
   "id": "b2ad284d",
   "metadata": {},
   "outputs": [],
   "source": [
    "FROM python:3.9.13-slim\n",
    "RUN pip install flask \n",
    "ENV FLASK_APP=main.py\n",
    "ENV FLASK_RUN_HOST=0.0.0.0\n",
    "ENV FLASK_RUN_PORT=5000\n",
    "ENV FLASK_ENV=develpment\n",
    "ENV FLASK_DEBUG=1\n",
    "WORKDIR /src/project\n",
    "COPY main.py main.py\n",
    "EXPOSE 5000\n",
    "CMD [\"flask\", \"run\"]"
   ]
  },
  {
   "cell_type": "markdown",
   "id": "4c8d752c",
   "metadata": {},
   "source": [
    "# Dockerfile 的最佳實踐: 使用 .dockerignore"
   ]
  },
  {
   "cell_type": "raw",
   "id": "8ba2ef02",
   "metadata": {},
   "source": [
    "要了解 .dockerignore 的功能之前，要先了解什麼是 docker build context。因為 docker 是 client-server 架構，理論上 Client 和 Server可以不在一台機器上。在構建 docker 鏡像的時候，需要把所需要的文件由 CLI（client）發給 Server，這些文件實際上就是 build context。\n",
    "以下指令的 . 指的是當前目錄，也試試我們說的 docker build context。"
   ]
  },
  {
   "cell_type": "code",
   "execution_count": null,
   "id": "dbe24f6b",
   "metadata": {},
   "outputs": [],
   "source": [
    "docker image build -t demo:v1 ."
   ]
  },
  {
   "cell_type": "raw",
   "id": "ea651448",
   "metadata": {},
   "source": [
    "問題是這樣寫的話，在建構鏡像時，會把當前目錄的所有檔案送進去鏡像，問題是我們不需要那們多的無關檔案。這裡就是 .dockerignore 派上用場的地方，可以把不需要的檔案寫進 .dockerignore，就跟在操作 .gitignore 一樣。"
   ]
  },
  {
   "cell_type": "markdown",
   "id": "0b70a483",
   "metadata": {},
   "source": [
    "### 範例01"
   ]
  },
  {
   "cell_type": "raw",
   "id": "23b44b37",
   "metadata": {},
   "source": [
    "Dockerfile 檔:"
   ]
  },
  {
   "cell_type": "code",
   "execution_count": null,
   "id": "8a8d96d7",
   "metadata": {},
   "outputs": [],
   "source": [
    "FROM python:3.9.13-slim\n",
    "RUN pip install flask \n",
    "ENV FLASK_APP=main.py\n",
    "ENV FLASK_RUN_HOST=0.0.0.0\n",
    "ENV FLASK_RUN_PORT=5000\n",
    "ENV FLASK_ENV=develpment\n",
    "ENV FLASK_DEBUG=1\n",
    "WORKDIR /src/project\n",
    "COPY main.py main.py\n",
    "EXPOSE 5000\n",
    "CMD [\"flask\", \"run\"]"
   ]
  },
  {
   "cell_type": "raw",
   "id": "4fcc82a4",
   "metadata": {},
   "source": [
    "這個 Dockerfile 檔只會用到 main.py 檔，所以我們可以把不必要的檔案寫進 .dockerignore。可以比較一下有無 .dockerignore 在建立鏡像時檔案被送入 Sending build context to Docker daemon  的大小差別。"
   ]
  },
  {
   "cell_type": "raw",
   "id": "ef2cf551",
   "metadata": {},
   "source": [
    ".dockerignore 檔:"
   ]
  },
  {
   "cell_type": "code",
   "execution_count": null,
   "id": "023edd16",
   "metadata": {},
   "outputs": [],
   "source": [
    "venv\n",
    "__pycache__"
   ]
  },
  {
   "cell_type": "markdown",
   "id": "d2689771",
   "metadata": {},
   "source": [
    "# Dockerfile 的最佳實踐: 鏡像的多階段構建"
   ]
  },
  {
   "cell_type": "raw",
   "id": "4f545781",
   "metadata": {},
   "source": [
    "來聊聊多階段構建，以及為什麽要使用它。例如 C 語言就是一個好的例子。假如我們有一個 C 的程序，我們想用 Docker 去做編譯，然後執行可執行文件。為了構建一個 Docker 鏡像，在選擇基礎鏡像時我們需要的是 C 語言的環境，所以我們選擇 gcc 這個 image。問題是 gcc 這個鏡像 size 相當大，再來我們編譯完 C 語言的檔案之後，就不需要有 gcc 的環境了。這時候就是多階段構建登場的時候了。"
   ]
  },
  {
   "cell_type": "markdown",
   "id": "938c8dd9",
   "metadata": {},
   "source": [
    "### 範例01"
   ]
  },
  {
   "cell_type": "raw",
   "id": "60935e01",
   "metadata": {},
   "source": [
    "hello.c 檔:"
   ]
  },
  {
   "cell_type": "code",
   "execution_count": null,
   "id": "39244d01",
   "metadata": {},
   "outputs": [],
   "source": [
    "#include <stdio.h>\n",
    "\n",
    "void main(int argc, char *argv[])\n",
    "{\n",
    "    printf(\"hello %s\\n\", argv[argc - 1]);\n",
    "}"
   ]
  },
  {
   "cell_type": "raw",
   "id": "7808443b",
   "metadata": {},
   "source": [
    "Dockerfile 檔:"
   ]
  },
  {
   "cell_type": "code",
   "execution_count": null,
   "id": "b5cac157",
   "metadata": {},
   "outputs": [],
   "source": [
    "FROM gcc:9.4 as builder\n",
    "COPY hello.c /src/hello.c\n",
    "WORKDIR /src\n",
    "RUN gcc --static -o hello hello.c \n",
    "\n",
    "FROM alpine:3.13.5\n",
    "COPY --from=builder /src/hello /src/hello \n",
    "ENTRYPOINT [\"/src/hello\"]\n",
    "CMD []"
   ]
  },
  {
   "cell_type": "raw",
   "id": "2dbd706a",
   "metadata": {},
   "source": [
    "先選擇有 gcc 環境的基礎鏡像編譯 c 檔案，結束之後再選擇檔案大小很小的基礎鏡像來運行編譯出來的執行檔。這樣的多階段建構出來的鏡像大小會小非常多。"
   ]
  },
  {
   "cell_type": "code",
   "execution_count": null,
   "id": "ee0ace9b",
   "metadata": {},
   "outputs": [],
   "source": [
    "docker image build -t gcc-alpine .\n",
    "docker container run gcc-alpine world"
   ]
  },
  {
   "cell_type": "markdown",
   "id": "dcafc52d",
   "metadata": {},
   "source": [
    "# Dockerfile 的最佳實踐: 使用非 root 用戶"
   ]
  },
  {
   "cell_type": "raw",
   "id": "a8e4a0a1",
   "metadata": {},
   "source": [
    "docker 的 root 權限一直是其遭受詬病的地方，有興趣可以上網搜尋相關的文章。所以我們應該盡量使用非 root 用戶來操作。\n",
    "我們使用之前綜合演練範例來演示如何使用非 root 用戶。"
   ]
  },
  {
   "cell_type": "markdown",
   "id": "18d9cb2a",
   "metadata": {},
   "source": [
    "### 範例01"
   ]
  },
  {
   "cell_type": "raw",
   "id": "360e4476",
   "metadata": {},
   "source": [
    "Dockerfile 檔:"
   ]
  },
  {
   "cell_type": "code",
   "execution_count": null,
   "id": "f6e70ca4",
   "metadata": {},
   "outputs": [],
   "source": [
    "FROM python:3.9.5-slim\n",
    "RUN pip install flask && \\\n",
    "    groupadd -r flask && useradd -r -g flask flask && \\\n",
    "    mkdir /src &&\\\n",
    "    chown -R flask:flask /src\n",
    "\n",
    "USER flask\n",
    "COPY app.py /src/app.py\n",
    "WORKDIR /src\n",
    "ENV FLASK_APP=main.py\n",
    "ENV FLASK_RUN_HOST=0.0.0.0\n",
    "EXPOSE 5000\n",
    "CMD [\"flask\", \"run\"]"
   ]
  },
  {
   "cell_type": "raw",
   "id": "6f0e80ec",
   "metadata": {},
   "source": [
    "我們通過 groupadd 和 useradd 創建一個 flask 的組和用戶，且通過 USER 指定後面的命令要以 flask 這個用戶的身份運行。"
   ]
  },
  {
   "cell_type": "code",
   "execution_count": null,
   "id": "bf692b97",
   "metadata": {},
   "outputs": [],
   "source": [
    "docker image build -t noroot .\n",
    "docker container run -it noroot sh\n",
    "$whoami"
   ]
  },
  {
   "cell_type": "code",
   "execution_count": null,
   "id": "3727f8bd",
   "metadata": {},
   "outputs": [],
   "source": []
  }
 ],
 "metadata": {
  "kernelspec": {
   "display_name": "Python 3",
   "language": "python",
   "name": "python3"
  },
  "language_info": {
   "codemirror_mode": {
    "name": "ipython",
    "version": 3
   },
   "file_extension": ".py",
   "mimetype": "text/x-python",
   "name": "python",
   "nbconvert_exporter": "python",
   "pygments_lexer": "ipython3",
   "version": "3.8.10"
  }
 },
 "nbformat": 4,
 "nbformat_minor": 5
}
