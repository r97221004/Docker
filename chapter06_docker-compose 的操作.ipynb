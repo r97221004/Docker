{
 "cells": [
  {
   "cell_type": "markdown",
   "id": "e557ce18",
   "metadata": {},
   "source": [
    "# docker-compose 的安裝"
   ]
  },
  {
   "cell_type": "raw",
   "id": "1a2fbadf",
   "metadata": {},
   "source": [
    "直接從 github 抓取放在 /usr/local/bin/docker-compose。"
   ]
  },
  {
   "cell_type": "code",
   "execution_count": null,
   "id": "189429f4",
   "metadata": {},
   "outputs": [],
   "source": [
    "sudo curl -L \"https://github.com/docker/compose/releases/download/1.29.2/docker-compose-$(uname -s)-$(uname -m)\" -o /usr/local/bin/docker-compose"
   ]
  },
  {
   "cell_type": "raw",
   "id": "764d49c9",
   "metadata": {},
   "source": [
    "修改權限:"
   ]
  },
  {
   "cell_type": "code",
   "execution_count": null,
   "id": "9cd8663d",
   "metadata": {},
   "outputs": [],
   "source": [
    "sudo chmod +x /usr/local/bin/docker-compose"
   ]
  },
  {
   "cell_type": "raw",
   "id": "88d22e13",
   "metadata": {},
   "source": [
    "安裝成功，查看版本:"
   ]
  },
  {
   "cell_type": "code",
   "execution_count": null,
   "id": "13396812",
   "metadata": {},
   "outputs": [],
   "source": [
    "docker-compose --version"
   ]
  },
  {
   "cell_type": "markdown",
   "id": "94177a7c",
   "metadata": {},
   "source": [
    "# 什麼是 Docker Compose"
   ]
  },
  {
   "cell_type": "raw",
   "id": "875e571d",
   "metadata": {},
   "source": [
    "Compose 是一個工具，用來定義與執行多個 container 組成的 Docker Applications。你可以使用 Compose 檔案來組態設定你的應用服務。然後使用單一命令，透過你的組態設定來建立與啟動你的服務。Compose 適合用來開發、測試、與建立 staging 環境，如同 CI workflows。使用 Compose 有基本的三個處理步驟：\n",
    "\n",
    "1. 使用 Dockerfile 定義你的 app 環境，讓它可以在任何地方都能複製 (reproduced)。\n",
    "2. 使用 docker-compose.yml 定義你的服務，讓他們可以在獨立環境內一起執行。\n",
    "3. 最後，執行 docker-compose up，Compose 將會開始與執行你所有的 app。"
   ]
  },
  {
   "cell_type": "markdown",
   "id": "4cbd3a3e",
   "metadata": {},
   "source": [
    "# docker-compose 的文件結構和版本"
   ]
  },
  {
   "cell_type": "raw",
   "id": "bdef162e",
   "metadata": {},
   "source": [
    "docker-compose 的文件結構大體上會長得像下面的形式。需要注意的是 docker-compose 的語法版本跟 docker engine 是有對應要求的，採向後兼容。如有更多的語法與版本需要查詢可參考以下網站:"
   ]
  },
  {
   "cell_type": "markdown",
   "id": "b2b445fa",
   "metadata": {},
   "source": [
    "docker-compose 參考網站: https://docs.docker.com/compose/compose-file/ <br>\n",
    "docker-compose 語法版本: https://docs.docker.com/compose/compose-file/compose-versioning/"
   ]
  },
  {
   "cell_type": "raw",
   "id": "20f4210a",
   "metadata": {},
   "source": [
    "docker-compose.yml 檔:"
   ]
  },
  {
   "cell_type": "code",
   "execution_count": null,
   "id": "cd92e155",
   "metadata": {},
   "outputs": [],
   "source": [
    "version: \"3.8\"\n",
    "    \n",
    "services: # 容器\n",
    "  servicename: # 服務的名字，對應 docker container run 的長選項 --name，這個名字也是內部 bridge 網路可使用的 DNS 名字。\n",
    "    image: # 鏡像的名字。\n",
    "    command: # 可選，如果設置會覆蓋默認鏡像裡面的 CMD 命令。\n",
    "    environment: # 可選，相當於 docker container run 裡面的長選項 --env。\n",
    "    volumes: # 可選，相當於 docker container run 裡面的短選項 -v。\n",
    "    networks: # 可選，相當於 docker container run 裡面的長選項 --network。\n",
    "    ports: # 可選，相當於 docker container run 裡面的短選項 -p。\n",
    "  servicename:\n",
    "    ...\n",
    "    \n",
    "volumes: # 可選，相當於 docker volume create。\n",
    "networks: # 可選，相當於 docker network create。"
   ]
  },
  {
   "cell_type": "markdown",
   "id": "e807138d",
   "metadata": {},
   "source": [
    "### 範例01-Python Flask + Redis"
   ]
  },
  {
   "cell_type": "raw",
   "id": "6c5757f4",
   "metadata": {},
   "source": [
    "我們可以把之前練習過的 Python Flask + Redis 的例子改造成一個 docker-compose.yml 的例子。"
   ]
  },
  {
   "cell_type": "raw",
   "id": "2021f8bb",
   "metadata": {},
   "source": [
    "app.py 檔:"
   ]
  },
  {
   "cell_type": "code",
   "execution_count": null,
   "id": "82664368",
   "metadata": {},
   "outputs": [],
   "source": [
    "from flask import Flask\n",
    "from redis import Redis\n",
    "import os\n",
    "import socket\n",
    "import redis\n",
    "\n",
    "app = Flask(__name__)\n",
    "redis = Redis(host=os.environ.get(\"REDIS_HOST\", \"127.0.0.1\"), port=6379)\n",
    "\n",
    "\n",
    "@app.route(\"/\")\n",
    "def index():\n",
    "    redis.incr(\"hits\")\n",
    "    return f\"Hello Container World! I have been seen {redis.get('hits').decode('utf-8')} times and my hostname is {socket.gethostname()}.\\n\""
   ]
  },
  {
   "cell_type": "raw",
   "id": "e47a0f7a",
   "metadata": {},
   "source": [
    "Dockerfile 檔:"
   ]
  },
  {
   "cell_type": "code",
   "execution_count": null,
   "id": "b4060479",
   "metadata": {},
   "outputs": [],
   "source": [
    "FROM python:3.9.5-slim\n",
    "RUN pip install flask redis && \\\n",
    "    groupadd -r flask && useradd -r -g flask flask && \\\n",
    "    mkdir /src &&\\\n",
    "    chown -R flask:flask /src\n",
    "\n",
    "USER flask\n",
    "COPY app.py /src/app.py\n",
    "WORKDIR /src\n",
    "ENV FLASK_APP=app.py REDIS_HOST=redis FLASK_RUN_HOST=0.0.0.0\n",
    "EXPOSE 5000\n",
    "CMD [\"flask\", \"run\"]"
   ]
  },
  {
   "cell_type": "raw",
   "id": "e70a620b",
   "metadata": {},
   "source": [
    "寫成一個腳本，應該分成以下的步驟，要注意的是因為我們把 redis 的容器名定義成 redis-server，我們不要回到 Dockerfile 裡面改環境變數，\n",
    "可以用長選項 --env 直接傳入。另一個重點是要記得端點轉發，所以現在我們在 linux 的主機上輸入 127.0.0.1:5000 就能訪問成功。"
   ]
  },
  {
   "cell_type": "code",
   "execution_count": null,
   "id": "77ff0757",
   "metadata": {},
   "outputs": [],
   "source": [
    "# prepare image\n",
    "docker image pull redis\n",
    "docker image build -t flask-app .\n",
    "\n",
    "# create network\n",
    "docker network create -d bridge demo-network\n",
    "\n",
    "# create container\n",
    "docker container run -d --name redis-server --network demo-network redis\n",
    "docker container run -d --network demo-network --name flask-demo --env REDIS_HOST=redis-server -p 5050:5000 flask-app"
   ]
  },
  {
   "cell_type": "raw",
   "id": "494146c5",
   "metadata": {},
   "source": [
    "把上面的例子轉換成 docker-compose.yml 檔，注意影像檔要事先準備好。"
   ]
  },
  {
   "cell_type": "raw",
   "id": "d4ea7c40",
   "metadata": {},
   "source": [
    "docker-compose.yml 檔:"
   ]
  },
  {
   "cell_type": "raw",
   "id": "e30948c8",
   "metadata": {},
   "source": [
    "version: \"3.8\"\n",
    "\n",
    "services:\n",
    "  flask-demo:\n",
    "    image: flask-app:latest\n",
    "    environment:\n",
    "      - REDIS_HOST=redis-server\n",
    "    networks:\n",
    "      - demo-network\n",
    "    ports:\n",
    "      - 5050:5000\n",
    "  \n",
    "  redis-server:\n",
    "    image: redis:latest\n",
    "    networks:\n",
    "      - demo-network\n",
    "\n",
    "networks:\n",
    "  demo-network:"
   ]
  },
  {
   "cell_type": "markdown",
   "id": "a2b594b8",
   "metadata": {},
   "source": [
    "# docker-compose 命令的基本操作"
   ]
  },
  {
   "cell_type": "raw",
   "id": "618a618b",
   "metadata": {},
   "source": [
    "我們現在來練習啟動、暫停、刪除上面的 docker-compose.yml 的例子。首先我們要把需要的影像檔準備好，重點在 Dockerfile 的\n",
    "影像檔要先 build 起來。"
   ]
  },
  {
   "cell_type": "code",
   "execution_count": null,
   "id": "98718531",
   "metadata": {},
   "outputs": [],
   "source": [
    "docker image build -t flask-app .\n",
    "docker image pull redis:latest"
   ]
  },
  {
   "cell_type": "raw",
   "id": "05d319e4",
   "metadata": {},
   "source": [
    "接下來 cd 到有 docker-compose.yml 的檔案夾，啟動，成功之後看一下容器與網路的命名規則。規則是前綴有你當前專案資料夾的名稱，後綴會有 scale 的數字，以這題為例，會是容器 demo19_flask-demo_1 、 demo19_redis-server_1 與網路 demo19_demo-network。注意網路沒有要 scale 的後綴。"
   ]
  },
  {
   "cell_type": "code",
   "execution_count": null,
   "id": "52bb1792",
   "metadata": {},
   "outputs": [],
   "source": [
    "docker-compose up "
   ]
  },
  {
   "cell_type": "raw",
   "id": "bab11a1c",
   "metadata": {},
   "source": [
    "可以使用以下指令查看一下情況。"
   ]
  },
  {
   "cell_type": "code",
   "execution_count": null,
   "id": "4f1dd656",
   "metadata": {},
   "outputs": [],
   "source": [
    "docker-compose ps\n",
    "docker container ls -a\n",
    "docker network ls"
   ]
  },
  {
   "cell_type": "raw",
   "id": "bfaa3d74",
   "metadata": {},
   "source": [
    "可以使用以下指令停止服務。"
   ]
  },
  {
   "cell_type": "raw",
   "id": "8f9e3d9e",
   "metadata": {},
   "source": [
    "docker-compose stop"
   ]
  },
  {
   "cell_type": "raw",
   "id": "a6a643c7",
   "metadata": {},
   "source": [
    "可以使用以下指令刪除已經暫停的服務(容器)，但是不會刪除自定義的網路，要自己手動刪除。"
   ]
  },
  {
   "cell_type": "code",
   "execution_count": null,
   "id": "c62ed197",
   "metadata": {},
   "outputs": [],
   "source": [
    "docker-compose rm"
   ]
  },
  {
   "cell_type": "raw",
   "id": "03110181",
   "metadata": {},
   "source": [
    "如果想要在後臺執行，要加短選項 -d。"
   ]
  },
  {
   "cell_type": "code",
   "execution_count": null,
   "id": "35bf62ad",
   "metadata": {},
   "outputs": [],
   "source": [
    "docker-compose up -d "
   ]
  },
  {
   "cell_type": "raw",
   "id": "35696e6a",
   "metadata": {},
   "source": [
    "因為是在後臺執行，看不到 logs，要看到 logs 要使用以下指令，加入短選項 -f 會即時更新。"
   ]
  },
  {
   "cell_type": "code",
   "execution_count": null,
   "id": "1061803d",
   "metadata": {},
   "outputs": [],
   "source": [
    "docker-compose logs -f"
   ]
  },
  {
   "cell_type": "markdown",
   "id": "fc8654ab",
   "metadata": {},
   "source": [
    "# docker-compose 鏡像的建構與拉取"
   ]
  },
  {
   "cell_type": "raw",
   "id": "0e44d7f5",
   "metadata": {},
   "source": [
    "其實我們也可以透過 docker-compose 的命令來對鏡像做建構與拉取。先來更改一下我之前範例的目錄結構:\n",
    "\n",
    "- flask\n",
    "    - app.py\n",
    "    - Dockerfile\n",
    "- docker-compose.yml\n",
    "\n",
    "如果我們想要使用 docker-compose 的命令建構影像，要加入 build 的命令，再用 image 命令指定影像名。"
   ]
  },
  {
   "cell_type": "raw",
   "id": "dbc82669",
   "metadata": {},
   "source": [
    "docker-compose.yml 檔:"
   ]
  },
  {
   "cell_type": "code",
   "execution_count": null,
   "id": "4ae13169",
   "metadata": {},
   "outputs": [],
   "source": [
    "version: \"3.8\"\n",
    "\n",
    "services:\n",
    "  flask-demo:\n",
    "    build: \n",
    "      context: ./flask\n",
    "      dockerfile: Dockerfile \n",
    "    image: flask-demo:latest\n",
    "    environment:\n",
    "      - REDIS_HOST=redis-server\n",
    "    networks:\n",
    "      - demo-network\n",
    "    ports:\n",
    "      - 5050:5000\n",
    "\n",
    "  redis-server:\n",
    "    image: redis:latest\n",
    "    networks:\n",
    "      - demo-network\n",
    "\n",
    "networks:\n",
    "  demo-network:"
   ]
  },
  {
   "cell_type": "raw",
   "id": "61311593",
   "metadata": {},
   "source": [
    "輸入以下指令進行影像的建構，再看一下有沒有成功。"
   ]
  },
  {
   "cell_type": "code",
   "execution_count": null,
   "id": "f97d4385",
   "metadata": {},
   "outputs": [],
   "source": [
    "docker-compose build\n",
    "docker image ls"
   ]
  },
  {
   "cell_type": "raw",
   "id": "d3da6978",
   "metadata": {},
   "source": [
    "不需要建構的影像，可以使用以下的指令直接拉取。"
   ]
  },
  {
   "cell_type": "code",
   "execution_count": null,
   "id": "669e98d7",
   "metadata": {},
   "outputs": [],
   "source": [
    "docker-compose pull"
   ]
  },
  {
   "cell_type": "raw",
   "id": "4d9c24fe",
   "metadata": {},
   "source": [
    "注意只要 docker-compose.yml 跟 Dockerfile 有關的部分有 build 指令，只要下 docker-compose up ，沒 build 的影像會直接幫你 build，沒 pull 的影像會直接幫你 pull。"
   ]
  },
  {
   "cell_type": "markdown",
   "id": "abe3b010",
   "metadata": {},
   "source": [
    "# docker-compose 服務的更新"
   ]
  },
  {
   "cell_type": "raw",
   "id": "b08bbd96",
   "metadata": {},
   "source": [
    "延續之前的例子，因為 Dockerfile 產生的鏡像是有可能更新的，比如我們再 app.py 檔做些修改。那勢必影像必須重新 build，但是\n",
    "如果你直接在容器 up 的情況下，輸入 docker-compose up -d，是不會重新幫你 build。"
   ]
  },
  {
   "cell_type": "raw",
   "id": "e07ee82d",
   "metadata": {},
   "source": [
    "app.py 修改版:"
   ]
  },
  {
   "cell_type": "code",
   "execution_count": null,
   "id": "a791ab5a",
   "metadata": {},
   "outputs": [],
   "source": [
    "from flask import Flask\n",
    "from redis import Redis\n",
    "import os\n",
    "import socket\n",
    "import redis\n",
    "\n",
    "app = Flask(__name__)\n",
    "redis = Redis(host=os.environ.get(\"REDIS_HOST\", \"127.0.0.1\"), port=6379)\n",
    "\n",
    "\n",
    "@app.route(\"/\")\n",
    "def index():\n",
    "    redis.incr(\"hits\")\n",
    "    return f\"Hello Docker World! I have been seen {redis.get('hits').decode('utf-8')} times and my hostname is {socket.gethostname()}.\\n\"\n",
    "\n",
    "@app.route(\"/add\")\n",
    "def add():\n",
    "    return \"Hello, Matt!\""
   ]
  },
  {
   "cell_type": "raw",
   "id": "fec66ab9",
   "metadata": {},
   "source": [
    "這時候要加入長選項 --build，如果 Dockerfile 有更動就會在容器 up 的情況下幫你重新 build 影像。"
   ]
  },
  {
   "cell_type": "code",
   "execution_count": null,
   "id": "d6d0178a",
   "metadata": {},
   "outputs": [],
   "source": [
    "docker-compose up -d --build"
   ]
  },
  {
   "cell_type": "raw",
   "id": "e2fb0e69",
   "metadata": {},
   "source": [
    "接下來如果我們想在 docker-compose.yml 加入一個服務:"
   ]
  },
  {
   "cell_type": "raw",
   "id": "8e61fb10",
   "metadata": {},
   "source": [
    "docker-compose.yml 修改檔:"
   ]
  },
  {
   "cell_type": "code",
   "execution_count": null,
   "id": "32a58f4f",
   "metadata": {},
   "outputs": [],
   "source": [
    "version: \"3.8\"\n",
    "\n",
    "services:\n",
    "  flask-demo:\n",
    "    build: \n",
    "      context: ./flask\n",
    "      dockerfile: Dockerfile \n",
    "    image: flask-demo:latest\n",
    "    environment:\n",
    "      - REDIS_HOST=redis-server\n",
    "    networks:\n",
    "      - demo-network\n",
    "    ports:\n",
    "      - 8080:5000\n",
    "\n",
    "  redis-server:\n",
    "    image: redis:latest\n",
    "    networks:\n",
    "      - demo-network\n",
    "\n",
    "  busybox:\n",
    "    image: busybox:latest\n",
    "    command: sh -c \"while true; do sleep 3600; done\"\n",
    "    networks:\n",
    "      - demo-network\n",
    "\n",
    "networks:\n",
    "  demo-network:"
   ]
  },
  {
   "cell_type": "raw",
   "id": "4bdbf4cc",
   "metadata": {},
   "source": [
    "這時候在服務是 up 的情況下輸入以下命令是會成功更新的。"
   ]
  },
  {
   "cell_type": "code",
   "execution_count": null,
   "id": "fceff1aa",
   "metadata": {},
   "outputs": [],
   "source": [
    "docker-compose up -d "
   ]
  },
  {
   "cell_type": "raw",
   "id": "967ced14",
   "metadata": {},
   "source": [
    "接下來我們把多加進來的新服務  busybox 刪除，在執行同樣的命令，會發現有個 warning: Found orphan containers (demo21_busybox_1) for this project."
   ]
  },
  {
   "cell_type": "code",
   "execution_count": null,
   "id": "9bc1a503",
   "metadata": {},
   "outputs": [],
   "source": [
    "docker-compose up -d "
   ]
  },
  {
   "cell_type": "raw",
   "id": "c1312677",
   "metadata": {},
   "source": [
    "可以多個長選項 --remove-orphans ，這樣會把沒用到的服務刪除。"
   ]
  },
  {
   "cell_type": "code",
   "execution_count": null,
   "id": "984fe937",
   "metadata": {},
   "outputs": [],
   "source": [
    "docker-compose up -d --remove-orphans"
   ]
  },
  {
   "cell_type": "markdown",
   "id": "fefd729f",
   "metadata": {},
   "source": [
    "# docker-compose up/down 與 restart 的差異"
   ]
  },
  {
   "cell_type": "raw",
   "id": "667ea95d",
   "metadata": {},
   "source": [
    "先來談 docker-compose up/down，假如今天你修改了 docker-compose.yml 又或是更新了 image，當你要重建 docker，有幾種方法。\n",
    "\n",
    "方法一: \n",
    "先停止 container。執行 docker-compose down， 再執行 docker-compose up。\n",
    "\n",
    "方法二:\n",
    "不需要停止 container。直接執行 docker-compose up -d 他會自動幫你重建，很方便，不需要多一步先關閉 container。結論，只要你的 docker-compose.yml 有任何變動，一定要執行 docker-compose up -d 才會生效。再來談 docker-compose restart，請看官方文件 docker-compose restart，如果你對 docker-compose.yml 修改，然後使用這個指令是不會生效的。但是如果你是改 code (例如建構文件跟 volume 有關的)，那這個指令是有效的。但是跟 Dockerfile 相關的更動也不會生效。"
   ]
  },
  {
   "cell_type": "markdown",
   "id": "7eb9f798",
   "metadata": {},
   "source": [
    "# docker-compose 網路: 使用預設網路"
   ]
  },
  {
   "cell_type": "raw",
   "id": "8bcd09b0",
   "metadata": {},
   "source": [
    "我們要利用以下的 docker-compose.yml 檔來觀察一下預設網路的效果。"
   ]
  },
  {
   "cell_type": "raw",
   "id": "39adfb82",
   "metadata": {},
   "source": [
    "docker-compose.yml 檔:"
   ]
  },
  {
   "cell_type": "code",
   "execution_count": null,
   "id": "d948b275",
   "metadata": {},
   "outputs": [],
   "source": [
    "version: '3.8'\n",
    "\n",
    "services:\n",
    "  box1:\n",
    "    image: xiaopeng163/net-box:latest\n",
    "    command: /bin/sh -c \"while true; do sleep 3600; done\"\n",
    "\n",
    "  box2:\n",
    "    image: xiaopeng163/net-box:latest\n",
    "    command: /bin/sh -c \"while true; do sleep 3600; done\""
   ]
  },
  {
   "cell_type": "raw",
   "id": "2d84a11a",
   "metadata": {},
   "source": [
    "首先先啟動服務，注意我們的 yml 沒有自定義網路。"
   ]
  },
  {
   "cell_type": "code",
   "execution_count": null,
   "id": "52064c60",
   "metadata": {},
   "outputs": [],
   "source": [
    "docker-compose up -d "
   ]
  },
  {
   "cell_type": "raw",
   "id": "2bfb72a7",
   "metadata": {},
   "source": [
    "觀察一下網路，會發現 docker 會幫我們創建新的網路 demo22_default。前綴是我們現在目前所在的專案資料夾。"
   ]
  },
  {
   "cell_type": "code",
   "execution_count": null,
   "id": "cadd1c0d",
   "metadata": {},
   "outputs": [],
   "source": [
    "docker network ls\n",
    "docker network inspect demo22_default"
   ]
  },
  {
   "cell_type": "raw",
   "id": "3452227a",
   "metadata": {},
   "source": [
    "接下來我們進去 box1 的 sh，我們可以發現我們不僅可以 ping 通容器名，也可以 ping 通服務名。"
   ]
  },
  {
   "cell_type": "code",
   "execution_count": null,
   "id": "27f6c517",
   "metadata": {},
   "outputs": [],
   "source": [
    "docker container exec -it demo22_box1_1 sh\n",
    "$ ping demo22_box2_1\n",
    "$ ping box2"
   ]
  },
  {
   "cell_type": "raw",
   "id": "5d087f73",
   "metadata": {},
   "source": [
    "可以使用 dig 指令來看看 box1 容器內的 DNS 服務器。發現容器內的 DNS 服務器的 IP 為 127.0.0.11。我們也可以透過\n",
    "觀察 /etc/resolv.conf 這個檔案找到一樣的結果。"
   ]
  },
  {
   "cell_type": "code",
   "execution_count": null,
   "id": "81e27ea7",
   "metadata": {},
   "outputs": [],
   "source": [
    "dig\n",
    "more /etc/resolv.conf"
   ]
  },
  {
   "cell_type": "raw",
   "id": "916b0f59",
   "metadata": {},
   "source": [
    "退出到本機來，我們是可以 ping 成功剛剛容器的 DNS 服務器 IP。但是我們要 ping box1 的 IP 當然也沒問題，但是要 ping box1 的名字是會失敗的。因為我們在本機是用我們本機的 DNS 服務器，所以會沒辦法解析容器內部的狀態。一樣查看本機的 DNS 服務器。"
   ]
  },
  {
   "cell_type": "code",
   "execution_count": null,
   "id": "e1bebe2c",
   "metadata": {},
   "outputs": [],
   "source": [
    "ping box1\n",
    "more /etc/resolv.conf"
   ]
  },
  {
   "cell_type": "raw",
   "id": "8c1e39b3",
   "metadata": {},
   "source": [
    "結論，容器內在使用 DNS 服務器時，會先使用容器內部本身的，如果失敗，會再使用外部本機的 DNS 服務器。也因為這樣在容器內部 ping 域名也是可以成功的。"
   ]
  },
  {
   "cell_type": "code",
   "execution_count": null,
   "id": "61506795",
   "metadata": {},
   "outputs": [],
   "source": [
    "docker container exec -it demo22_box1_1 sh\n",
    "$ ping www.yahoo.com.tw"
   ]
  },
  {
   "cell_type": "markdown",
   "id": "4c569938",
   "metadata": {},
   "source": [
    "# docker-compose 網路: 使用自定義網路"
   ]
  },
  {
   "cell_type": "raw",
   "id": "5e2b693d",
   "metadata": {},
   "source": [
    "若是我們使用自定義的網路，那我們可以加入許多選項，我們在下面的範例就加入了一些。若有更多需求可上網查詢。在下面的例子中，我們把 box1 加入 mynetwork1，我們把 box2 加入 mynetwork1 與 mynetwork2。"
   ]
  },
  {
   "cell_type": "code",
   "execution_count": null,
   "id": "2db884ee",
   "metadata": {},
   "outputs": [],
   "source": [
    "version: '3.8'\n",
    "\n",
    "services:\n",
    "  box1:\n",
    "    image: xiaopeng163/net-box:latest\n",
    "    command: /bin/sh -c \"while true; do sleep 3600; done\"\n",
    "    networks:\n",
    "      - mynetwork1\n",
    "\n",
    "  box2:\n",
    "    image: xiaopeng163/net-box:latest\n",
    "    command: /bin/sh -c \"while true; do sleep 3600; done\"\n",
    "    networks:\n",
    "      - mynetwork1\n",
    "      - mynetwork2\n",
    "\n",
    "networks:\n",
    "  mynetwork1:\n",
    "    ipam:\n",
    "     driver: default\n",
    "     config:\n",
    "      - subnet: \"172.16.238.0/24\"\n",
    "  mynetwork2:\n",
    "    ipam:\n",
    "     driver: default"
   ]
  },
  {
   "cell_type": "raw",
   "id": "b9937540",
   "metadata": {},
   "source": [
    "啟動服務，然後觀察一下是否成功。"
   ]
  },
  {
   "cell_type": "code",
   "execution_count": null,
   "id": "de1453f6",
   "metadata": {},
   "outputs": [],
   "source": [
    "docker-compose up -d\n",
    "docker netowrk ls\n",
    "docker network inspect demo23_mynetwork1\n",
    "docker network inspect demo23_mynetwork2\n",
    "docker container inspect demo23_box1_1\n",
    "docker container inspect demo23_box2_1"
   ]
  },
  {
   "cell_type": "markdown",
   "id": "22a5257a",
   "metadata": {},
   "source": [
    "# Web Server 簡單的介紹"
   ]
  },
  {
   "cell_type": "markdown",
   "id": "f6a0ef61",
   "metadata": {},
   "source": [
    "### 什麼是 web server"
   ]
  },
  {
   "cell_type": "raw",
   "id": "0df7bc4c",
   "metadata": {},
   "source": [
    "簡單一句話來說就是提供 web 相關服務的伺服器。較有名的 web server 包含下篇要介紹的 Nginx 與 Apache。舉個例子來說，在電腦主機上執行 web server，它可以幫主機開一個 80 port，此時別人就能透過該電腦主機的 IP 與它建立連線。而講到 web server，好像就不能不講與它對應的 web client，例如我們每天使用的瀏覽器（Chrome, Firefox）。若我們今天想要造訪一個網站，client 會發起一些請求（request）至 server，告訴 server 我們想要造訪這個網頁，希望它可以傳送對應的資源給我們，而 server 接到請求後，則會將帶有該網站資源的回應（response）回傳給 client。這也就是我們再熟悉不過的 client-server 架構。"
   ]
  },
  {
   "cell_type": "markdown",
   "id": "b0bcf548",
   "metadata": {},
   "source": [
    "<img src=\"img/16.png\">"
   ]
  },
  {
   "cell_type": "markdown",
   "id": "d6bb60b8",
   "metadata": {},
   "source": [
    "### 程式語言不是也可以起一個 web server 嗎"
   ]
  },
  {
   "cell_type": "raw",
   "id": "a42edd0f",
   "metadata": {},
   "source": [
    "像我熟悉的 Node.js、Golang、Python，都可以透過程式直接跑一個 web server 起來。其實透過 Node.js Golang 這類程式語言起的 Web Server 通常會被稱為 Application Server，而 Nginx、Apache 一般來說才會被稱為 Web Server。"
   ]
  },
  {
   "cell_type": "markdown",
   "id": "24903f96",
   "metadata": {},
   "source": [
    "### 那 Application Server 跟 Web Server 的差異又為何呢"
   ]
  },
  {
   "cell_type": "raw",
   "id": "4da45d9a",
   "metadata": {},
   "source": [
    "Web Server：如 Nginx、Apache，只能拿來處理靜態資源，負載平衡、代理，所謂動態的資源，是指會把需求轉發到程式語言起的 Application Server，由 Application Server 處理完後，再丟 response 回去，由 Web Server 進行回應，最後才回到 Client 端。\n",
    "\n",
    "Application Server：就是可以用程式語言建立出的 Server，且可以靜態跟動態解析。\n",
    "\n",
    "聽起來 Application Server 可以動態與靜態解析，而一般 Web Server 只能靜態解析，那我們還需要 Web Server 幹嘛？那假設我們要在主機開啟不止一個網站服務呢？你可以開啟很多 port 沒錯，但是除了 localhost 以外，你有看過哪個網站有在網址帶上阜號的嗎？除了難記以外，資安風險也是一大問題！這時你會需要 web server 的反向代理功能，根據不同域名轉發到 Application Server 的不同 port 上去處理。除了反向代理，Web Server 提供的另外一個主要功能則是負載平衡（簡單來說就是在高流量的狀況下，只靠一個 Application Server 是肯定會炸掉的，所以需要開起多個 Application Server 來分擔流量，負載平衡就是負責 request 的分發，決定 request 要被分到哪一個 Application Server 處理）。另外 Nginx 與 Apache 等 Web Server 處理靜態資源的能力是遠遠高於 Application Server 的，在現今 web 前後端分離架構下，要處理的靜態資源變的非常多，這就適合 Nginx 與 Apache 發揮啦。"
   ]
  },
  {
   "cell_type": "markdown",
   "id": "7261ae1f",
   "metadata": {},
   "source": [
    "### 正向代理與反向代理"
   ]
  },
  {
   "cell_type": "raw",
   "id": "281e62f9",
   "metadata": {},
   "source": [
    "講解這兩個概念之前，我們得先在心中描繪出一個圖：一個 Client ，一個 Server，中間夾著一個 proxy。"
   ]
  },
  {
   "cell_type": "markdown",
   "id": "f79739ed",
   "metadata": {},
   "source": [
    "<img src=\"img/17.png\">"
   ]
  },
  {
   "cell_type": "raw",
   "id": "46bb9c8c",
   "metadata": {},
   "source": [
    "正向代理：\n",
    "生活舉例（真實發生QQ）：老爸 (client) 因為之前欠銀行錢沒有還，所以沒辦法再跟銀行 (server) 貸款，但是家中急需用錢呀，於是老爸跟我老姐 (proxy) 借了身份來貸款，因此銀行只知道它把錢借給了信用紀錄良好的我老姐，而不知道拿到錢的事實上是之前沒還錢的老爸 QQ\n",
    "技術術語：Client 端發送一個 request 先連到 proxy server，proxy server 幫我轉發到我想要連到的網站，這時那個網站收到的 request，他只知道請求過來的身分是 proxy server，而不知道真實的 client 的身分。\n",
    "\n",
    "反向代理：\n",
    "既然是反向那概念就是正向代理的相反了。\n",
    "生活舉例：Dcard 的網站或 App 每天都會有使用者回報服務的異常與問題，而使用者只知道他跟 Dcard 內部反映問題了，卻不知道是 Dcard 的哪位員工看到了他的回應並去做處理，而使用者實際上也不在乎是誰看到他的訊息的，只要問題有順利解決就好。\n",
    "技術術語：Client 端發送一個 request 到我想要連的網站，這個網站背後可能就會有好幾台的 Server 來為我們服務（ex: 負載平衡），為了應付高流量的狀況，會將請求分配到不同的 Server，而 Client 根本不會知道具體到底是哪一台 Server，而 Client 也不需要知道，Client 只需要知道反向代理 Server 是誰就好。\n",
    "一句話總結兩種 Proxy：\n",
    "正向代理隐藏真實 Client，反向代理隱藏真實 Server。"
   ]
  },
  {
   "cell_type": "markdown",
   "id": "912aa2cf",
   "metadata": {},
   "source": [
    "# nginx 簡單的介紹"
   ]
  },
  {
   "cell_type": "markdown",
   "id": "cb0634cb",
   "metadata": {},
   "source": [
    "<img src=\"img/18.png\">"
   ]
  },
  {
   "cell_type": "raw",
   "id": "0ec094dc",
   "metadata": {},
   "source": [
    "Nginx 是什麼？它為什麼火紅？ Nginx (讀作 engine x)，是一個免費的開源軟體，一個非同步框架的 web server，不過它的功用遠不僅止於 web server，它更多的用途是作為反向代理、Http Cache、負載平衡器。它在近幾年變得十分火熱，與較老牌的 Apache 成為 web server 的兩大巨頭，並且在較新的軟體專案中，使用率有超越 Apache 的趨勢。了解到 Nginx 是什麼後，我們也得去了解一下它能夠走紅的原因，與它的優勢到底是什麼。"
   ]
  },
  {
   "cell_type": "markdown",
   "id": "6d7296be",
   "metadata": {},
   "source": [
    "### 面向效能"
   ]
  },
  {
   "cell_type": "raw",
   "id": "062bf019",
   "metadata": {},
   "source": [
    "經過詳細效能上的比較後（當然不是我去比較的），發現 Nginx 在處理 IO 並發與靜態文檔方面效能是比 Apache 還要好的，甚至是遠遠超越，原因必須追溯到兩種 web server 底層設計的差異，因為超過討論範圍，就不特別探討了。因此在需要應對大流量的狀況下，許多公司會選擇使用 Nginx 作為 server 而不是 Apache。"
   ]
  },
  {
   "cell_type": "markdown",
   "id": "4be1cf82",
   "metadata": {},
   "source": [
    "### 設置簡易"
   ]
  },
  {
   "cell_type": "raw",
   "id": "e45faa4c",
   "metadata": {},
   "source": [
    "相比於 Apache， Nginx 因為模組化的設計，配置上是較為簡單的，不過就提供的功能與相關套件來看，則是歷史悠久的 Apache 略勝一籌。"
   ]
  },
  {
   "cell_type": "markdown",
   "id": "22449f1b",
   "metadata": {},
   "source": [
    "### 記憶體消耗低"
   ]
  },
  {
   "cell_type": "raw",
   "id": "1800ae2a",
   "metadata": {},
   "source": [
    "一樣拿 Apache 來比較，Nginx 佔用了相對低的資源與內存，另外值得注意的是 Nginx 在高併發狀況下可以保持低資源低消耗，卻仍能保有高效能。"
   ]
  },
  {
   "cell_type": "markdown",
   "id": "6c143164",
   "metadata": {},
   "source": [
    "### 反向代理＆負載平衡"
   ]
  },
  {
   "cell_type": "raw",
   "id": "64b90334",
   "metadata": {},
   "source": [
    "上篇文章中也介紹過這兩個概念，其實 Apache 當然也是做得到的，差別就體現在上面的第一點：效能。同樣實作這兩個功能，Nginx 可以消耗更少的資源，這也代表著在相同資源的狀況下，Nginx 可以處理更多的連線請求。"
   ]
  },
  {
   "cell_type": "markdown",
   "id": "fa613520",
   "metadata": {},
   "source": [
    "# 水平擴展與負載均衡"
   ]
  },
  {
   "cell_type": "raw",
   "id": "a3b3bc47",
   "metadata": {},
   "source": [
    "我們藉由兩個例子來說明水平擴展與負仔均衡。目錄結構:\n",
    "\n",
    "- flask\n",
    "    - app.py\n",
    "    - Dockerfile\n",
    "- docker-compose.yml"
   ]
  },
  {
   "cell_type": "markdown",
   "id": "098d435d",
   "metadata": {},
   "source": [
    "### 範例01"
   ]
  },
  {
   "cell_type": "raw",
   "id": "1afbd644",
   "metadata": {},
   "source": [
    "app.py 檔:"
   ]
  },
  {
   "cell_type": "code",
   "execution_count": null,
   "id": "b0c5c77a",
   "metadata": {},
   "outputs": [],
   "source": [
    "from flask import Flask\n",
    "from redis import Redis\n",
    "import os\n",
    "import socket\n",
    "\n",
    "\n",
    "app = Flask(__name__)\n",
    "redis = Redis(host=os.environ.get('REDIS_HOST', '127.0.0.1'), port=6379)\n",
    "\n",
    "\n",
    "@app.route('/')\n",
    "\n",
    "def hello():\n",
    "    redis.incr('hits')\n",
    "    return f\"Hello Container World! I have been seen {redis.get('hits').decode('utf-8')} times and my hostname is {socket.gethostname()}.\\n\""
   ]
  },
  {
   "cell_type": "raw",
   "id": "c091bdc3",
   "metadata": {},
   "source": [
    "Dockerfile 檔:"
   ]
  },
  {
   "cell_type": "code",
   "execution_count": null,
   "id": "9614b57f",
   "metadata": {},
   "outputs": [],
   "source": [
    "FROM python:3.9.5-slim\n",
    "RUN pip install flask redis && \\\n",
    "    groupadd -r flask && useradd -r -g flask flask && \\\n",
    "    mkdir /src && \\\n",
    "    chown -R flask:flask /src\n",
    "USER flask\n",
    "COPY app.py /src/app.py\n",
    "WORKDIR /src\n",
    "ENV FLASK=app.py REDIS_HOST=redis\n",
    "EXPOSE 5000\n",
    "CMD [\"flask\", \"run\", \"-h\", \"0.0.0.0\"]"
   ]
  },
  {
   "cell_type": "raw",
   "id": "8459e620",
   "metadata": {},
   "source": [
    "docker-compose.yml 檔:"
   ]
  },
  {
   "cell_type": "code",
   "execution_count": null,
   "id": "6ff60d15",
   "metadata": {},
   "outputs": [],
   "source": [
    "version: \"3.8\"\n",
    "\n",
    "services:\n",
    "  flask:\n",
    "    build:\n",
    "      context: ./flask\n",
    "      dockerfile: Dockerfile\n",
    "    image: flask-demo:latest\n",
    "    environment:\n",
    "      - REDIS_HOST=redis-server\n",
    "  redis-server:\n",
    "    image: redis:latest\n",
    "  client:\n",
    "    image: xiaopeng163/net-box:latest\n",
    "    command: sh -c \"while true; do sleep 3600; done;\""
   ]
  },
  {
   "cell_type": "raw",
   "id": "201efa9e",
   "metadata": {},
   "source": [
    "首先直接啟動"
   ]
  },
  {
   "cell_type": "code",
   "execution_count": null,
   "id": "ac223068",
   "metadata": {},
   "outputs": [],
   "source": [
    "docker-compose up -d"
   ]
  },
  {
   "cell_type": "raw",
   "id": "12f6b8f8",
   "metadata": {},
   "source": [
    "現在直接在本機 ping 域名都是會失敗的，而且注意我們在這個例子也沒有端口轉發喔。真要訪問 flask，就要在使用容器的 IP 加 port 號。"
   ]
  },
  {
   "cell_type": "raw",
   "id": "85ebf90b",
   "metadata": {},
   "source": [
    "ping redis-server\n",
    "ping flask:5000\n",
    "curl flask:5000    "
   ]
  },
  {
   "cell_type": "raw",
   "id": "dce310bd",
   "metadata": {},
   "source": [
    "在服務都 up 的情況下，來試試看 docker 的水平擴展。"
   ]
  },
  {
   "cell_type": "code",
   "execution_count": null,
   "id": "dcf9103e",
   "metadata": {},
   "outputs": [],
   "source": [
    "docker-compose up -d --scale flask=3\n",
    "docker-compose ps"
   ]
  },
  {
   "cell_type": "raw",
   "id": "85a03725",
   "metadata": {},
   "source": [
    "在服務都 up 的情況下，也可以把剛剛的水平擴展調回 1，docker 會幫忙刪除多餘的。"
   ]
  },
  {
   "cell_type": "raw",
   "id": "61c56b0f",
   "metadata": {},
   "source": [
    "docker-compose up -d --scale flask=1"
   ]
  },
  {
   "cell_type": "raw",
   "id": "3f54386d",
   "metadata": {},
   "source": [
    "現在再改回 3，然後進入服務 server 的 shell。"
   ]
  },
  {
   "cell_type": "code",
   "execution_count": null,
   "id": "d4463ec0",
   "metadata": {},
   "outputs": [],
   "source": [
    "docker-compose up -d --scale flask=3\n",
    "docker container exec -it clientId sh"
   ]
  },
  {
   "cell_type": "raw",
   "id": "455baf10",
   "metadata": {},
   "source": [
    "我們不停地 ping 與 curl，可以從連接到的 hostname 的不同了解到 Docker 有幫我們負載均衡。"
   ]
  },
  {
   "cell_type": "code",
   "execution_count": null,
   "id": "beb8ef4c",
   "metadata": {},
   "outputs": [],
   "source": [
    "ping flask \n",
    "ping flask \n",
    "ping flask \n",
    "ping flask \n",
    "ping flask \n",
    "curl flask:5000\n",
    "curl flask:5000\n",
    "curl flask:5000\n",
    "curl flask:5000\n",
    "curl flask:5000\n",
    "docker-compose down"
   ]
  },
  {
   "cell_type": "raw",
   "id": "a2f021d4",
   "metadata": {},
   "source": [
    "這裡有一個相當重要的重點，如果我們在 .yml 檔加入 flask 端口轉發，在水平擴展就會失敗，因為 port 已經沒辦法被多個占用。所以我們在本機上還是沒有實現水平擴展。這時候就是 nginx 出場的時候了。 "
   ]
  },
  {
   "cell_type": "markdown",
   "id": "fb9d192f",
   "metadata": {},
   "source": [
    "### 範例02"
   ]
  },
  {
   "cell_type": "raw",
   "id": "070c703c",
   "metadata": {},
   "source": [
    "加入 nginx 就可以實現水平擴展與負載均衡了。先來看看我們的目錄結構:\n",
    "\n",
    "- flask\n",
    "    - app.py\n",
    "    - Dockerfile\n",
    "-nginx\n",
    "    - nginx.conf\n",
    "- docker-compose.yml"
   ]
  },
  {
   "cell_type": "raw",
   "id": "95b3fdc8",
   "metadata": {},
   "source": [
    "app.py 檔:"
   ]
  },
  {
   "cell_type": "code",
   "execution_count": null,
   "id": "a827200e",
   "metadata": {},
   "outputs": [],
   "source": [
    "from flask import Flask\n",
    "from redis import Redis\n",
    "import os\n",
    "import socket\n",
    "\n",
    "\n",
    "app = Flask(__name__)\n",
    "redis = Redis(host=os.environ.get('REDIS_HOST', '127.0.0.1'), port=6379)\n",
    "\n",
    "\n",
    "@app.route('/')\n",
    "def hello():\n",
    "    redis.incr('hits')\n",
    "    return f\"Hello Container World! I have been seen {redis.get('hits').decode('utf-8')} times and my hostname is {socket.gethostname()}.\\n\""
   ]
  },
  {
   "cell_type": "raw",
   "id": "e37255a3",
   "metadata": {},
   "source": [
    "Dockerfile 檔:"
   ]
  },
  {
   "cell_type": "code",
   "execution_count": null,
   "id": "d1178a92",
   "metadata": {},
   "outputs": [],
   "source": [
    "FROM python:3.9.5-slim\n",
    "RUN pip install flask redis && \\\n",
    "    groupadd -r flask && useradd -r -g flask flask && \\\n",
    "    mkdir /src && \\\n",
    "    chown -R flask:flask /src\n",
    "USER flask\n",
    "COPY app.py /src/app.py\n",
    "WORKDIR /src\n",
    "ENV FLASK=app.py REDIS_HOST=redis\n",
    "EXPOSE 5000\n",
    "CMD [\"flask\", \"run\", \"-h\", \"0.0.0.0\"]"
   ]
  },
  {
   "cell_type": "raw",
   "id": "32a1c986",
   "metadata": {},
   "source": [
    "nginx.conf 檔:"
   ]
  },
  {
   "cell_type": "code",
   "execution_count": null,
   "id": "84b57957",
   "metadata": {},
   "outputs": [],
   "source": [
    "server {\n",
    "  listen  80 default_server;\n",
    "  location / {\n",
    "    proxy_pass http://flask:5000;\n",
    "  }\n",
    "}"
   ]
  },
  {
   "cell_type": "raw",
   "id": "7c49182f",
   "metadata": {},
   "source": [
    "docker-compose.yml 檔:"
   ]
  },
  {
   "cell_type": "code",
   "execution_count": null,
   "id": "8ba47b37",
   "metadata": {},
   "outputs": [],
   "source": [
    "version: \"3.8\"\n",
    "\n",
    "services:\n",
    "  flask:\n",
    "    build:\n",
    "      context: ./flask\n",
    "      dockerfile: Dockerfile\n",
    "    image: flask-demo:latest\n",
    "    environment:\n",
    "      - REDIS_HOST=redis-server\n",
    "    networks:\n",
    "      - backend\n",
    "      - frontend\n",
    "  redis-server:\n",
    "    image: redis:latest\n",
    "    networks:\n",
    "      - backend\n",
    "  nginx:\n",
    "    image: nginx:stable-alpine\n",
    "    ports:\n",
    "      - 8000:80\n",
    "    depends_on:\n",
    "      - flask\n",
    "    volumes:\n",
    "      - ./nginx/nginx.conf:/etc/nginx/conf.d/default.conf:ro\n",
    "      - ./var/log/nginx:/var/log/nginx\n",
    "    networks:\n",
    "      - frontend\n",
    "networks:\n",
    "  backend:\n",
    "  frontend:"
   ]
  },
  {
   "cell_type": "raw",
   "id": "325f6314",
   "metadata": {},
   "source": [
    "由上面的配置就可以實現水平擴展、負載均衡。在 flask 是三的情況下，在本機一直刷新頁面，會發現 hostnname 一直在變動。"
   ]
  },
  {
   "cell_type": "code",
   "execution_count": null,
   "id": "c9faf0e9",
   "metadata": {},
   "outputs": [],
   "source": [
    "docker-compose up -d \n",
    "docker-compose ps\n",
    "docker-compose up -d --scale flask=3\n",
    "docker-compose ps"
   ]
  },
  {
   "cell_type": "markdown",
   "id": "55ce51b9",
   "metadata": {},
   "source": [
    "# 環境變量的設定"
   ]
  },
  {
   "cell_type": "raw",
   "id": "f60ee53c",
   "metadata": {},
   "source": [
    "就剛剛的例子來說，redis 資料庫沒設定密碼是不安全的，我們利用環境變數來增加這個設定。整個範例的目錄結構:\n",
    "\n",
    "- flask\n",
    "    - app.py\n",
    "    - Dockerfile\n",
    "-nginx\n",
    "    - nginx.conf\n",
    "- docker-compose.yml\n",
    "- .env"
   ]
  },
  {
   "cell_type": "raw",
   "id": "030c8941",
   "metadata": {},
   "source": [
    "app.py 檔:"
   ]
  },
  {
   "cell_type": "code",
   "execution_count": null,
   "id": "70215c03",
   "metadata": {},
   "outputs": [],
   "source": [
    "from flask import Flask\n",
    "from redis import Redis\n",
    "import os\n",
    "import socket\n",
    "\n",
    "\n",
    "\n",
    "app = Flask(__name__)\n",
    "redis = Redis(host=os.environ.get('REDIS_HOST', '127.0.0.1'), port=6379,\n",
    "              password=os.environ.get(\"REDIS_PASS\"))\n",
    "\n",
    "@app.route('/')\n",
    "def hello():\n",
    "    redis.incr('hits')\n",
    "    return f\"Hello Container World! I have been seen {redis.get('hits').decode('utf-8')} times and my hostname is {socket.gethostname()}.\\n\""
   ]
  },
  {
   "cell_type": "raw",
   "id": "d549056b",
   "metadata": {},
   "source": [
    "Dockerfile 檔:"
   ]
  },
  {
   "cell_type": "code",
   "execution_count": null,
   "id": "57fc77e8",
   "metadata": {},
   "outputs": [],
   "source": [
    "FROM python:3.9.5-slim\n",
    "RUN pip install flask redis && \\\n",
    "    groupadd -r flask && useradd -r -g flask flask && \\\n",
    "    mkdir /src && \\\n",
    "    chown -R flask:flask /src\n",
    "USER flask\n",
    "COPY app.py /src/app.py\n",
    "WORKDIR /src\n",
    "ENV FLASK=app.py REDIS_HOST=redis\n",
    "EXPOSE 5000\n",
    "CMD [\"flask\", \"run\", \"-h\", \"0.0.0.0\"]"
   ]
  },
  {
   "cell_type": "raw",
   "id": "2d8b5114",
   "metadata": {},
   "source": [
    "nginx.conf 檔:"
   ]
  },
  {
   "cell_type": "code",
   "execution_count": null,
   "id": "67ad3c00",
   "metadata": {},
   "outputs": [],
   "source": [
    "server {\n",
    "  listen  80 default_server;\n",
    "  location / {\n",
    "    proxy_pass http://flask:5000;\n",
    "  }\n",
    "}"
   ]
  },
  {
   "cell_type": "raw",
   "id": "83da4855",
   "metadata": {},
   "source": [
    ".env 檔:"
   ]
  },
  {
   "cell_type": "code",
   "execution_count": null,
   "id": "7341de87",
   "metadata": {},
   "outputs": [],
   "source": [
    "REDIS_PASSWORD=abc123"
   ]
  },
  {
   "cell_type": "raw",
   "id": "e5b22dd4",
   "metadata": {},
   "source": [
    "docker-compose.yml 檔:"
   ]
  },
  {
   "cell_type": "code",
   "execution_count": null,
   "id": "9bf8e86a",
   "metadata": {},
   "outputs": [],
   "source": [
    "version: \"3.8\"\n",
    "\n",
    "services:\n",
    "  flask:\n",
    "    build:\n",
    "      context: ./flask\n",
    "      dockerfile: Dockerfile\n",
    "    image: flask-demo:latest\n",
    "    environment:\n",
    "      - REDIS_HOST=redis-server\n",
    "      - REDIS_PASS=${REDIS_PASSWORD}\n",
    "    networks:\n",
    "      - backend\n",
    "      - frontend\n",
    "  redis-server:\n",
    "    image: redis:latest\n",
    "    command: redis-server --requirepass ${REDIS_PASSWORD}\n",
    "    networks:\n",
    "      - backend\n",
    "  nginx:\n",
    "    image: nginx:stable-alpine\n",
    "    ports:\n",
    "      - 8000:80\n",
    "    depends_on:\n",
    "      - flask\n",
    "    volumes:\n",
    "      - ./nginx/nginx.conf:/etc/nginx/conf.d/default.conf:ro\n",
    "      - ./var/log/nginx:/var/log/nginx\n",
    "    networks:\n",
    "      - frontend\n",
    "networks:\n",
    "  backend:\n",
    "  frontend:"
   ]
  },
  {
   "cell_type": "raw",
   "id": "5c4d5bc3",
   "metadata": {},
   "source": [
    "因為密碼直接寫在 docker-compose.yml 檔內會有資安上的風險，我們可以把它寫在 .env 檔。.env 檔要放在跟 docker-compose.yml 檔同一層，docker 預設會偵測到 .env 檔。可利用 docker-compse config 先去看看環境變數是不是有確實被寫進去。最後在本機瀏覽器輸入 127.0.0.1:8000 還是可以成功訪問。.env 檔可以換名稱，只是要多一些指令。"
   ]
  },
  {
   "cell_type": "code",
   "execution_count": null,
   "id": "b0ac2ca1",
   "metadata": {},
   "outputs": [],
   "source": [
    "docker-compose config\n",
    "docker-compose up -d --scale flask=3"
   ]
  },
  {
   "cell_type": "markdown",
   "id": "48f7f104",
   "metadata": {},
   "source": [
    "# 服務依賴與健康檢查"
   ]
  },
  {
   "cell_type": "raw",
   "id": "40c90d0c",
   "metadata": {},
   "source": [
    "如果我們要在 docker-compose.yml 檔加入服務依賴與健康檢查，那在 Dockerfile 檔就不需要加入健康檢查了。注意在 depends_on 命令中，如果只加入服務的名字，那就是決定服務的順序。如果再加入 condition: service_healthy ，那就是決定順序外，還要服務是健康的，才會進行下一步。\n",
    "一個健康檢查還不錯的例子可查看:"
   ]
  },
  {
   "cell_type": "markdown",
   "id": "ccdb919e",
   "metadata": {},
   "source": [
    "https://gist.github.com/phuysmans/4f67a7fa1b0c6809a86f014694ac6c3a"
   ]
  },
  {
   "cell_type": "markdown",
   "id": "ef6f30df",
   "metadata": {},
   "source": [
    "### 範例01"
   ]
  },
  {
   "cell_type": "raw",
   "id": "25b9f7fb",
   "metadata": {},
   "source": [
    "我們再我們之前的 python flask + redis 的例子加入服務依賴跟健康檢查。首先複習一下我們的目錄結構:\n",
    "\n",
    "- flask\n",
    "    - app.py\n",
    "    - Dockerfile\n",
    "-nginx\n",
    "    - nginx.conf\n",
    "- docker-compose.yml\n",
    "- .env"
   ]
  },
  {
   "cell_type": "raw",
   "id": "a15b36d2",
   "metadata": {},
   "source": [
    "app.py 檔:"
   ]
  },
  {
   "cell_type": "code",
   "execution_count": null,
   "id": "41eabdd8",
   "metadata": {},
   "outputs": [],
   "source": [
    "from flask import Flask\n",
    "from redis import StrictRedis\n",
    "import os\n",
    "import socket\n",
    "\n",
    "\n",
    "\n",
    "app = Flask(__name__)\n",
    "redis = StrictRedis(host=os.environ.get('REDIS_HOST', '127.0.0.1'),\n",
    "                    port=6379, password=os.environ.get('REDIS_PASS'))\n",
    "\n",
    "\n",
    "@app.route('/')\n",
    "def hello():\n",
    "    redis.incr('hits')\n",
    "    return f\"Hello Container World! I have been seen {redis.get('hits').decode('utf-8')} times and my hostname is {socket.gethostname()}.\\n\""
   ]
  },
  {
   "cell_type": "raw",
   "id": "f276e03a",
   "metadata": {},
   "source": [
    "Dockerfile 檔:"
   ]
  },
  {
   "cell_type": "code",
   "execution_count": null,
   "id": "49a0db4a",
   "metadata": {},
   "outputs": [],
   "source": [
    "FROM python:3.9.5-slim\n",
    "\n",
    "RUN pip install flask redis && \\\n",
    "    apt-get update && \\\n",
    "    apt-get install -y curl && \\\n",
    "    groupadd -r flask && useradd -r -g flask flask && \\\n",
    "    mkdir /src && \\\n",
    "    chown -R flask:flask /src\n",
    "USER flask\n",
    "COPY app.py /src/app.py\n",
    "WORKDIR /src\n",
    "ENV FLASK_APP=app.py REDIS_HOST=redis\n",
    "EXPOSE 5000\n",
    "CMD [\"flask\", \"run\", \"-h\", \"0.0.0.0\"]"
   ]
  },
  {
   "cell_type": "raw",
   "id": "1ed0e839",
   "metadata": {},
   "source": [
    "nginx.conf 檔:"
   ]
  },
  {
   "cell_type": "code",
   "execution_count": null,
   "id": "8c67b7cb",
   "metadata": {},
   "outputs": [],
   "source": [
    "server {\n",
    "  listen  80 default_server;\n",
    "  location / {\n",
    "    proxy_pass http://flask:5000;\n",
    "  }\n",
    "}"
   ]
  },
  {
   "cell_type": "raw",
   "id": "58f62716",
   "metadata": {},
   "source": [
    "docker-compose.yml 檔:"
   ]
  },
  {
   "cell_type": "code",
   "execution_count": null,
   "id": "3b76dbc4",
   "metadata": {},
   "outputs": [],
   "source": [
    "version: \"3.8\"\n",
    "\n",
    "services:\n",
    "  flask:\n",
    "    build:\n",
    "      context: ./flask\n",
    "      dockerfile: Dockerfile\n",
    "    image: flask-demo:latest\n",
    "    environment:\n",
    "      - REDIS_HOST=redis-server\n",
    "      - REDIS_PASS=${REDIS_PASSWORD}\n",
    "    healthcheck:\n",
    "      test: [\"CMD\", \"curl\", \"-f\", \"http://localhost:5000\"]\n",
    "      interval: 30s\n",
    "      timeout: 3s\n",
    "      retries: 3\n",
    "      start_period: 40s\n",
    "    depends_on:\n",
    "      redis-server:\n",
    "        condition: service_healthy\n",
    "    networks:\n",
    "      - backend\n",
    "      - frontend\n",
    "  redis-server:\n",
    "    image: redis:latest\n",
    "    command: redis-server --requirepass ${REDIS_PASSWORD}\n",
    "    healthcheck:\n",
    "      test: [\"CMD\", \"redis-cli\", \"ping\"]\n",
    "      interval: 1s\n",
    "      timeout: 3s\n",
    "      retries: 30\n",
    "    networks:\n",
    "      - backend\n",
    "  nginx:\n",
    "    image: nginx:stable-alpine\n",
    "    ports:\n",
    "      - 8000:80\n",
    "    depends_on:\n",
    "      flask:\n",
    "        condition: service_healthy\n",
    "    volumes:\n",
    "      - ./nginx/nginx.conf:/etc/nginx/conf.d/default.conf:ro\n",
    "      - ./var/log/nginx:/var/log/nginx\n",
    "    networks:\n",
    "      - frontend\n",
    "networks:\n",
    "  backend:\n",
    "  frontend:"
   ]
  },
  {
   "cell_type": "markdown",
   "id": "9ca478a2",
   "metadata": {},
   "source": [
    "# 綜合演練: docker-compose 投票 app 練習"
   ]
  },
  {
   "cell_type": "raw",
   "id": "d72c3890",
   "metadata": {},
   "source": [
    "一個著名的 docker-compose 演練，相關程式碼可參考:"
   ]
  },
  {
   "cell_type": "markdown",
   "id": "7e34e8cf",
   "metadata": {},
   "source": [
    " https://github.com/dockersamples/example-voting-app"
   ]
  }
 ],
 "metadata": {
  "kernelspec": {
   "display_name": "Python 3",
   "language": "python",
   "name": "python3"
  },
  "language_info": {
   "codemirror_mode": {
    "name": "ipython",
    "version": 3
   },
   "file_extension": ".py",
   "mimetype": "text/x-python",
   "name": "python",
   "nbconvert_exporter": "python",
   "pygments_lexer": "ipython3",
   "version": "3.8.10"
  }
 },
 "nbformat": 4,
 "nbformat_minor": 5
}
