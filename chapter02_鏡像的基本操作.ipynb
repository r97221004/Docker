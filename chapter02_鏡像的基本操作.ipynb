{
 "cells": [
  {
   "cell_type": "markdown",
   "id": "401dd5de",
   "metadata": {},
   "source": [
    "# Docker 鏡像獲取的四種方式"
   ]
  },
  {
   "cell_type": "raw",
   "id": "584b574f",
   "metadata": {},
   "source": [
    "1. (線上) pull from registry (online) 從 registry 拉取，可分為 public 與 private 的 registry。\n",
    "2. (線上) build from Dockerfile (online) ，從 Dockerfile 來構建。\n",
    "3. (離線) load from file 文件導入。"
   ]
  },
  {
   "cell_type": "markdown",
   "id": "c2c03f25",
   "metadata": {},
   "source": [
    "<img src=\"img/5.png\">"
   ]
  },
  {
   "cell_type": "markdown",
   "id": "f10b0600",
   "metadata": {},
   "source": [
    "### 從線上的 registry 拉取鏡像"
   ]
  },
  {
   "cell_type": "raw",
   "id": "86389496",
   "metadata": {},
   "source": [
    "首先如果忘記指令，可以輸入以下命令恢復一下記憶。"
   ]
  },
  {
   "cell_type": "code",
   "execution_count": null,
   "id": "acb50c25",
   "metadata": {},
   "outputs": [],
   "source": [
    "docker image"
   ]
  },
  {
   "cell_type": "raw",
   "id": "761d0dfb",
   "metadata": {},
   "source": [
    "從遠程拉取鏡像，如果不指定版本，預設是拉取最新版本號。"
   ]
  },
  {
   "cell_type": "code",
   "execution_count": null,
   "id": "d99dacfc",
   "metadata": {},
   "outputs": [],
   "source": [
    "docker image pull nginx"
   ]
  },
  {
   "cell_type": "raw",
   "id": "39f58669",
   "metadata": {},
   "source": [
    "由以下命令查看本地目前所擁有的鏡像。"
   ]
  },
  {
   "cell_type": "code",
   "execution_count": null,
   "id": "5e758564",
   "metadata": {},
   "outputs": [],
   "source": [
    "docker image ls"
   ]
  },
  {
   "cell_type": "raw",
   "id": "767fc40f",
   "metadata": {},
   "source": [
    "接著我們來指定版本號，如果不知道有那些版本，可上 dockerhub 查找現有版本號。"
   ]
  },
  {
   "cell_type": "code",
   "execution_count": null,
   "id": "7cb8dd41",
   "metadata": {},
   "outputs": [],
   "source": [
    "docker image pull nginx:1.20.0"
   ]
  },
  {
   "cell_type": "raw",
   "id": "b736d5aa",
   "metadata": {},
   "source": [
    "使用以下指令可以查看鏡像的更多資訊，尤其需特別注意 Os 、 Architechture 與 Layers 的內容。"
   ]
  },
  {
   "cell_type": "code",
   "execution_count": null,
   "id": "756a0722",
   "metadata": {},
   "outputs": [],
   "source": [
    "docker image inspect imageId"
   ]
  },
  {
   "cell_type": "raw",
   "id": "ee87397c",
   "metadata": {},
   "source": [
    "最後是鏡像的刪除，特別要注意的是，要先刪除所有對應的容器，才有辦法刪除鏡像。"
   ]
  },
  {
   "cell_type": "code",
   "execution_count": null,
   "id": "19b01aaf",
   "metadata": {},
   "outputs": [],
   "source": [
    "docker image rm imageId"
   ]
  },
  {
   "cell_type": "markdown",
   "id": "686c2843",
   "metadata": {},
   "source": [
    "### 鏡像的離線導入與導出"
   ]
  },
  {
   "cell_type": "raw",
   "id": "b56df8c0",
   "metadata": {},
   "source": [
    "首先我們先去遠程的 registry 拉取 nginx 的鏡像。"
   ]
  },
  {
   "cell_type": "code",
   "execution_count": null,
   "id": "923932ad",
   "metadata": {},
   "outputs": [],
   "source": [
    "docker image pull nginx:1.20.0"
   ]
  },
  {
   "cell_type": "raw",
   "id": "cbd98353",
   "metadata": {},
   "source": [
    "把鏡像輸出成在本地的一個文件，你可以把這個文件帶到別台機器上。短選項 -o 是 output 的意思。"
   ]
  },
  {
   "cell_type": "code",
   "execution_count": null,
   "id": "d0a9b548",
   "metadata": {},
   "outputs": [],
   "source": [
    "docker image save nginx:1.20.0 -o nginx.image"
   ]
  },
  {
   "cell_type": "raw",
   "id": "7ab0d83b",
   "metadata": {},
   "source": [
    "在別台電腦上執行以下指令，就會有這個鏡像了。短選項 -i 是 input 的意思。"
   ]
  },
  {
   "cell_type": "code",
   "execution_count": null,
   "id": "ca284d0a",
   "metadata": {},
   "outputs": [],
   "source": [
    "docker image load -i ./nginx.image"
   ]
  },
  {
   "cell_type": "markdown",
   "id": "dd96c1ab",
   "metadata": {},
   "source": [
    "### 使用 Dockerfile 來構建鏡像"
   ]
  },
  {
   "cell_type": "raw",
   "id": "f9a02a23",
   "metadata": {},
   "source": [
    "首先我們先來簡單的介紹一下什麼是 Dockerfile，以下是官網的描述:\n",
    " \n",
    "Docker can build images automatically by reading the instructions from a Dockerfile. A Dockerfile is a text document that contains all the commands a user could call on the command line to assemble an image. Using docker build users can create an automated build that executes several command-line instructions in succession.\n",
    "\n",
    "也就是說\n",
    "\n",
    "1. Dockerfile 是用於構建 docker 鏡像的文件\n",
    "2. Dockerfile 裏包含了構建鏡像所需的 “指令”\n",
    "3. Dockerfile 有其特定的語法規則"
   ]
  },
  {
   "cell_type": "markdown",
   "id": "7f69017c",
   "metadata": {},
   "source": [
    "#### 範例01-執行一個Python程序"
   ]
  },
  {
   "cell_type": "raw",
   "id": "47dd83be",
   "metadata": {},
   "source": [
    "注意容器即進程，所以鏡像就是一個運行這個進程所需要的環境。假如我們要在一台 ubuntu 21.04上運行下面這個 hello.py 的 Python 程序。\n",
    "\n",
    "hello.py 的文件內容： print(\"hello docker\")\n",
    "\n",
    "我們需要執行以下幾個步驟:\n",
    "第一步: 準備 Python 環境\n",
    "\n",
    "apt-get update && \\\n",
    "DEBIAN_FRONTEND=noninteractive apt-get install --no-install-recommends -y python3.9 python3-pip python3.9-dev\n",
    "\n",
    "第二步: 運行 hello.py\n",
    "\n",
    "$ python3 hello.py\n",
    "\n",
    "而上面的步驟可以對應到一個 Dockerfile 的結構為:"
   ]
  },
  {
   "cell_type": "code",
   "execution_count": null,
   "id": "97e853c4",
   "metadata": {},
   "outputs": [],
   "source": [
    "FROM ubuntu:21.04\n",
    "RUN apt-get update && \\\n",
    "    DEBIAN_FRONTEND=noninteractive apt-get install --no-install-recommends -y python3.9 python3-pip python3.9-dev\n",
    "ADD hello.py /\n",
    "CMD [\"python3\", \"/hello.py\"]"
   ]
  },
  {
   "cell_type": "markdown",
   "id": "734799a2",
   "metadata": {},
   "source": [
    "---"
   ]
  },
  {
   "cell_type": "raw",
   "id": "dbb00d0b",
   "metadata": {},
   "source": [
    "開始 build 上面的 Dockerfile  成一個鏡像。首先要把 Dockerfile 與 hello.py 放在同一個資料夾，且 cd 到這個資料夾。\n",
    "注意短選項 -t 是 tag 的意思，指定鏡像的名字，沒有寫版本號，會用預設的 latest。而 . 的意思是把創建的鏡像放在當前的資料夾。"
   ]
  },
  {
   "cell_type": "code",
   "execution_count": null,
   "id": "da8db000",
   "metadata": {},
   "outputs": [],
   "source": [
    "docker image build -t hello ."
   ]
  },
  {
   "cell_type": "raw",
   "id": "10743455",
   "metadata": {},
   "source": [
    "執行我們剛剛創建的鏡像，你會發現執行完後，容器就退出了。"
   ]
  },
  {
   "cell_type": "code",
   "execution_count": null,
   "id": "c9c7ec46",
   "metadata": {},
   "outputs": [],
   "source": [
    "docker container run hello"
   ]
  },
  {
   "cell_type": "raw",
   "id": "3ce76df9",
   "metadata": {},
   "source": [
    "如果想要把鏡像推送到 dockerhub， 鏡像名稱有指定寫法，我們可以使用下面的指令來更改名字與版本號。\n",
    "注意前面是舊的，後面是新的。"
   ]
  },
  {
   "cell_type": "code",
   "execution_count": null,
   "id": "998cbed8",
   "metadata": {},
   "outputs": [],
   "source": [
    "docker image tag hello r97221004/hello:1.0"
   ]
  },
  {
   "cell_type": "raw",
   "id": "8331cd37",
   "metadata": {},
   "source": [
    "準備把自己的鏡像推送出去，但首先要先登入才行。\n",
    "輸入帳號與密碼"
   ]
  },
  {
   "cell_type": "code",
   "execution_count": null,
   "id": "975b256d",
   "metadata": {},
   "outputs": [],
   "source": [
    "docker login"
   ]
  },
  {
   "cell_type": "raw",
   "id": "c12cfad6",
   "metadata": {},
   "source": [
    "利用以下指令來完成操作。"
   ]
  },
  {
   "cell_type": "code",
   "execution_count": null,
   "id": "51c75e84",
   "metadata": {},
   "outputs": [],
   "source": [
    "docker image push r97221004/hello:1.0"
   ]
  },
  {
   "cell_type": "raw",
   "id": "b9d557fd",
   "metadata": {},
   "source": [
    "為了驗證，我們可以先把本地的鏡像刪除，再把剛剛上傳的鏡像 pull 下來。"
   ]
  },
  {
   "cell_type": "code",
   "execution_count": null,
   "id": "96647c98",
   "metadata": {},
   "outputs": [],
   "source": [
    "docker image pull r97221004/hello:1.0"
   ]
  },
  {
   "cell_type": "raw",
   "id": "10f29009",
   "metadata": {},
   "source": [
    "最後啟動一個容器來看看。"
   ]
  },
  {
   "cell_type": "code",
   "execution_count": null,
   "id": "5f1e6b6b",
   "metadata": {},
   "outputs": [],
   "source": [
    "docker container run -it r97221004/hello:1.0"
   ]
  },
  {
   "cell_type": "markdown",
   "id": "1397e74a",
   "metadata": {},
   "source": [
    "### 使用容器的 commit 指令去創建鏡像"
   ]
  },
  {
   "cell_type": "raw",
   "id": "ae8984a4",
   "metadata": {},
   "source": [
    "首先我們先運行一個 nginx 的容器。"
   ]
  },
  {
   "cell_type": "code",
   "execution_count": null,
   "id": "b00d7298",
   "metadata": {},
   "outputs": [],
   "source": [
    "docker container run -d -p 8080:80 nginx"
   ]
  },
  {
   "cell_type": "raw",
   "id": "76250ab1",
   "metadata": {},
   "source": [
    "進入容器的內部進行一點簡單的修改，比如把首頁換成 Hello, Docker"
   ]
  },
  {
   "cell_type": "code",
   "execution_count": null,
   "id": "831fc312",
   "metadata": {},
   "outputs": [],
   "source": [
    "docker container exec -it containerId sh\n",
    "cd /usr/share/nginx\n",
    "cd html\n",
    "echo \"<h1>Hello, docker</h1>\" > index.html\n",
    "exit"
   ]
  },
  {
   "cell_type": "raw",
   "id": "445e4b82",
   "metadata": {},
   "source": [
    "可以到瀏覽器看看有沒有修改成功，之後我們停掉再重啟容器，修改還是會存在的。\n",
    "但把容器刪除, 再啟動新的容器, 之前的修改就會不見了!那怎麼保留?\n",
    "使用以下容器的指令，可以把修改過的容器 commit 成鏡像保留下來。前面是容器 ID，後面是鏡像的名稱。"
   ]
  },
  {
   "cell_type": "code",
   "execution_count": null,
   "id": "c993f338",
   "metadata": {},
   "outputs": [],
   "source": [
    "docker container commit containerId r97221004/nginx "
   ]
  },
  {
   "cell_type": "markdown",
   "id": "e74ada91",
   "metadata": {},
   "source": [
    "#### 範例02-使用容器的 commit 指令來完成範例01"
   ]
  },
  {
   "cell_type": "raw",
   "id": "4c5f9eb3",
   "metadata": {},
   "source": [
    "我們現在就把之前用 Dockerfile 構建鏡像的方法用 commit 來試看看吧。\n",
    "首先先進入  ubuntu:21.04 的 shell。"
   ]
  },
  {
   "cell_type": "code",
   "execution_count": null,
   "id": "97752bd2",
   "metadata": {},
   "outputs": [],
   "source": [
    "docker container run -it ubuntu:21.04 sh"
   ]
  },
  {
   "cell_type": "raw",
   "id": "56ac465a",
   "metadata": {},
   "source": [
    "在 shell 裡面下載 python 3。"
   ]
  },
  {
   "cell_type": "code",
   "execution_count": null,
   "id": "90b58cc6",
   "metadata": {},
   "outputs": [],
   "source": [
    "apt-get update &&\\\n",
    "DEBIAN_FRONTEND=noninteractive apt-get install --no-install-recommends -y python3.9 python3-pip python3.9-dev"
   ]
  },
  {
   "cell_type": "raw",
   "id": "398c1752",
   "metadata": {},
   "source": [
    "把 python 檔給添加進來。順便運行看看。"
   ]
  },
  {
   "cell_type": "code",
   "execution_count": null,
   "id": "3bc2f12e",
   "metadata": {},
   "outputs": [],
   "source": [
    "echo \"Hello, Docker\" > hello.py"
   ]
  },
  {
   "cell_type": "raw",
   "id": "402e91a9",
   "metadata": {},
   "source": [
    "使用容器的 commit 指令把容器轉成鏡像。"
   ]
  },
  {
   "cell_type": "code",
   "execution_count": null,
   "id": "432c90de",
   "metadata": {},
   "outputs": [],
   "source": [
    "docker container commit containerId r97221004/python-demo"
   ]
  },
  {
   "cell_type": "raw",
   "id": "f72ad429",
   "metadata": {},
   "source": [
    "最後啟動容器，需在最後的地方加入要操作的指令。"
   ]
  },
  {
   "cell_type": "code",
   "execution_count": null,
   "id": "21b0cf85",
   "metadata": {},
   "outputs": [],
   "source": [
    "docker container run -it r97221004/python-demo python3 ./hello.py"
   ]
  },
  {
   "cell_type": "markdown",
   "id": "3201210e",
   "metadata": {},
   "source": [
    "# scrach 鏡像"
   ]
  },
  {
   "cell_type": "raw",
   "id": "3f16927d",
   "metadata": {},
   "source": [
    "scrach 鏡像是一個空的鏡像，我們下面藉由使用空的鏡像來展示一下鏡像的分層概念。"
   ]
  },
  {
   "cell_type": "raw",
   "id": "fbc6ed86",
   "metadata": {},
   "source": [
    "hello.c 檔:"
   ]
  },
  {
   "cell_type": "code",
   "execution_count": null,
   "id": "210d3ed4",
   "metadata": {},
   "outputs": [],
   "source": [
    "#include<stdio.h>\n",
    "\n",
    "int main()\n",
    "{\n",
    "    printf(\"hello docker\\n\");\n",
    "}"
   ]
  },
  {
   "cell_type": "raw",
   "id": "116010b4",
   "metadata": {},
   "source": [
    "Dockerfile 檔:"
   ]
  },
  {
   "cell_type": "code",
   "execution_count": null,
   "id": "4ce0fd89",
   "metadata": {},
   "outputs": [],
   "source": [
    "from scratch\n",
    "ADD hello /\n",
    "CMD [\"./hello\"]"
   ]
  },
  {
   "cell_type": "raw",
   "id": "0b05802b",
   "metadata": {},
   "source": [
    "首先我們要本這兩個檔案放在同一個目錄底下，且先把 hello.c 編譯成可執行檔。"
   ]
  },
  {
   "cell_type": "code",
   "execution_count": null,
   "id": "0b71cbb6",
   "metadata": {},
   "outputs": [],
   "source": [
    "gcc --static -o hello hello.c"
   ]
  },
  {
   "cell_type": "raw",
   "id": "6fd96518",
   "metadata": {},
   "source": [
    "接下來用 build 指令來建構我們的影像。"
   ]
  },
  {
   "cell_type": "code",
   "execution_count": null,
   "id": "6cb87a56",
   "metadata": {},
   "outputs": [],
   "source": [
    "docker image build -t hello ."
   ]
  },
  {
   "cell_type": "raw",
   "id": "025c87b2",
   "metadata": {},
   "source": [
    "觀察一下鏡像的檔案大小跟原來的 hello 的大小是不是差不多。"
   ]
  },
  {
   "cell_type": "code",
   "execution_count": null,
   "id": "f31395d5",
   "metadata": {},
   "outputs": [],
   "source": [
    "docker image ls\n",
    "ls -l\n",
    "ls -lh"
   ]
  },
  {
   "cell_type": "raw",
   "id": "9957a7ab",
   "metadata": {},
   "source": [
    "最後使用鏡像的 history 指令可以查看到鏡像的分層結構。\n",
    "注意如果現在是把 hello 換成一個 Python 的程序，例如 hello.py，則會運行失敗，因為我們要有 python 的環境才行。"
   ]
  },
  {
   "cell_type": "code",
   "execution_count": null,
   "id": "08ec63e1",
   "metadata": {},
   "outputs": [],
   "source": [
    "docker image history imageId"
   ]
  },
  {
   "cell_type": "markdown",
   "id": "b6288f92",
   "metadata": {},
   "source": [
    "# 快速清除已經沒在使用的鏡像"
   ]
  },
  {
   "cell_type": "raw",
   "id": "2864a1f5",
   "metadata": {},
   "source": [
    "我們可以使用鏡像的 rm 指令來刪除鏡像，可是有時候會顯得麻煩。\n",
    "可以使用 docker image prune -a 來快速刪除已經沒有在使用的鏡像。"
   ]
  }
 ],
 "metadata": {
  "kernelspec": {
   "display_name": "Python 3",
   "language": "python",
   "name": "python3"
  },
  "language_info": {
   "codemirror_mode": {
    "name": "ipython",
    "version": 3
   },
   "file_extension": ".py",
   "mimetype": "text/x-python",
   "name": "python",
   "nbconvert_exporter": "python",
   "pygments_lexer": "ipython3",
   "version": "3.8.10"
  }
 },
 "nbformat": 4,
 "nbformat_minor": 5
}
