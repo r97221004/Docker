{
 "cells": [
  {
   "cell_type": "markdown",
   "id": "d3b3ee61",
   "metadata": {},
   "source": [
    "# 認識一下 Docker 的命令行"
   ]
  },
  {
   "cell_type": "raw",
   "id": "d94c8687",
   "metadata": {},
   "source": [
    "顯示 docker 的版本"
   ]
  },
  {
   "cell_type": "code",
   "execution_count": null,
   "id": "cd72fa85",
   "metadata": {},
   "outputs": [],
   "source": [
    "docker version "
   ]
  },
  {
   "cell_type": "raw",
   "id": "67a8344b",
   "metadata": {},
   "source": [
    "顯示 docker 的基本資訊"
   ]
  },
  {
   "cell_type": "code",
   "execution_count": null,
   "id": "e57ee244",
   "metadata": {},
   "outputs": [],
   "source": [
    "docker info "
   ]
  },
  {
   "cell_type": "raw",
   "id": "f3aaf513",
   "metadata": {},
   "source": [
    "下 docker 指令可以快速地瀏覽一下 docker 常用的指令"
   ]
  },
  {
   "cell_type": "code",
   "execution_count": null,
   "id": "2bf0e098",
   "metadata": {},
   "outputs": [],
   "source": [
    "docker"
   ]
  },
  {
   "cell_type": "raw",
   "id": "d9eb536a",
   "metadata": {},
   "source": [
    "如果想要把範圍更侷限，例如只想看跟 container 相關的指令可以下:"
   ]
  },
  {
   "cell_type": "code",
   "execution_count": null,
   "id": "5da72300",
   "metadata": {},
   "outputs": [],
   "source": [
    "docker container"
   ]
  },
  {
   "cell_type": "raw",
   "id": "7358c6a3",
   "metadata": {},
   "source": [
    "看指令的詳細用法，要在後面加上長選項 --help，例如:"
   ]
  },
  {
   "cell_type": "code",
   "execution_count": null,
   "id": "f5cb1b10",
   "metadata": {},
   "outputs": [],
   "source": [
    "docker container ls --help"
   ]
  },
  {
   "cell_type": "markdown",
   "id": "964d49e0",
   "metadata": {},
   "source": [
    "# 什麼是 docker image ?"
   ]
  },
  {
   "cell_type": "raw",
   "id": "13cd339d",
   "metadata": {},
   "source": [
    "我們都知道，操作系統分為 內核 和 用戶空間。對於 Linux 而言，內核啟動後，會掛載 root 文件系統為其提供用戶空間支持。而 Docker 鏡像（Image），就相當於是一個 root 文件系統。比如官方鏡像 ubuntu:18.04 就包含了完整的一套 Ubuntu 18.04 最小系統的 root 文件系統。Docker 鏡像是一個特殊的文件系統，除了提供容器運行時所需的程序、庫、資源、配置等文件外，還包含了一些為運行時準備的一些配置參數（如匿名卷、環境變量、用戶等）。鏡像 不包含任何動態數據，其內容在構建之後也不會被改變。因為鏡像包含操作系統完整的 root 文件系統，其體積往往是龐大的，因此在 Docker 設計時，就充分利用 Union FS 的技術，將其設計為分層存儲的架構。所以嚴格來說，鏡像並非是像一個 ISO 那樣的打包文件，鏡像只是一個虛擬的概念，其實際體現並非由一個文件組成，而是由一組文件系統組成，或者說，由多層文件系統聯合組成。鏡像構建時，會一層層構建，前一層是後一層的基礎。每一層構建完就不會再發生改變，後一層上的任何改變只發生在自己這一層。比如，刪除前一層文件的操作，實際不是真的刪除前一層的文件，而是僅在當前層標記為該文件已刪除。在最終容器運行的時候，雖然不會看到這個文件，但是實際上該文件會一直跟隨鏡像。因此，在構建鏡像的時候，需要額外小心，每一層盡量只包含該層需要添加的東西，任何額外的東西應該在該層構建結束前清理掉。分層存儲的特征還使得鏡像的覆用、定制變的更為容易。甚至可以用之前構建好的鏡像作為基礎層，然後進一步添加新的層，以定制自己所需的內容，構建新的鏡像。\n",
    "\n",
    "# Docker image 是一個 read-only 文件\n",
    "# 這個文件包含文件系統，源碼，庫文件，依賴，工具等一些運行 application 所需要的文件\n",
    "# 可以理解成一個模板\n",
    "# docker image 具有分層的概念"
   ]
  },
  {
   "cell_type": "markdown",
   "id": "527050aa",
   "metadata": {},
   "source": [
    "# 什麼是 docker container ?"
   ]
  },
  {
   "cell_type": "raw",
   "id": "18897595",
   "metadata": {},
   "source": [
    "鏡像（Image）和容器（Container）的關系，就像是面向對象程序設計中的類和實例一樣，鏡像是靜態的定義，容器是鏡像運行時的實體。容器可以被創建、啟動、停止、刪除、暫停等。容器的實質是進程，但與直接在宿主執行的進程不同，容器進程運行於屬於自己的獨立的命名空間。因此容器可以擁有自己的 root 文件系統、自己的網絡配置、自己的進程空間，甚至自己的用戶 ID 空間。容器內的進程是運行在一個隔離的環境裡，使用起來，就好像是在一個獨立於宿主的系統下操作一樣。這種特性使得容器封裝的應用比直接在宿主運行更加安全。也因為這種隔離的特性，很多人初學 Docker 時常常會混淆容器和虛擬機。前面講過鏡像使用的是分層存儲，容器也是如此。每一個容器運行時，是以鏡像為基礎層，在其上創建一個當前容器的存儲層，我們可以稱這個為容器運行時為了讀寫而準備的存儲層為容器存儲層。容器存儲層的生存周期和容器一樣，容器消亡時，容器存儲層也隨之消亡。因此，任何保存於容器存儲層的信息都會隨容器刪除而丟失。按照 Docker 最佳實踐的要求，容器不應該向其存儲層內寫入任何數據，容器存儲層要保持無狀態化。所有的文件寫入操作，都應該使用數據卷（Volume）、或者綁定宿主目錄，在這些位置的讀寫會跳過容器存儲層，直接對宿主（或網絡存儲）發生讀寫，其性能和穩定性更高。數據卷的生存周期獨立於容器，容器消亡，數據卷不會消亡。因此，使用數據卷後，容器刪除或者重新運行之後，數據卻不會丟失。\n",
    "\n",
    "# 一個運行中的 docker image\n",
    "# 實質是複製 image 並在 image 最上層加上一層 read-write 的層（稱之為 container layer，容器層）\n",
    "# 基於同一個 image 可以創建多個 container"
   ]
  },
  {
   "cell_type": "markdown",
   "id": "c4e98cb4",
   "metadata": {},
   "source": [
    "<img src=\"img/1.png\">"
   ]
  },
  {
   "cell_type": "markdown",
   "id": "b2e1493f",
   "metadata": {},
   "source": [
    "# 容器的查看、新增、刪除"
   ]
  },
  {
   "cell_type": "raw",
   "id": "fb4c1e84",
   "metadata": {},
   "source": [
    "啟動容器，如果沒有鏡像會幫忙拉取, 在前台執行。"
   ]
  },
  {
   "cell_type": "code",
   "execution_count": null,
   "id": "c275a3c1",
   "metadata": {},
   "outputs": [],
   "source": [
    "docker container run nginx"
   ]
  },
  {
   "cell_type": "raw",
   "id": "2e7c020c",
   "metadata": {},
   "source": [
    "現在可以再開一個 Terminal 輸入指令來查看一下容器情況。沒有加 -a 只會顯示 up 的容器。\n",
    "加入 -a 會顯示全部的容器。"
   ]
  },
  {
   "cell_type": "code",
   "execution_count": null,
   "id": "1ed2179d",
   "metadata": {},
   "outputs": [],
   "source": [
    "docker container ls -a"
   ]
  },
  {
   "cell_type": "raw",
   "id": "6541d31c",
   "metadata": {},
   "source": [
    "把容器停止，可以輸入 CONTAINER ID，也可以輸入 NAMES。"
   ]
  },
  {
   "cell_type": "code",
   "execution_count": null,
   "id": "e3cc083a",
   "metadata": {},
   "outputs": [],
   "source": [
    "docker container stop containerId"
   ]
  },
  {
   "cell_type": "raw",
   "id": "555c2221",
   "metadata": {},
   "source": [
    "把容器給刪除"
   ]
  },
  {
   "cell_type": "code",
   "execution_count": null,
   "id": "1608cd97",
   "metadata": {},
   "outputs": [],
   "source": [
    "docker container rm containerId "
   ]
  },
  {
   "cell_type": "raw",
   "id": "28d238f6",
   "metadata": {},
   "source": [
    "加入短選項 -d 的話，容器會在背後執行。"
   ]
  },
  {
   "cell_type": "code",
   "execution_count": null,
   "id": "47fffeed",
   "metadata": {},
   "outputs": [],
   "source": [
    "docker container run -d nginx "
   ]
  },
  {
   "cell_type": "raw",
   "id": "f0b31dfb",
   "metadata": {},
   "source": [
    "加入短選項 -aq 只會列出所有的 CONTAINER ID "
   ]
  },
  {
   "cell_type": "code",
   "execution_count": null,
   "id": "dec2de20",
   "metadata": {},
   "outputs": [],
   "source": [
    "docker container ls -aq"
   ]
  },
  {
   "cell_type": "raw",
   "id": "a42a7b7a",
   "metadata": {},
   "source": [
    "如果想要一次停止很多容器，可以使用:"
   ]
  },
  {
   "cell_type": "code",
   "execution_count": null,
   "id": "f49d5d9d",
   "metadata": {},
   "outputs": [],
   "source": [
    "docker container stop containerId1 containerId2 containerId3 "
   ]
  },
  {
   "cell_type": "raw",
   "id": "8d8d1f2f",
   "metadata": {},
   "source": [
    "更簡潔的寫法:"
   ]
  },
  {
   "cell_type": "code",
   "execution_count": null,
   "id": "edbe7652",
   "metadata": {},
   "outputs": [],
   "source": [
    "docker container stop $(sudo docker ls -aq)"
   ]
  },
  {
   "cell_type": "raw",
   "id": "3c0073a8",
   "metadata": {},
   "source": [
    "在運行的容器沒辦法刪除，可以使用短選項 -f 來強制刪除"
   ]
  },
  {
   "cell_type": "code",
   "execution_count": null,
   "id": "f46b9e64",
   "metadata": {},
   "outputs": [],
   "source": [
    "docker container rm -f containerId "
   ]
  },
  {
   "cell_type": "markdown",
   "id": "967d2aa4",
   "metadata": {},
   "source": [
    "# 容器的 attached 和 detached 模式"
   ]
  },
  {
   "cell_type": "raw",
   "id": "eb26a94a",
   "metadata": {},
   "source": [
    "預設是 attached 模式，也就是前台執行。把 docker 內部的 80 port 轉到外部的 8080 port。\n",
    "刷新網頁，可以在後台看到 log，按 Ctrl + C 也可以把指令傳遞進入容器，把容器給退出。"
   ]
  },
  {
   "cell_type": "code",
   "execution_count": null,
   "id": "60f8dd48",
   "metadata": {},
   "outputs": [],
   "source": [
    "docker container run -p 8080:80 nginx"
   ]
  },
  {
   "cell_type": "raw",
   "id": "a16e2b97",
   "metadata": {},
   "source": [
    "datched 模式，後台執行，較為推薦的做法。"
   ]
  },
  {
   "cell_type": "code",
   "execution_count": null,
   "id": "df36a690",
   "metadata": {},
   "outputs": [],
   "source": [
    "docker container run -d -p 8080:80 nginx"
   ]
  },
  {
   "cell_type": "raw",
   "id": "438ef2b4",
   "metadata": {},
   "source": [
    "把後台執行的容器改回前台執行。"
   ]
  },
  {
   "cell_type": "code",
   "execution_count": null,
   "id": "aabe253d",
   "metadata": {},
   "outputs": [],
   "source": [
    "docker container attach containerId"
   ]
  },
  {
   "cell_type": "markdown",
   "id": "aaa28572",
   "metadata": {},
   "source": [
    "# 容器的交互式模式"
   ]
  },
  {
   "cell_type": "raw",
   "id": "64aa3a76",
   "metadata": {},
   "source": [
    "首先我們先啟動一個 nginx 的容器"
   ]
  },
  {
   "cell_type": "code",
   "execution_count": null,
   "id": "8a461039",
   "metadata": {},
   "outputs": [],
   "source": [
    "docker container run -d -p 8080:80 nginx "
   ]
  },
  {
   "cell_type": "raw",
   "id": "51ca3120",
   "metadata": {},
   "source": [
    "因為是在後台執行，無法直接看到 logs，想看到 logs 可以下以下的指令:"
   ]
  },
  {
   "cell_type": "code",
   "execution_count": null,
   "id": "84f19737",
   "metadata": {},
   "outputs": [],
   "source": [
    "docker container logs containerId"
   ]
  },
  {
   "cell_type": "raw",
   "id": "418ec84f",
   "metadata": {},
   "source": [
    "如果想要讓 logs 動態的更新，可以加入短選項 -f"
   ]
  },
  {
   "cell_type": "code",
   "execution_count": null,
   "id": "c1229fd5",
   "metadata": {},
   "outputs": [],
   "source": [
    "docker container logs -f containerId"
   ]
  },
  {
   "cell_type": "markdown",
   "id": "89835bb2",
   "metadata": {},
   "source": [
    "### 直接進入交互模式"
   ]
  },
  {
   "cell_type": "raw",
   "id": "a7474f45",
   "metadata": {},
   "source": [
    "以下是容器交互模式，會先創建一個 ubuntu 的容器，然後執行 sh 指令。\n",
    "現在可以容器內執行一些基本的 linux 指令。"
   ]
  },
  {
   "cell_type": "code",
   "execution_count": null,
   "id": "b8b17e88",
   "metadata": {},
   "outputs": [],
   "source": [
    "docker container run -it ubuntu sh"
   ]
  },
  {
   "cell_type": "raw",
   "id": "90e93559",
   "metadata": {},
   "source": [
    "一樣的道理，我們來試試以下的指令。\n",
    "注意執行一些 Linux 完之後，按 exit 退出之後，這個容器也會跟著退出。"
   ]
  },
  {
   "cell_type": "code",
   "execution_count": null,
   "id": "39e688c7",
   "metadata": {},
   "outputs": [],
   "source": [
    "docker container run -it busybox sh"
   ]
  },
  {
   "cell_type": "markdown",
   "id": "b39dce50",
   "metadata": {},
   "source": [
    "### 間接進入交互模式"
   ]
  },
  {
   "cell_type": "raw",
   "id": "0e6f28bd",
   "metadata": {},
   "source": [
    "另外一種情況，如果容器已經啟動，要怎麼進入容器的內部呢?\n",
    "首先我們先啟動 nginx 的容器。"
   ]
  },
  {
   "cell_type": "code",
   "execution_count": null,
   "id": "e6191773",
   "metadata": {},
   "outputs": [],
   "source": [
    "docker container run -d -p 8080:80 nginx"
   ]
  },
  {
   "cell_type": "raw",
   "id": "33859a8a",
   "metadata": {},
   "source": [
    "執行以下的指令。\n",
    "跟指定的容器進行交互式的互動，如果操作完基本的 linux 指令，按 exit 退出後，此時 nginx 容器不會被退出。\n",
    "因為這次容器早就在運行中了。"
   ]
  },
  {
   "cell_type": "code",
   "execution_count": null,
   "id": "3f06a0c4",
   "metadata": {},
   "outputs": [],
   "source": [
    "docker container exec -it containerId sh"
   ]
  },
  {
   "cell_type": "markdown",
   "id": "bd2b6721",
   "metadata": {},
   "source": [
    "### 容器就是進程(process)"
   ]
  },
  {
   "cell_type": "raw",
   "id": "8282577e",
   "metadata": {},
   "source": [
    "首先我們先啟動一個 nginx 的容器"
   ]
  },
  {
   "cell_type": "code",
   "execution_count": null,
   "id": "eba419d2",
   "metadata": {},
   "outputs": [],
   "source": [
    "docker container run -d nginx"
   ]
  },
  {
   "cell_type": "raw",
   "id": "9cb405f2",
   "metadata": {},
   "source": [
    "可以使用容器的 top 指令列出所有跟容器 nginx 相關的進程"
   ]
  },
  {
   "cell_type": "code",
   "execution_count": null,
   "id": "04f0efdf",
   "metadata": {},
   "outputs": [],
   "source": [
    "docker container top containerId"
   ]
  },
  {
   "cell_type": "raw",
   "id": "be1d7700",
   "metadata": {},
   "source": [
    "我們可以對結果進行驗證，會發現結果是一樣的。"
   ]
  },
  {
   "cell_type": "code",
   "execution_count": null,
   "id": "99ffd14a",
   "metadata": {},
   "outputs": [],
   "source": [
    "ps aux | grep nginx"
   ]
  },
  {
   "cell_type": "raw",
   "id": "0b564c46",
   "metadata": {},
   "source": [
    "使用 pstree 指令來觀察進程的樹狀結構。\n",
    "如果沒有這項指令可透過 sudo apt-get install psmisc 或 yum install psmisc 進行安裝。"
   ]
  },
  {
   "cell_type": "code",
   "execution_count": null,
   "id": "8ddc6cf6",
   "metadata": {},
   "outputs": [],
   "source": [
    "pstree -halps PID"
   ]
  },
  {
   "cell_type": "markdown",
   "id": "7ec52c10",
   "metadata": {},
   "source": [
    "### 容器內的 PID 不會是容器外的 PID，他們是映射關係"
   ]
  },
  {
   "cell_type": "raw",
   "id": "2689e75c",
   "metadata": {},
   "source": [
    "再給另一例子，用來說明容器內的 PID 不會是容器外的 PID，他們是映射關係。\n",
    "首先先啟動 busybox 的容器，然後進入容器的 shell。\n",
    "進去之後輸入 ps aux，得到進程的 PID。"
   ]
  },
  {
   "cell_type": "code",
   "execution_count": null,
   "id": "b871a33f",
   "metadata": {},
   "outputs": [],
   "source": [
    "docker container run -it busybox sh"
   ]
  },
  {
   "cell_type": "raw",
   "id": "0457028c",
   "metadata": {},
   "source": [
    "開啟另一個終端機，輸入以下指令，可看出其差別。"
   ]
  },
  {
   "cell_type": "code",
   "execution_count": null,
   "id": "3742130e",
   "metadata": {},
   "outputs": [],
   "source": [
    "docker container top containerId"
   ]
  },
  {
   "cell_type": "markdown",
   "id": "ba973ed9",
   "metadata": {},
   "source": [
    "# Docker 與虛擬主機的差異"
   ]
  },
  {
   "cell_type": "markdown",
   "id": "e8b2e08a",
   "metadata": {},
   "source": [
    "<img src=\"img/2.png\">"
   ]
  },
  {
   "cell_type": "raw",
   "id": "eb02f416",
   "metadata": {},
   "source": [
    "這是一個刁鑽的問題，大多數情況下，有關 Docker 與 VM 的差異常被討論，以下點出 VM 與 Docker 容器的相同與不同處。"
   ]
  },
  {
   "cell_type": "markdown",
   "id": "00b4bf00",
   "metadata": {},
   "source": [
    "### 相同之處"
   ]
  },
  {
   "cell_type": "markdown",
   "id": "38977e8d",
   "metadata": {},
   "source": [
    "<img src=\"img/4.png\">"
   ]
  },
  {
   "cell_type": "markdown",
   "id": "2966c71c",
   "metadata": {},
   "source": [
    "### 相異之處"
   ]
  },
  {
   "cell_type": "markdown",
   "id": "85d83796",
   "metadata": {},
   "source": [
    "<img src=\"img/3.png\">"
   ]
  },
  {
   "cell_type": "markdown",
   "id": "1a957887",
   "metadata": {},
   "source": [
    "# docker container run 背後發生了什麽？"
   ]
  },
  {
   "cell_type": "code",
   "execution_count": null,
   "id": "a720ed7a",
   "metadata": {},
   "outputs": [],
   "source": [
    "docker container run -d --publish 80:80 --name webhost nginx"
   ]
  },
  {
   "cell_type": "raw",
   "id": "6c532330",
   "metadata": {},
   "source": [
    "如果我們執行了上面的指令，docker engine 會幫我們依序做哪些事情呢?\n",
    "\n",
    "1. 在本地查找是否有 nginx 這個 image 鏡像，如果有會直接執行第 4 步，如果沒有發現就執行第 2 步。\n",
    "2. 去遠程的 image registry 查找 nginx 鏡像（默認的 registry 是 Docker Hub)\n",
    "3. 下載最新版本的 nginx 鏡像 （nginx:latest 默認)\n",
    "4. 基於 nginx 鏡像來創建一個新的容器，並且準備運行\n",
    "5. docker engine 分配給這個容器一個虛擬 IP 地址\n",
    "6. 在宿主機上打開 80 端口並把容器的 80 端口轉發到宿主機上\n",
    "7. 啟動容器，運行指定的命令（因為我們沒有接命令，這裏是一個 shell 腳本去啟動 nginx）"
   ]
  },
  {
   "cell_type": "markdown",
   "id": "79043cab",
   "metadata": {},
   "source": [
    "# 快速清除已經退出的容器"
   ]
  },
  {
   "cell_type": "raw",
   "id": "5a32623a",
   "metadata": {},
   "source": [
    "我們可以使用容器的 rm 指令來刪除容器，可是有時候會顯得麻煩。有幾種辦法:\n",
    "\n",
    "1. 使用 docker system prune -f 會快速刪除已經退出的容器。\n",
    "2. 使用長選項 --rm 會在容器退出後刪除。"
   ]
  }
 ],
 "metadata": {
  "kernelspec": {
   "display_name": "Python 3",
   "language": "python",
   "name": "python3"
  },
  "language_info": {
   "codemirror_mode": {
    "name": "ipython",
    "version": 3
   },
   "file_extension": ".py",
   "mimetype": "text/x-python",
   "name": "python",
   "nbconvert_exporter": "python",
   "pygments_lexer": "ipython3",
   "version": "3.8.10"
  }
 },
 "nbformat": 4,
 "nbformat_minor": 5
}
